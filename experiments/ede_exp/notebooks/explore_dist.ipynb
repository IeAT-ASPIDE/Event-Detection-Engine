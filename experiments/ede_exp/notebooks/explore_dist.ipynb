{
 "cells": [
  {
   "cell_type": "code",
   "execution_count": 10,
   "metadata": {
    "collapsed": true
   },
   "outputs": [
    {
     "name": "stdout",
     "output_type": "stream",
     "text": [
      "Checking files in data location ...\n",
      "audsome_single_anomaly_nooverlap.log\n",
      "done\n",
      "logs\n",
      "misc\n",
      "pr_data_audsome_anomaly_single_nooverlap.csv\n",
      "processed\n",
      "\n",
      "Anomaly log dir: /Users/Gabriel/Dropbox/Research/ASPIDE/Datasets/ECI Chaos/Distributed Phase 1/logs\n",
      "Data dir: /Users/Gabriel/Dropbox/Research/ASPIDE/Datasets/ECI Chaos/Distributed Phase 1\n",
      "Processed dir: /Users/Gabriel/Dropbox/Research/ASPIDE/Datasets/ECI Chaos/Distributed Phase 1/processed\n"
     ]
    }
   ],
   "source": [
    "import numpy as np\n",
    "np.random.seed(42)\n",
    "import matplotlib.pyplot as plt\n",
    "import seaborn as sns\n",
    "from subprocess import check_output\n",
    "import os\n",
    "import pandas as pd\n",
    "%matplotlib inline\n",
    "\n",
    "print(\"Checking files in data location ...\")\n",
    "drop_dir = '/Users/Gabriel/Dropbox/Research/ASPIDE/Datasets/ECI Chaos/Distributed Phase 1'\n",
    "print(check_output([\"ls\", drop_dir]).decode(\"utf8\"))\n",
    "# Logs\n",
    "anomaly_logs_dir = os.path.join(drop_dir, 'logs')\n",
    "print(\"Anomaly log dir: {}\".format(anomaly_logs_dir))\n",
    "data_dir = drop_dir\n",
    "print(\"Data dir: {}\".format(data_dir))\n",
    "\n",
    "processed_dir = os.path.join(data_dir, 'processed')\n",
    "print(\"Processed dir: {}\".format(processed_dir))\n",
    "# Node ID list\n",
    "# nodes = ['master', '1', '2', '3']\n",
    "nodes = ['master']"
   ]
  },
  {
   "cell_type": "code",
   "execution_count": 11,
   "outputs": [
    {
     "name": "stdout",
     "output_type": "stream",
     "text": [
      "Anomaly data shape: (4800, 774)\n"
     ]
    }
   ],
   "source": [
    "# df_clean = pd.read_csv(os.path.join(data_dir,\"pr_data_clean(65m).csv\"))\n",
    "df_anomaly = pd.read_csv(os.path.join(data_dir,\"pr_data_audsome_anomaly_single_nooverlap.csv\"))\n",
    "# df_audsome = pd.read_csv(os.path.join(data_dir,\"pr_data_audesome_clean(1h).csv\"))\n",
    "# df_audsome_anomaly = pd.read_csv(os.path.join(data_dir,\"pr_data_audesome_anomalies(65m).csv\"))\n",
    "# print(\"Clean data shape: {}\".format(df_clean.shape))\n",
    "print(\"Anomaly data shape: {}\".format(df_anomaly.shape))\n",
    "# print(\"Clean AUDSOME data shape: {}\".format(df_audsome.shape))\n",
    "# print(\"Anomaly AUDSOME data shape: {}\".format(df_audsome_anomaly.shape))"
   ],
   "metadata": {
    "collapsed": false,
    "pycharm": {
     "name": "#%%\n"
    }
   }
  },
  {
   "cell_type": "code",
   "execution_count": 12,
   "outputs": [],
   "source": [
    "# Drop first column\n",
    "# df_clean.drop([\"Unnamed: 0\"], axis=1, inplace=True)\n",
    "df_anomaly.drop([\"Unnamed: 0\"], axis=1, inplace=True)\n",
    "# df_audsome.drop([\"Unnamed: 0\"], axis=1, inplace=True)\n",
    "# df_audsome_anomaly.drop([\"Unnamed: 0\"], axis=1, inplace=True)"
   ],
   "metadata": {
    "collapsed": false,
    "pycharm": {
     "name": "#%%\n"
    }
   }
  },
  {
   "cell_type": "code",
   "execution_count": 13,
   "outputs": [
    {
     "data": {
      "text/plain": "      node_arp_entries_10.251.0.114:9100  \\\n0                                      6   \n1                                      6   \n2                                      6   \n3                                      6   \n4                                      6   \n...                                  ...   \n4795                                   6   \n4796                                   6   \n4797                                   6   \n4798                                   6   \n4799                                   6   \n\n      node_boot_time_seconds_10.251.0.114:9100  \\\n0                                   1620821678   \n1                                   1620821678   \n2                                   1620821678   \n3                                   1620821678   \n4                                   1620821678   \n...                                        ...   \n4795                                1620821678   \n4796                                1620821678   \n4797                                1620821678   \n4798                                1620821678   \n4799                                1620821678   \n\n      node_context_switches_total_10.251.0.114:9100  \\\n0                                        3155029153   \n1                                        3155029535   \n2                                        3155030046   \n3                                        3155030567   \n4                                        3155031313   \n...                                             ...   \n4795                                     3163166748   \n4796                                     3163167546   \n4797                                     3163168104   \n4798                                     3163168738   \n4799                                     3163169386   \n\n      node_cpu_guest_seconds_total_10.251.0.114:9100  \\\n0                                                  0   \n1                                                  0   \n2                                                  0   \n3                                                  0   \n4                                                  0   \n...                                              ...   \n4795                                               0   \n4796                                               0   \n4797                                               0   \n4798                                               0   \n4799                                               0   \n\n      node_cpu_seconds_total_10.251.0.114:9100  \\\n0                                     63548.97   \n1                                     63548.97   \n2                                     63548.99   \n3                                     63549.00   \n4                                     63549.00   \n...                                        ...   \n4795                                  65794.22   \n4796                                  65794.23   \n4797                                  65794.24   \n4798                                  65794.25   \n4799                                  65794.25   \n\n      node_disk_io_now_10.251.0.114:9100  \\\n0                                      0   \n1                                      0   \n2                                      0   \n3                                      0   \n4                                      0   \n...                                  ...   \n4795                                   0   \n4796                                   0   \n4797                                   0   \n4798                                   0   \n4799                                   0   \n\n      node_disk_io_time_seconds_total_10.251.0.114:9100  \\\n0                                             27334.180   \n1                                             27334.180   \n2                                             27334.180   \n3                                             27334.180   \n4                                             27334.180   \n...                                                 ...   \n4795                                          27547.204   \n4796                                          27547.204   \n4797                                          27547.204   \n4798                                          27547.288   \n4799                                          27547.288   \n\n      node_disk_io_time_weighted_seconds_total_10.251.0.114:9100  \\\n0                                            186083.668            \n1                                            186083.668            \n2                                            186083.668            \n3                                            186083.668            \n4                                            186083.668            \n...                                                 ...            \n4795                                         186730.896            \n4796                                         186730.896            \n4797                                         186730.896            \n4798                                         186731.328            \n4799                                         186731.328            \n\n      node_disk_read_bytes_total_10.251.0.114:9100  \\\n0                                      37911559168   \n1                                      37911559168   \n2                                      37911559168   \n3                                      37911559168   \n4                                      37911559168   \n...                                            ...   \n4795                                   72843660288   \n4796                                   72843660288   \n4797                                   72843660288   \n4798                                   72843660288   \n4799                                   72843660288   \n\n      node_disk_read_time_seconds_total_10.251.0.114:9100  ...  \\\n0                                              1189.212    ...   \n1                                              1189.212    ...   \n2                                              1189.212    ...   \n3                                              1189.212    ...   \n4                                              1189.212    ...   \n...                                                 ...    ...   \n4795                                           1820.880    ...   \n4796                                           1820.880    ...   \n4797                                           1820.880    ...   \n4798                                           1820.880    ...   \n4799                                           1820.880    ...   \n\n      node_timex_tick_seconds_10.251.0.114:9100  \\\n0                                          0.01   \n1                                          0.01   \n2                                          0.01   \n3                                          0.01   \n4                                          0.01   \n...                                         ...   \n4795                                       0.01   \n4796                                       0.01   \n4797                                       0.01   \n4798                                       0.01   \n4799                                       0.01   \n\n      node_uname_info_10.251.0.114:9100  \\\n0                                     1   \n1                                     1   \n2                                     1   \n3                                     1   \n4                                     1   \n...                                 ...   \n4795                                  1   \n4796                                  1   \n4797                                  1   \n4798                                  1   \n4799                                  1   \n\n      node_vmstat_oom_kill_10.251.0.114:9100  \\\n0                                          0   \n1                                          0   \n2                                          0   \n3                                          0   \n4                                          0   \n...                                      ...   \n4795                                       0   \n4796                                       0   \n4797                                       0   \n4798                                       0   \n4799                                       0   \n\n      node_vmstat_pgfault_10.251.0.114:9100  \\\n0                                 626853501   \n1                                 626853501   \n2                                 626853501   \n3                                 626853501   \n4                                 626853501   \n...                                     ...   \n4795                              632460820   \n4796                              632461449   \n4797                              632461449   \n4798                              632461451   \n4799                              632461451   \n\n      node_vmstat_pgmajfault_10.251.0.114:9100  \\\n0                                         7897   \n1                                         7897   \n2                                         7897   \n3                                         7897   \n4                                         7897   \n...                                        ...   \n4795                                      9563   \n4796                                      9563   \n4797                                      9563   \n4798                                      9563   \n4799                                      9563   \n\n      node_vmstat_pgpgin_10.251.0.114:9100  \\\n0                                 37023016   \n1                                 37023016   \n2                                 37023016   \n3                                 37023016   \n4                                 37023016   \n...                                    ...   \n4795                              71136396   \n4796                              71136396   \n4797                              71136396   \n4798                              71136396   \n4799                              71136396   \n\n      node_vmstat_pgpgout_10.251.0.114:9100  \\\n0                                 621356731   \n1                                 621356731   \n2                                 621356731   \n3                                 621356731   \n4                                 621356731   \n...                                     ...   \n4795                              626264991   \n4796                              626264991   \n4797                              626264991   \n4798                              626266535   \n4799                              626266535   \n\n      node_vmstat_pswpin_10.251.0.114:9100  \\\n0                                        0   \n1                                        0   \n2                                        0   \n3                                        0   \n4                                        0   \n...                                    ...   \n4795                                     0   \n4796                                     0   \n4797                                     0   \n4798                                     0   \n4799                                     0   \n\n      node_vmstat_pswpout_10.251.0.114:9100          time  \n0                                         0  1.626380e+09  \n1                                         0  1.626380e+09  \n2                                         0  1.626380e+09  \n3                                         0  1.626380e+09  \n4                                         0  1.626380e+09  \n...                                     ...           ...  \n4795                                      0  1.626385e+09  \n4796                                      0  1.626385e+09  \n4797                                      0  1.626385e+09  \n4798                                      0  1.626385e+09  \n4799                                      0  1.626385e+09  \n\n[4800 rows x 194 columns]",
      "text/html": "<div>\n<style scoped>\n    .dataframe tbody tr th:only-of-type {\n        vertical-align: middle;\n    }\n\n    .dataframe tbody tr th {\n        vertical-align: top;\n    }\n\n    .dataframe thead th {\n        text-align: right;\n    }\n</style>\n<table border=\"1\" class=\"dataframe\">\n  <thead>\n    <tr style=\"text-align: right;\">\n      <th></th>\n      <th>node_arp_entries_10.251.0.114:9100</th>\n      <th>node_boot_time_seconds_10.251.0.114:9100</th>\n      <th>node_context_switches_total_10.251.0.114:9100</th>\n      <th>node_cpu_guest_seconds_total_10.251.0.114:9100</th>\n      <th>node_cpu_seconds_total_10.251.0.114:9100</th>\n      <th>node_disk_io_now_10.251.0.114:9100</th>\n      <th>node_disk_io_time_seconds_total_10.251.0.114:9100</th>\n      <th>node_disk_io_time_weighted_seconds_total_10.251.0.114:9100</th>\n      <th>node_disk_read_bytes_total_10.251.0.114:9100</th>\n      <th>node_disk_read_time_seconds_total_10.251.0.114:9100</th>\n      <th>...</th>\n      <th>node_timex_tick_seconds_10.251.0.114:9100</th>\n      <th>node_uname_info_10.251.0.114:9100</th>\n      <th>node_vmstat_oom_kill_10.251.0.114:9100</th>\n      <th>node_vmstat_pgfault_10.251.0.114:9100</th>\n      <th>node_vmstat_pgmajfault_10.251.0.114:9100</th>\n      <th>node_vmstat_pgpgin_10.251.0.114:9100</th>\n      <th>node_vmstat_pgpgout_10.251.0.114:9100</th>\n      <th>node_vmstat_pswpin_10.251.0.114:9100</th>\n      <th>node_vmstat_pswpout_10.251.0.114:9100</th>\n      <th>time</th>\n    </tr>\n  </thead>\n  <tbody>\n    <tr>\n      <th>0</th>\n      <td>6</td>\n      <td>1620821678</td>\n      <td>3155029153</td>\n      <td>0</td>\n      <td>63548.97</td>\n      <td>0</td>\n      <td>27334.180</td>\n      <td>186083.668</td>\n      <td>37911559168</td>\n      <td>1189.212</td>\n      <td>...</td>\n      <td>0.01</td>\n      <td>1</td>\n      <td>0</td>\n      <td>626853501</td>\n      <td>7897</td>\n      <td>37023016</td>\n      <td>621356731</td>\n      <td>0</td>\n      <td>0</td>\n      <td>1.626380e+09</td>\n    </tr>\n    <tr>\n      <th>1</th>\n      <td>6</td>\n      <td>1620821678</td>\n      <td>3155029535</td>\n      <td>0</td>\n      <td>63548.97</td>\n      <td>0</td>\n      <td>27334.180</td>\n      <td>186083.668</td>\n      <td>37911559168</td>\n      <td>1189.212</td>\n      <td>...</td>\n      <td>0.01</td>\n      <td>1</td>\n      <td>0</td>\n      <td>626853501</td>\n      <td>7897</td>\n      <td>37023016</td>\n      <td>621356731</td>\n      <td>0</td>\n      <td>0</td>\n      <td>1.626380e+09</td>\n    </tr>\n    <tr>\n      <th>2</th>\n      <td>6</td>\n      <td>1620821678</td>\n      <td>3155030046</td>\n      <td>0</td>\n      <td>63548.99</td>\n      <td>0</td>\n      <td>27334.180</td>\n      <td>186083.668</td>\n      <td>37911559168</td>\n      <td>1189.212</td>\n      <td>...</td>\n      <td>0.01</td>\n      <td>1</td>\n      <td>0</td>\n      <td>626853501</td>\n      <td>7897</td>\n      <td>37023016</td>\n      <td>621356731</td>\n      <td>0</td>\n      <td>0</td>\n      <td>1.626380e+09</td>\n    </tr>\n    <tr>\n      <th>3</th>\n      <td>6</td>\n      <td>1620821678</td>\n      <td>3155030567</td>\n      <td>0</td>\n      <td>63549.00</td>\n      <td>0</td>\n      <td>27334.180</td>\n      <td>186083.668</td>\n      <td>37911559168</td>\n      <td>1189.212</td>\n      <td>...</td>\n      <td>0.01</td>\n      <td>1</td>\n      <td>0</td>\n      <td>626853501</td>\n      <td>7897</td>\n      <td>37023016</td>\n      <td>621356731</td>\n      <td>0</td>\n      <td>0</td>\n      <td>1.626380e+09</td>\n    </tr>\n    <tr>\n      <th>4</th>\n      <td>6</td>\n      <td>1620821678</td>\n      <td>3155031313</td>\n      <td>0</td>\n      <td>63549.00</td>\n      <td>0</td>\n      <td>27334.180</td>\n      <td>186083.668</td>\n      <td>37911559168</td>\n      <td>1189.212</td>\n      <td>...</td>\n      <td>0.01</td>\n      <td>1</td>\n      <td>0</td>\n      <td>626853501</td>\n      <td>7897</td>\n      <td>37023016</td>\n      <td>621356731</td>\n      <td>0</td>\n      <td>0</td>\n      <td>1.626380e+09</td>\n    </tr>\n    <tr>\n      <th>...</th>\n      <td>...</td>\n      <td>...</td>\n      <td>...</td>\n      <td>...</td>\n      <td>...</td>\n      <td>...</td>\n      <td>...</td>\n      <td>...</td>\n      <td>...</td>\n      <td>...</td>\n      <td>...</td>\n      <td>...</td>\n      <td>...</td>\n      <td>...</td>\n      <td>...</td>\n      <td>...</td>\n      <td>...</td>\n      <td>...</td>\n      <td>...</td>\n      <td>...</td>\n      <td>...</td>\n    </tr>\n    <tr>\n      <th>4795</th>\n      <td>6</td>\n      <td>1620821678</td>\n      <td>3163166748</td>\n      <td>0</td>\n      <td>65794.22</td>\n      <td>0</td>\n      <td>27547.204</td>\n      <td>186730.896</td>\n      <td>72843660288</td>\n      <td>1820.880</td>\n      <td>...</td>\n      <td>0.01</td>\n      <td>1</td>\n      <td>0</td>\n      <td>632460820</td>\n      <td>9563</td>\n      <td>71136396</td>\n      <td>626264991</td>\n      <td>0</td>\n      <td>0</td>\n      <td>1.626385e+09</td>\n    </tr>\n    <tr>\n      <th>4796</th>\n      <td>6</td>\n      <td>1620821678</td>\n      <td>3163167546</td>\n      <td>0</td>\n      <td>65794.23</td>\n      <td>0</td>\n      <td>27547.204</td>\n      <td>186730.896</td>\n      <td>72843660288</td>\n      <td>1820.880</td>\n      <td>...</td>\n      <td>0.01</td>\n      <td>1</td>\n      <td>0</td>\n      <td>632461449</td>\n      <td>9563</td>\n      <td>71136396</td>\n      <td>626264991</td>\n      <td>0</td>\n      <td>0</td>\n      <td>1.626385e+09</td>\n    </tr>\n    <tr>\n      <th>4797</th>\n      <td>6</td>\n      <td>1620821678</td>\n      <td>3163168104</td>\n      <td>0</td>\n      <td>65794.24</td>\n      <td>0</td>\n      <td>27547.204</td>\n      <td>186730.896</td>\n      <td>72843660288</td>\n      <td>1820.880</td>\n      <td>...</td>\n      <td>0.01</td>\n      <td>1</td>\n      <td>0</td>\n      <td>632461449</td>\n      <td>9563</td>\n      <td>71136396</td>\n      <td>626264991</td>\n      <td>0</td>\n      <td>0</td>\n      <td>1.626385e+09</td>\n    </tr>\n    <tr>\n      <th>4798</th>\n      <td>6</td>\n      <td>1620821678</td>\n      <td>3163168738</td>\n      <td>0</td>\n      <td>65794.25</td>\n      <td>0</td>\n      <td>27547.288</td>\n      <td>186731.328</td>\n      <td>72843660288</td>\n      <td>1820.880</td>\n      <td>...</td>\n      <td>0.01</td>\n      <td>1</td>\n      <td>0</td>\n      <td>632461451</td>\n      <td>9563</td>\n      <td>71136396</td>\n      <td>626266535</td>\n      <td>0</td>\n      <td>0</td>\n      <td>1.626385e+09</td>\n    </tr>\n    <tr>\n      <th>4799</th>\n      <td>6</td>\n      <td>1620821678</td>\n      <td>3163169386</td>\n      <td>0</td>\n      <td>65794.25</td>\n      <td>0</td>\n      <td>27547.288</td>\n      <td>186731.328</td>\n      <td>72843660288</td>\n      <td>1820.880</td>\n      <td>...</td>\n      <td>0.01</td>\n      <td>1</td>\n      <td>0</td>\n      <td>632461451</td>\n      <td>9563</td>\n      <td>71136396</td>\n      <td>626266535</td>\n      <td>0</td>\n      <td>0</td>\n      <td>1.626385e+09</td>\n    </tr>\n  </tbody>\n</table>\n<p>4800 rows × 194 columns</p>\n</div>"
     },
     "execution_count": 13,
     "metadata": {},
     "output_type": "execute_result"
    }
   ],
   "source": [
    "# For single node filtering\n",
    "node_wild_card = \"10.251.0.114:9100\"\n",
    "time = df_anomaly.time\n",
    "#\n",
    "filtr_list = []\n",
    "mask = df_anomaly.columns.str.contains(node_wild_card)\n",
    "filtr_list.extend(list(df_anomaly.loc[:,mask].columns.values))\n",
    "df_anomaly = df_anomaly[filtr_list]\n",
    "df_anomaly['time'] = time\n",
    "df_anomaly"
   ],
   "metadata": {
    "collapsed": false,
    "pycharm": {
     "name": "#%%\n"
    }
   }
  },
  {
   "cell_type": "code",
   "execution_count": 14,
   "outputs": [],
   "source": [
    "# Add empty target column to clean trace\n",
    "nodes = nodes\n",
    "for n in nodes:\n",
    "    target_cpu = f'target_cpu_{n}'\n",
    "    target_mem = f'target_mem_{n}'\n",
    "    target_copy = f\"target_copy_{n}\"\n",
    "    target_dummy = f\"target_dummy_{n}\"\n",
    "    target_ddot = f\"target_ddot_{n}\"\n",
    "    # df_clean[target_cpu] = 0\n",
    "    # df_clean[target_mem] = 0\n",
    "    # df_clean[target_copy] = 0\n",
    "    # df_clean[target_dummy] = 0\n",
    "    # df_clean[target_ddot] = 0\n",
    "\n",
    "# print(\"Clean data columns: \")\n",
    "# print(df_clean.columns)\n",
    "\n",
    "# clean_csv = os.path.join(processed_dir, 'df_clean.csv')\n",
    "# print(\"Saving clean df to {}\".format(clean_csv))\n",
    "# df_clean.to_csv(clean_csv, index=False)"
   ],
   "metadata": {
    "collapsed": false,
    "pycharm": {
     "name": "#%%\n"
    }
   }
  },
  {
   "cell_type": "code",
   "execution_count": 15,
   "outputs": [],
   "source": [
    "# Log folder\n",
    "import glob\n",
    "\n",
    "list_of_log_dir = glob.glob(os.path.join(anomaly_logs_dir, \"logs_*\"))\n"
   ],
   "metadata": {
    "collapsed": false,
    "pycharm": {
     "name": "#%%\n"
    }
   }
  },
  {
   "cell_type": "code",
   "execution_count": 16,
   "outputs": [],
   "source": [
    "from pygrok import Grok\n",
    "\n",
    "def setup_grok(pattern):\n",
    "    grok = Grok(pattern)\n",
    "    return grok\n",
    "\n",
    "def parse_logs(file,\n",
    "               type=None):\n",
    "    if type == 'copy':\n",
    "        pattern = '%{NUMBER:unixtime}  anomalies.py:%{NUMBER:linenumber} \t%{LOGLEVEL:loglevel}     %{WORD:status} %{WORD:anomaly_name} with options %{GREEDYDATA:settings} and uuid %{GREEDYDATA:uuid}'\n",
    "    elif type == 'cpu':\n",
    "        pattern = '%{NUMBER:unixtime}  anomalies.py:%{NUMBER:linenumber}  \t%{LOGLEVEL:loglevel}     %{WORD:status} %{WORD:anomaly_name} with options %{GREEDYDATA:settings} and uuid %{GREEDYDATA:uuid}'\n",
    "        # pattern = '%{NUMBER:unixtime}  anomalies.py:%{NUMBER:linenumber}%{GREEDYDATA}%{LOGLEVEL:loglevel}     %{WORD:status} %{WORD:anomaly_name} with options %{GREEDYDATA:settiongs} and uuid %{GREEDYDATA:uuid}'\n",
    "    else:\n",
    "        pattern = '%{NUMBER:unixtime}  anomalies.py:%{NUMBER:linenumber} \t%{LOGLEVEL:loglevel}     %{WORD:status} %{WORD:anomaly_name} with options %{GREEDYDATA:settings} and uuid %{GREEDYDATA:uuid}'\n",
    "    grok = setup_grok(pattern)\n",
    "    with open(file, 'r') as log:\n",
    "        lines = log.readlines()\n",
    "\n",
    "    parsed = []\n",
    "    for line in lines:\n",
    "        match = grok.match(line)\n",
    "        if match is None:\n",
    "            pattern2 = '%{NUMBER:unixtime}  anomalies.py:%{NUMBER:linenumber} \t%{LOGLEVEL:loglevel}     %{WORD:status} %{WORD:anomaly_name} of uuid %{GREEDYDATA:uuid} for'\n",
    "            grok2 = setup_grok(pattern2)\n",
    "            match2 = grok2.match(line)\n",
    "            if match2 is None:\n",
    "                pass\n",
    "            else:\n",
    "                match = match2\n",
    "        parsed.append(match)\n",
    "        print(match)\n",
    "    return parsed\n",
    "\n",
    "def preflight_labels(parsed_list):\n",
    "    anomalies = {}\n",
    "    for e in parsed_list:\n",
    "        if e is None:\n",
    "            pass\n",
    "        else:\n",
    "            # print(e)\n",
    "            # print(e['uuid'])\n",
    "            if e['uuid'] in anomalies.keys():\n",
    "                pass\n",
    "            else:\n",
    "                anomalies[e['uuid']] = {}\n",
    "            if e['status'] == 'Started':\n",
    "                anomalies[e['uuid']]['start'] = e['unixtime']\n",
    "            elif e['status'] == 'Finished':\n",
    "                anomalies[e['uuid']]['stop'] = e['unixtime']\n",
    "            elif e['status'] == 'Finised': # todo fix typo for memoryv2\n",
    "                anomalies[e['uuid']]['stop'] = e['unixtime']\n",
    "            elif e['status'] == 'Modifier' :\n",
    "                if 'modifiers' in anomalies[e['uuid']].keys():\n",
    "                    pass\n",
    "                else:\n",
    "                    anomalies[e['uuid']]['modifiers'] = []\n",
    "                anomalies[e['uuid']]['modifiers'].append(e['unixtime'])\n",
    "    # print(anomalies)\n",
    "    return anomalies\n",
    "\n",
    "def label(df, pre, label, ckcolumn = 'time', target = 'target'):\n",
    "    df[target] = 0\n",
    "    for k,v in pre.items():\n",
    "        target_list = np.where(df[ckcolumn].between(int(float(v['start'])),int(float(v['stop']))), label, df[target])\n",
    "        df[target] = target_list\n",
    "    return df"
   ],
   "metadata": {
    "collapsed": false,
    "pycharm": {
     "name": "#%%\n"
    }
   }
  },
  {
   "cell_type": "code",
   "execution_count": 17,
   "outputs": [
    {
     "name": "stdout",
     "output_type": "stream",
     "text": [
      "/Users/Gabriel/Dropbox/Research/ASPIDE/Datasets/ECI Chaos/Distributed Phase 1/logs/logs_spark-master\n",
      "master\n",
      "{'unixtime': '1626380137.369824', 'linenumber': '193', 'loglevel': 'INFO', 'status': 'Started', 'anomaly_name': 'copy', 'settings': '[unit gb, multiplier 1, remove 1, time_out 20]', 'uuid': '52f2a600-7086-4186-8e0b-0a1392c65b9c'}\n",
      "{'unixtime': '1626380137.370542', 'linenumber': '174', 'loglevel': 'INFO', 'status': 'Started', 'anomaly_name': 'Generating_large_file', 'settings': '[size 1073741824, multiplier 1]', 'uuid': 'gb'}\n",
      "{'unixtime': '1626380146.575602', 'linenumber': '179', 'loglevel': 'INFO', 'status': 'Finished', 'anomaly_name': 'Generating_large_file', 'settings': '[size 1073741824, multiplier 1]', 'uuid': 'gb'}\n",
      "{'unixtime': '1626380206.838572', 'linenumber': '213', 'loglevel': 'INFO', 'status': 'Finished', 'anomaly_name': 'copy', 'settings': '[unit gb, multiplier 1, remove 1, time_out 20]', 'uuid': '52f2a600-7086-4186-8e0b-0a1392c65b9c'}\n",
      "{'unixtime': '1626380207.157193', 'linenumber': '193', 'loglevel': 'INFO', 'status': 'Started', 'anomaly_name': 'copy', 'settings': '[unit gb, multiplier 1, remove 1, time_out 20]', 'uuid': 'a77711d5-5359-4025-8c8a-67abea08a5fe'}\n",
      "{'unixtime': '1626380207.157663', 'linenumber': '174', 'loglevel': 'INFO', 'status': 'Started', 'anomaly_name': 'Generating_large_file', 'settings': '[size 1073741824, multiplier 1]', 'uuid': 'gb'}\n",
      "{'unixtime': '1626380212.826848', 'linenumber': '179', 'loglevel': 'INFO', 'status': 'Finished', 'anomaly_name': 'Generating_large_file', 'settings': '[size 1073741824, multiplier 1]', 'uuid': 'gb'}\n",
      "{'unixtime': '1626380273.032171', 'linenumber': '213', 'loglevel': 'INFO', 'status': 'Finished', 'anomaly_name': 'copy', 'settings': '[unit gb, multiplier 1, remove 1, time_out 20]', 'uuid': 'a77711d5-5359-4025-8c8a-67abea08a5fe'}\n",
      "{'unixtime': '1626380386.658341', 'linenumber': '193', 'loglevel': 'INFO', 'status': 'Started', 'anomaly_name': 'copy', 'settings': '[unit gb, multiplier 1, remove 1, time_out 20]', 'uuid': '9a77aecb-88d8-44b6-9674-68c5a52ca4a1'}\n",
      "{'unixtime': '1626380386.659658', 'linenumber': '174', 'loglevel': 'INFO', 'status': 'Started', 'anomaly_name': 'Generating_large_file', 'settings': '[size 1073741824, multiplier 1]', 'uuid': 'gb'}\n",
      "{'unixtime': '1626380391.446774', 'linenumber': '179', 'loglevel': 'INFO', 'status': 'Finished', 'anomaly_name': 'Generating_large_file', 'settings': '[size 1073741824, multiplier 1]', 'uuid': 'gb'}\n",
      "{'unixtime': '1626380451.677475', 'linenumber': '213', 'loglevel': 'INFO', 'status': 'Finished', 'anomaly_name': 'copy', 'settings': '[unit gb, multiplier 1, remove 1, time_out 20]', 'uuid': '9a77aecb-88d8-44b6-9674-68c5a52ca4a1'}\n",
      "{'unixtime': '1626382095.789862', 'linenumber': '193', 'loglevel': 'INFO', 'status': 'Started', 'anomaly_name': 'copy', 'settings': '[unit gb, multiplier 1, remove 1, time_out 20]', 'uuid': 'fbaadf19-e1b4-41eb-99b5-e6d354cab6ce'}\n",
      "{'unixtime': '1626382095.790469', 'linenumber': '174', 'loglevel': 'INFO', 'status': 'Started', 'anomaly_name': 'Generating_large_file', 'settings': '[size 1073741824, multiplier 1]', 'uuid': 'gb'}\n",
      "{'unixtime': '1626382101.653116', 'linenumber': '179', 'loglevel': 'INFO', 'status': 'Finished', 'anomaly_name': 'Generating_large_file', 'settings': '[size 1073741824, multiplier 1]', 'uuid': 'gb'}\n",
      "{'unixtime': '1626382161.897909', 'linenumber': '213', 'loglevel': 'INFO', 'status': 'Finished', 'anomaly_name': 'copy', 'settings': '[unit gb, multiplier 1, remove 1, time_out 20]', 'uuid': 'fbaadf19-e1b4-41eb-99b5-e6d354cab6ce'}\n",
      "{'unixtime': '1626380371.220473', 'linenumber': '83', 'loglevel': 'INFO', 'status': 'Started', 'anomaly_name': 'CPU_overload', 'settings': '[half 1, time_out 15] ', 'uuid': '0bc01a12-054a-4611-8045-fae31f004b6e'}\n",
      "None\n",
      "{'unixtime': '1626380386.303109', 'linenumber': '94', 'loglevel': 'INFO', 'status': 'Finished', 'anomaly_name': 'CPU_overload', 'settings': '[half 1, time_out 15]', 'uuid': '0bc01a12-054a-4611-8045-fae31f004b6e'}\n",
      "{'unixtime': '1626380562.882964', 'linenumber': '83', 'loglevel': 'INFO', 'status': 'Started', 'anomaly_name': 'CPU_overload', 'settings': '[half 1, time_out 15] ', 'uuid': '505d8b62-de21-4e15-a287-930cc8ef1f6d'}\n",
      "None\n",
      "{'unixtime': '1626380578.053779', 'linenumber': '94', 'loglevel': 'INFO', 'status': 'Finished', 'anomaly_name': 'CPU_overload', 'settings': '[half 1, time_out 15]', 'uuid': '505d8b62-de21-4e15-a287-930cc8ef1f6d'}\n",
      "{'unixtime': '1626381644.314533', 'linenumber': '83', 'loglevel': 'INFO', 'status': 'Started', 'anomaly_name': 'CPU_overload', 'settings': '[half 1, time_out 15] ', 'uuid': '3163261d-10ff-406a-b876-85b53d99ab3d'}\n",
      "None\n",
      "{'unixtime': '1626381659.422969', 'linenumber': '94', 'loglevel': 'INFO', 'status': 'Finished', 'anomaly_name': 'CPU_overload', 'settings': '[half 1, time_out 15]', 'uuid': '3163261d-10ff-406a-b876-85b53d99ab3d'}\n",
      "{'unixtime': '1626381769.935018', 'linenumber': '83', 'loglevel': 'INFO', 'status': 'Started', 'anomaly_name': 'CPU_overload', 'settings': '[half 1, time_out 15] ', 'uuid': 'fd6b609a-6108-4d88-9755-49349f1028b9'}\n",
      "None\n",
      "{'unixtime': '1626381785.047869', 'linenumber': '94', 'loglevel': 'INFO', 'status': 'Finished', 'anomaly_name': 'CPU_overload', 'settings': '[half 1, time_out 15]', 'uuid': 'fd6b609a-6108-4d88-9755-49349f1028b9'}\n",
      "{'unixtime': '1626381785.406210', 'linenumber': '83', 'loglevel': 'INFO', 'status': 'Started', 'anomaly_name': 'CPU_overload', 'settings': '[half 1, time_out 15] ', 'uuid': 'f15857a4-2013-4b29-a445-fc4829408154'}\n",
      "None\n",
      "{'unixtime': '1626381800.492776', 'linenumber': '94', 'loglevel': 'INFO', 'status': 'Finished', 'anomaly_name': 'CPU_overload', 'settings': '[half 1, time_out 15]', 'uuid': 'f15857a4-2013-4b29-a445-fc4829408154'}\n",
      "{'unixtime': '1626381800.833819', 'linenumber': '83', 'loglevel': 'INFO', 'status': 'Started', 'anomaly_name': 'CPU_overload', 'settings': '[half 1, time_out 15] ', 'uuid': '4dab9670-438d-4057-84cf-f9450dfdd8b8'}\n",
      "None\n",
      "{'unixtime': '1626381815.944178', 'linenumber': '94', 'loglevel': 'INFO', 'status': 'Finished', 'anomaly_name': 'CPU_overload', 'settings': '[half 1, time_out 15]', 'uuid': '4dab9670-438d-4057-84cf-f9450dfdd8b8'}\n",
      "{'unixtime': '1626382323.290226', 'linenumber': '83', 'loglevel': 'INFO', 'status': 'Started', 'anomaly_name': 'CPU_overload', 'settings': '[half 1, time_out 15] ', 'uuid': 'ad750c8a-3500-4f70-bfc6-ac4f32ac1829'}\n",
      "None\n",
      "{'unixtime': '1626382338.386816', 'linenumber': '94', 'loglevel': 'INFO', 'status': 'Finished', 'anomaly_name': 'CPU_overload', 'settings': '[half 1, time_out 15]', 'uuid': 'ad750c8a-3500-4f70-bfc6-ac4f32ac1829'}\n",
      "{'unixtime': '1626382338.742376', 'linenumber': '83', 'loglevel': 'INFO', 'status': 'Started', 'anomaly_name': 'CPU_overload', 'settings': '[half 1, time_out 15] ', 'uuid': '92fe6c3a-bdfd-48b9-b122-68ee343296eb'}\n",
      "None\n",
      "{'unixtime': '1626382353.841763', 'linenumber': '94', 'loglevel': 'INFO', 'status': 'Finished', 'anomaly_name': 'CPU_overload', 'settings': '[half 1, time_out 15]', 'uuid': '92fe6c3a-bdfd-48b9-b122-68ee343296eb'}\n",
      "{'unixtime': '1626382398.425231', 'linenumber': '83', 'loglevel': 'INFO', 'status': 'Started', 'anomaly_name': 'CPU_overload', 'settings': '[half 1, time_out 15] ', 'uuid': '30ee761b-8c73-4413-8f40-9503a53c9ae9'}\n",
      "None\n",
      "{'unixtime': '1626382413.500788', 'linenumber': '94', 'loglevel': 'INFO', 'status': 'Finished', 'anomaly_name': 'CPU_overload', 'settings': '[half 1, time_out 15]', 'uuid': '30ee761b-8c73-4413-8f40-9503a53c9ae9'}\n",
      "{'unixtime': '1626380274.005093', 'linenumber': '147', 'loglevel': 'INFO', 'status': 'Started', 'anomaly_name': 'Memeaterv2', 'settings': '[unit gb, multiplier 1, iteration 2, time_out 20]', 'uuid': 'c2e33fa6-62e7-45fc-bae6-d2625a76a259'}\n",
      "{'unixtime': '1626380318.151070', 'linenumber': '154', 'loglevel': 'INFO', 'status': 'Finised', 'anomaly_name': 'Memeaterv2', 'settings': '[unit gb, multiplier 1, iteration 2, time_out 20]', 'uuid': 'c2e33fa6-62e7-45fc-bae6-d2625a76a259'}\n",
      "{'unixtime': '1626380462.538695', 'linenumber': '147', 'loglevel': 'INFO', 'status': 'Started', 'anomaly_name': 'Memeaterv2', 'settings': '[unit gb, multiplier 1, iteration 2, time_out 20]', 'uuid': 'd502c8b3-c4e8-4029-9777-4fa51ff478ea'}\n",
      "{'unixtime': '1626380506.015355', 'linenumber': '154', 'loglevel': 'INFO', 'status': 'Finised', 'anomaly_name': 'Memeaterv2', 'settings': '[unit gb, multiplier 1, iteration 2, time_out 20]', 'uuid': 'd502c8b3-c4e8-4029-9777-4fa51ff478ea'}\n",
      "{'unixtime': '1626381598.895845', 'linenumber': '147', 'loglevel': 'INFO', 'status': 'Started', 'anomaly_name': 'Memeaterv2', 'settings': '[unit gb, multiplier 1, iteration 2, time_out 20]', 'uuid': 'f57dbfac-023d-4211-be49-62deda85453f'}\n",
      "{'unixtime': '1626381643.838445', 'linenumber': '154', 'loglevel': 'INFO', 'status': 'Finised', 'anomaly_name': 'Memeaterv2', 'settings': '[unit gb, multiplier 1, iteration 2, time_out 20]', 'uuid': 'f57dbfac-023d-4211-be49-62deda85453f'}\n",
      "{'unixtime': '1626381670.066830', 'linenumber': '147', 'loglevel': 'INFO', 'status': 'Started', 'anomaly_name': 'Memeaterv2', 'settings': '[unit gb, multiplier 1, iteration 2, time_out 20]', 'uuid': '06c035f6-6893-42df-bf4d-3a545193f9db'}\n",
      "{'unixtime': '1626381713.271226', 'linenumber': '154', 'loglevel': 'INFO', 'status': 'Finised', 'anomaly_name': 'Memeaterv2', 'settings': '[unit gb, multiplier 1, iteration 2, time_out 20]', 'uuid': '06c035f6-6893-42df-bf4d-3a545193f9db'}\n",
      "{'unixtime': '1626382354.127773', 'linenumber': '147', 'loglevel': 'INFO', 'status': 'Started', 'anomaly_name': 'Memeaterv2', 'settings': '[unit gb, multiplier 1, iteration 2, time_out 20]', 'uuid': '96c9a31c-9555-4729-9a3c-3125383bebb5'}\n",
      "{'unixtime': '1626382397.982411', 'linenumber': '154', 'loglevel': 'INFO', 'status': 'Finised', 'anomaly_name': 'Memeaterv2', 'settings': '[unit gb, multiplier 1, iteration 2, time_out 20]', 'uuid': '96c9a31c-9555-4729-9a3c-3125383bebb5'}\n",
      "{'unixtime': '1626382424.112804', 'linenumber': '147', 'loglevel': 'INFO', 'status': 'Started', 'anomaly_name': 'Memeaterv2', 'settings': '[unit gb, multiplier 1, iteration 2, time_out 20]', 'uuid': 'b1a53074-a017-4df6-8cc1-c4a0499bf897'}\n",
      "{'unixtime': '1626382467.734399', 'linenumber': '154', 'loglevel': 'INFO', 'status': 'Finised', 'anomaly_name': 'Memeaterv2', 'settings': '[unit gb, multiplier 1, iteration 2, time_out 20]', 'uuid': 'b1a53074-a017-4df6-8cc1-c4a0499bf897'}\n",
      "{'unixtime': '1626380321.755448', 'linenumber': '229', 'loglevel': 'INFO', 'status': 'Started', 'anomaly_name': 'ddot', 'settings': '[iteration 6, time_out 1, modifiers [1.2], L2CacheSize 4194304]', 'uuid': '400ec0f2-8d8d-43bb-9423-3128a54c36d7'}\n",
      "{'unixtime': '1626380321.756408', 'linenumber': '262', 'loglevel': 'INFO', 'status': 'Modifier', 'anomaly_name': 'ddot', 'uuid': '400ec0f2-8d8d-43bb-9423-3128a54c36d7'}\n",
      "{'unixtime': '1626380325.375376', 'linenumber': '262', 'loglevel': 'INFO', 'status': 'Modifier', 'anomaly_name': 'ddot', 'uuid': '400ec0f2-8d8d-43bb-9423-3128a54c36d7'}\n",
      "{'unixtime': '1626380330.739779', 'linenumber': '262', 'loglevel': 'INFO', 'status': 'Modifier', 'anomaly_name': 'ddot', 'uuid': '400ec0f2-8d8d-43bb-9423-3128a54c36d7'}\n",
      "{'unixtime': '1626380339.002767', 'linenumber': '262', 'loglevel': 'INFO', 'status': 'Modifier', 'anomaly_name': 'ddot', 'uuid': '400ec0f2-8d8d-43bb-9423-3128a54c36d7'}\n",
      "{'unixtime': '1626380351.360828', 'linenumber': '262', 'loglevel': 'INFO', 'status': 'Modifier', 'anomaly_name': 'ddot', 'uuid': '400ec0f2-8d8d-43bb-9423-3128a54c36d7'}\n",
      "{'unixtime': '1626380370.867051', 'linenumber': '268', 'loglevel': 'INFO', 'status': 'Finished', 'anomaly_name': 'ddot', 'settings': '[iteration 6, time_out 1, modifiers [1.2], L2CacheSize 4194304]', 'uuid': '400ec0f2-8d8d-43bb-9423-3128a54c36d7'}\n",
      "{'unixtime': '1626380508.379860', 'linenumber': '229', 'loglevel': 'INFO', 'status': 'Started', 'anomaly_name': 'ddot', 'settings': '[iteration 6, time_out 1, modifiers [1.2], L2CacheSize 4194304]', 'uuid': '086be13e-0398-4bd4-9991-e8628b35aa5c'}\n",
      "{'unixtime': '1626380508.381591', 'linenumber': '262', 'loglevel': 'INFO', 'status': 'Modifier', 'anomaly_name': 'ddot', 'uuid': '086be13e-0398-4bd4-9991-e8628b35aa5c'}\n",
      "{'unixtime': '1626380512.397100', 'linenumber': '262', 'loglevel': 'INFO', 'status': 'Modifier', 'anomaly_name': 'ddot', 'uuid': '086be13e-0398-4bd4-9991-e8628b35aa5c'}\n",
      "{'unixtime': '1626380518.442342', 'linenumber': '262', 'loglevel': 'INFO', 'status': 'Modifier', 'anomaly_name': 'ddot', 'uuid': '086be13e-0398-4bd4-9991-e8628b35aa5c'}\n",
      "{'unixtime': '1626380526.707629', 'linenumber': '262', 'loglevel': 'INFO', 'status': 'Modifier', 'anomaly_name': 'ddot', 'uuid': '086be13e-0398-4bd4-9991-e8628b35aa5c'}\n",
      "{'unixtime': '1626380540.366872', 'linenumber': '262', 'loglevel': 'INFO', 'status': 'Modifier', 'anomaly_name': 'ddot', 'uuid': '086be13e-0398-4bd4-9991-e8628b35aa5c'}\n",
      "{'unixtime': '1626380562.517779', 'linenumber': '268', 'loglevel': 'INFO', 'status': 'Finished', 'anomaly_name': 'ddot', 'settings': '[iteration 6, time_out 1, modifiers [1.2], L2CacheSize 4194304]', 'uuid': '086be13e-0398-4bd4-9991-e8628b35aa5c'}\n",
      "{'unixtime': '1626381715.401412', 'linenumber': '229', 'loglevel': 'INFO', 'status': 'Started', 'anomaly_name': 'ddot', 'settings': '[iteration 6, time_out 1, modifiers [1.2], L2CacheSize 4194304]', 'uuid': 'c741cf5a-b2a1-4c02-a912-1475139c0be8'}\n",
      "{'unixtime': '1626381715.403338', 'linenumber': '262', 'loglevel': 'INFO', 'status': 'Modifier', 'anomaly_name': 'ddot', 'uuid': 'c741cf5a-b2a1-4c02-a912-1475139c0be8'}\n",
      "{'unixtime': '1626381719.202275', 'linenumber': '262', 'loglevel': 'INFO', 'status': 'Modifier', 'anomaly_name': 'ddot', 'uuid': 'c741cf5a-b2a1-4c02-a912-1475139c0be8'}\n",
      "{'unixtime': '1626381724.558674', 'linenumber': '262', 'loglevel': 'INFO', 'status': 'Modifier', 'anomaly_name': 'ddot', 'uuid': 'c741cf5a-b2a1-4c02-a912-1475139c0be8'}\n",
      "{'unixtime': '1626381733.057306', 'linenumber': '262', 'loglevel': 'INFO', 'status': 'Modifier', 'anomaly_name': 'ddot', 'uuid': 'c741cf5a-b2a1-4c02-a912-1475139c0be8'}\n",
      "{'unixtime': '1626381747.256961', 'linenumber': '262', 'loglevel': 'INFO', 'status': 'Modifier', 'anomaly_name': 'ddot', 'uuid': 'c741cf5a-b2a1-4c02-a912-1475139c0be8'}\n",
      "{'unixtime': '1626381769.562910', 'linenumber': '268', 'loglevel': 'INFO', 'status': 'Finished', 'anomaly_name': 'ddot', 'settings': '[iteration 6, time_out 1, modifiers [1.2], L2CacheSize 4194304]', 'uuid': 'c741cf5a-b2a1-4c02-a912-1475139c0be8'}\n",
      "{'unixtime': '1626382163.634643', 'linenumber': '229', 'loglevel': 'INFO', 'status': 'Started', 'anomaly_name': 'ddot', 'settings': '[iteration 6, time_out 1, modifiers [1.2], L2CacheSize 4194304]', 'uuid': '6c7c2afb-6ff9-4f12-8822-76bad26ce177'}\n",
      "{'unixtime': '1626382163.636567', 'linenumber': '262', 'loglevel': 'INFO', 'status': 'Modifier', 'anomaly_name': 'ddot', 'uuid': '6c7c2afb-6ff9-4f12-8822-76bad26ce177'}\n",
      "{'unixtime': '1626382167.315815', 'linenumber': '262', 'loglevel': 'INFO', 'status': 'Modifier', 'anomaly_name': 'ddot', 'uuid': '6c7c2afb-6ff9-4f12-8822-76bad26ce177'}\n",
      "{'unixtime': '1626382172.649766', 'linenumber': '262', 'loglevel': 'INFO', 'status': 'Modifier', 'anomaly_name': 'ddot', 'uuid': '6c7c2afb-6ff9-4f12-8822-76bad26ce177'}\n",
      "{'unixtime': '1626382181.328329', 'linenumber': '262', 'loglevel': 'INFO', 'status': 'Modifier', 'anomaly_name': 'ddot', 'uuid': '6c7c2afb-6ff9-4f12-8822-76bad26ce177'}\n",
      "{'unixtime': '1626382194.738505', 'linenumber': '262', 'loglevel': 'INFO', 'status': 'Modifier', 'anomaly_name': 'ddot', 'uuid': '6c7c2afb-6ff9-4f12-8822-76bad26ce177'}\n",
      "{'unixtime': '1626382216.169448', 'linenumber': '268', 'loglevel': 'INFO', 'status': 'Finished', 'anomaly_name': 'ddot', 'settings': '[iteration 6, time_out 1, modifiers [1.2], L2CacheSize 4194304]', 'uuid': '6c7c2afb-6ff9-4f12-8822-76bad26ce177'}\n",
      "{'unixtime': '1626382217.732996', 'linenumber': '229', 'loglevel': 'INFO', 'status': 'Started', 'anomaly_name': 'ddot', 'settings': '[iteration 6, time_out 1, modifiers [1.2], L2CacheSize 4194304]', 'uuid': 'bf08a533-9d5b-488a-889f-2e49fd592c31'}\n",
      "{'unixtime': '1626382217.734029', 'linenumber': '262', 'loglevel': 'INFO', 'status': 'Modifier', 'anomaly_name': 'ddot', 'uuid': 'bf08a533-9d5b-488a-889f-2e49fd592c31'}\n",
      "{'unixtime': '1626382221.538089', 'linenumber': '262', 'loglevel': 'INFO', 'status': 'Modifier', 'anomaly_name': 'ddot', 'uuid': 'bf08a533-9d5b-488a-889f-2e49fd592c31'}\n",
      "{'unixtime': '1626382226.840127', 'linenumber': '262', 'loglevel': 'INFO', 'status': 'Modifier', 'anomaly_name': 'ddot', 'uuid': 'bf08a533-9d5b-488a-889f-2e49fd592c31'}\n",
      "{'unixtime': '1626382235.223583', 'linenumber': '262', 'loglevel': 'INFO', 'status': 'Modifier', 'anomaly_name': 'ddot', 'uuid': 'bf08a533-9d5b-488a-889f-2e49fd592c31'}\n",
      "{'unixtime': '1626382248.269420', 'linenumber': '262', 'loglevel': 'INFO', 'status': 'Modifier', 'anomaly_name': 'ddot', 'uuid': 'bf08a533-9d5b-488a-889f-2e49fd592c31'}\n",
      "{'unixtime': '1626382269.635950', 'linenumber': '268', 'loglevel': 'INFO', 'status': 'Finished', 'anomaly_name': 'ddot', 'settings': '[iteration 6, time_out 1, modifiers [1.2], L2CacheSize 4194304]', 'uuid': 'bf08a533-9d5b-488a-889f-2e49fd592c31'}\n",
      "{'unixtime': '1626382271.245503', 'linenumber': '229', 'loglevel': 'INFO', 'status': 'Started', 'anomaly_name': 'ddot', 'settings': '[iteration 6, time_out 1, modifiers [1.2], L2CacheSize 4194304]', 'uuid': 'bf811493-6ebf-4972-8083-19058166bd62'}\n",
      "{'unixtime': '1626382271.246331', 'linenumber': '262', 'loglevel': 'INFO', 'status': 'Modifier', 'anomaly_name': 'ddot', 'uuid': 'bf811493-6ebf-4972-8083-19058166bd62'}\n",
      "{'unixtime': '1626382274.758437', 'linenumber': '262', 'loglevel': 'INFO', 'status': 'Modifier', 'anomaly_name': 'ddot', 'uuid': 'bf811493-6ebf-4972-8083-19058166bd62'}\n",
      "{'unixtime': '1626382280.287843', 'linenumber': '262', 'loglevel': 'INFO', 'status': 'Modifier', 'anomaly_name': 'ddot', 'uuid': 'bf811493-6ebf-4972-8083-19058166bd62'}\n",
      "{'unixtime': '1626382288.583556', 'linenumber': '262', 'loglevel': 'INFO', 'status': 'Modifier', 'anomaly_name': 'ddot', 'uuid': 'bf811493-6ebf-4972-8083-19058166bd62'}\n",
      "{'unixtime': '1626382301.756131', 'linenumber': '262', 'loglevel': 'INFO', 'status': 'Modifier', 'anomaly_name': 'ddot', 'uuid': 'bf811493-6ebf-4972-8083-19058166bd62'}\n",
      "{'unixtime': '1626382322.927681', 'linenumber': '268', 'loglevel': 'INFO', 'status': 'Finished', 'anomaly_name': 'ddot', 'settings': '[iteration 6, time_out 1, modifiers [1.2], L2CacheSize 4194304]', 'uuid': 'bf811493-6ebf-4972-8083-19058166bd62'}\n",
      "None\n",
      "None\n",
      "None\n",
      "None\n",
      "None\n",
      "None\n",
      "None\n",
      "None\n",
      "None\n",
      "None\n"
     ]
    }
   ],
   "source": [
    "df_labeled = df_anomaly\n",
    "for logdir in list_of_log_dir:\n",
    "    print(logdir)\n",
    "    log_node = logdir.split('-')[-1]\n",
    "    print(log_node)\n",
    "    # Log files\n",
    "    copy_logs = os.path.join(logdir, 'copy-out.log')\n",
    "    cpu_logs = os.path.join(logdir, 'cpu_overload-out.log')\n",
    "    ddot_logs = os.path.join(logdir, 'ddot-out.log')\n",
    "    mem_logs = os.path.join(logdir, 'mem_eater-out.log')\n",
    "    dummy_logs = os.path.join(logdir, 'dummy-out.log')\n",
    "\n",
    "    # Parsed logs\n",
    "    copy_list = parse_logs(copy_logs,type='copy')\n",
    "    cpu_list = parse_logs(cpu_logs,type='cpu')\n",
    "    mem_list = parse_logs(mem_logs)\n",
    "    ddot_list = parse_logs(ddot_logs)\n",
    "    dummy_list  = parse_logs(dummy_logs)\n",
    "\n",
    "    pre_cpu = preflight_labels(cpu_list)\n",
    "    pre_mem = preflight_labels(mem_list)\n",
    "    pre_copy =preflight_labels(copy_list)\n",
    "    pre_dummy = preflight_labels(dummy_list)\n",
    "    pre_ddot = preflight_labels(ddot_list)\n",
    "    target = f\"target_node_{log_node}\"\n",
    "\n",
    "    # Label\n",
    "    target_cpu = f\"target_cpu_{log_node}\"\n",
    "    df_labeled = label(df_labeled, pre_cpu, label = 1, target=target_cpu)\n",
    "    target_mem = f\"target_mem_{log_node}\"\n",
    "    df_labeled = label(df_labeled, pre_mem, label = 1, target=target_mem)\n",
    "    target_copy = f\"target_copy_{log_node}\"\n",
    "    df_labeled = label(df_labeled, pre_copy, label = 1, target=target_copy)\n",
    "    target_dummy = f\"target_dummy_{log_node}\"\n",
    "    df_labeled = label(df_labeled, pre_dummy, label = 1, target=target_dummy)\n",
    "    target_ddot = f\"target_ddot_{log_node}\"\n",
    "    df_labeled = label(df_labeled, pre_ddot, label = 1, target=target_ddot)"
   ],
   "metadata": {
    "collapsed": false,
    "pycharm": {
     "name": "#%%\n"
    }
   }
  },
  {
   "cell_type": "code",
   "execution_count": 18,
   "outputs": [
    {
     "name": "stdout",
     "output_type": "stream",
     "text": [
      "Saving labeled anomaly df to /Users/Gabriel/Dropbox/Research/ASPIDE/Datasets/ECI Chaos/Distributed Phase 1/processed/df_anomaly.csv\n"
     ]
    }
   ],
   "source": [
    "anomaly_labeled = os.path.join(processed_dir, 'df_anomaly.csv')\n",
    "print(\"Saving labeled anomaly df to {}\". format(anomaly_labeled))\n",
    "df_labeled.to_csv(anomaly_labeled, index=False)"
   ],
   "metadata": {
    "collapsed": false,
    "pycharm": {
     "name": "#%%\n"
    }
   }
  },
  {
   "cell_type": "code",
   "execution_count": 19,
   "outputs": [
    {
     "data": {
      "text/plain": "      node_arp_entries_10.251.0.114:9100  \\\n451                                    6   \n452                                    6   \n453                                    6   \n454                                    6   \n455                                    6   \n...                                  ...   \n2448                                   6   \n2449                                   6   \n2450                                   6   \n2451                                   6   \n2452                                   6   \n\n      node_boot_time_seconds_10.251.0.114:9100  \\\n451                                 1620821678   \n452                                 1620821678   \n453                                 1620821678   \n454                                 1620821678   \n455                                 1620821678   \n...                                        ...   \n2448                                1620821678   \n2449                                1620821678   \n2450                                1620821678   \n2451                                1620821678   \n2452                                1620821678   \n\n      node_context_switches_total_10.251.0.114:9100  \\\n451                                      3155499254   \n452                                      3155500071   \n453                                      3155543379   \n454                                      3155555170   \n455                                      3155591179   \n...                                             ...   \n2448                                     3161278466   \n2449                                     3161279105   \n2450                                     3161279979   \n2451                                     3161281088   \n2452                                     3161281954   \n\n      node_cpu_guest_seconds_total_10.251.0.114:9100  \\\n451                                                0   \n452                                                0   \n453                                                0   \n454                                                0   \n455                                                0   \n...                                              ...   \n2448                                               0   \n2449                                               0   \n2450                                               0   \n2451                                               0   \n2452                                               0   \n\n      node_cpu_seconds_total_10.251.0.114:9100  \\\n451                                   63624.28   \n452                                   63624.89   \n453                                   63625.76   \n454                                   63626.54   \n455                                   63627.34   \n...                                        ...   \n2448                                  64712.93   \n2449                                  64713.81   \n2450                                  64714.81   \n2451                                  64715.79   \n2452                                  64716.76   \n\n      node_disk_io_now_10.251.0.114:9100  \\\n451                                    0   \n452                                    0   \n453                                    0   \n454                                    0   \n455                                    0   \n...                                  ...   \n2448                                   0   \n2449                                   0   \n2450                                   0   \n2451                                   0   \n2452                                   0   \n\n      node_disk_io_time_seconds_total_10.251.0.114:9100  \\\n451                                           27439.184   \n452                                           27439.688   \n453                                           27440.076   \n454                                           27440.600   \n455                                           27441.100   \n...                                                 ...   \n2448                                          27530.664   \n2449                                          27530.664   \n2450                                          27530.664   \n2451                                          27530.664   \n2452                                          27530.668   \n\n      node_disk_io_time_weighted_seconds_total_10.251.0.114:9100  \\\n451                                          186375.672            \n452                                          186376.572            \n453                                          186377.244            \n454                                          186378.252            \n455                                          186379.200            \n...                                                 ...            \n2448                                         186670.860            \n2449                                         186670.860            \n2450                                         186670.860            \n2451                                         186670.860            \n2452                                         186670.864            \n\n      node_disk_read_bytes_total_10.251.0.114:9100  \\\n451                                    45976562688   \n452                                    46031309824   \n453                                    46073383936   \n454                                    46113491968   \n455                                    46165265408   \n...                                            ...   \n2448                                   66700184576   \n2449                                   66704247808   \n2450                                   66707393536   \n2451                                   66710146048   \n2452                                   66712767488   \n\n      node_disk_read_time_seconds_total_10.251.0.114:9100  ...  \\\n451                                            1429.620    ...   \n452                                            1431.112    ...   \n453                                            1432.236    ...   \n454                                            1433.620    ...   \n455                                            1435.036    ...   \n...                                                 ...    ...   \n2448                                           1739.048    ...   \n2449                                           1739.084    ...   \n2450                                           1739.116    ...   \n2451                                           1739.156    ...   \n2452                                           1739.188    ...   \n\n      node_vmstat_pgpgin_10.251.0.114:9100  \\\n451                               44899380   \n452                               44953100   \n453                               44992396   \n454                               45032844   \n455                               45083148   \n...                                    ...   \n2448                              65136908   \n2449                              65140876   \n2450                              65143948   \n2451                              65146636   \n2452                              65149196   \n\n      node_vmstat_pgpgout_10.251.0.114:9100  \\\n451                               623667659   \n452                               623667659   \n453                               623668543   \n454                               623669307   \n455                               623669307   \n...                                     ...   \n2448                              626006555   \n2449                              626006555   \n2450                              626006555   \n2451                              626006659   \n2452                              626006659   \n\n      node_vmstat_pswpin_10.251.0.114:9100  \\\n451                                      0   \n452                                      0   \n453                                      0   \n454                                      0   \n455                                      0   \n...                                    ...   \n2448                                     0   \n2449                                     0   \n2450                                     0   \n2451                                     0   \n2452                                     0   \n\n      node_vmstat_pswpout_10.251.0.114:9100          time  target_cpu_master  \\\n451                                       0  1.626380e+09                  0   \n452                                       0  1.626380e+09                  0   \n453                                       0  1.626380e+09                  0   \n454                                       0  1.626380e+09                  0   \n455                                       0  1.626380e+09                  0   \n...                                     ...           ...                ...   \n2448                                      0  1.626382e+09                  0   \n2449                                      0  1.626382e+09                  0   \n2450                                      0  1.626382e+09                  0   \n2451                                      0  1.626382e+09                  0   \n2452                                      0  1.626382e+09                  0   \n\n      target_mem_master  target_copy_master  target_dummy_master  \\\n451                   0                   0                    0   \n452                   0                   0                    0   \n453                   0                   0                    0   \n454                   0                   0                    0   \n455                   0                   0                    0   \n...                 ...                 ...                  ...   \n2448                  0                   0                    0   \n2449                  0                   0                    0   \n2450                  0                   0                    0   \n2451                  0                   0                    0   \n2452                  0                   0                    0   \n\n      target_ddot_master  \n451                    1  \n452                    1  \n453                    1  \n454                    1  \n455                    1  \n...                  ...  \n2448                   1  \n2449                   1  \n2450                   1  \n2451                   1  \n2452                   1  \n\n[319 rows x 199 columns]",
      "text/html": "<div>\n<style scoped>\n    .dataframe tbody tr th:only-of-type {\n        vertical-align: middle;\n    }\n\n    .dataframe tbody tr th {\n        vertical-align: top;\n    }\n\n    .dataframe thead th {\n        text-align: right;\n    }\n</style>\n<table border=\"1\" class=\"dataframe\">\n  <thead>\n    <tr style=\"text-align: right;\">\n      <th></th>\n      <th>node_arp_entries_10.251.0.114:9100</th>\n      <th>node_boot_time_seconds_10.251.0.114:9100</th>\n      <th>node_context_switches_total_10.251.0.114:9100</th>\n      <th>node_cpu_guest_seconds_total_10.251.0.114:9100</th>\n      <th>node_cpu_seconds_total_10.251.0.114:9100</th>\n      <th>node_disk_io_now_10.251.0.114:9100</th>\n      <th>node_disk_io_time_seconds_total_10.251.0.114:9100</th>\n      <th>node_disk_io_time_weighted_seconds_total_10.251.0.114:9100</th>\n      <th>node_disk_read_bytes_total_10.251.0.114:9100</th>\n      <th>node_disk_read_time_seconds_total_10.251.0.114:9100</th>\n      <th>...</th>\n      <th>node_vmstat_pgpgin_10.251.0.114:9100</th>\n      <th>node_vmstat_pgpgout_10.251.0.114:9100</th>\n      <th>node_vmstat_pswpin_10.251.0.114:9100</th>\n      <th>node_vmstat_pswpout_10.251.0.114:9100</th>\n      <th>time</th>\n      <th>target_cpu_master</th>\n      <th>target_mem_master</th>\n      <th>target_copy_master</th>\n      <th>target_dummy_master</th>\n      <th>target_ddot_master</th>\n    </tr>\n  </thead>\n  <tbody>\n    <tr>\n      <th>451</th>\n      <td>6</td>\n      <td>1620821678</td>\n      <td>3155499254</td>\n      <td>0</td>\n      <td>63624.28</td>\n      <td>0</td>\n      <td>27439.184</td>\n      <td>186375.672</td>\n      <td>45976562688</td>\n      <td>1429.620</td>\n      <td>...</td>\n      <td>44899380</td>\n      <td>623667659</td>\n      <td>0</td>\n      <td>0</td>\n      <td>1.626380e+09</td>\n      <td>0</td>\n      <td>0</td>\n      <td>0</td>\n      <td>0</td>\n      <td>1</td>\n    </tr>\n    <tr>\n      <th>452</th>\n      <td>6</td>\n      <td>1620821678</td>\n      <td>3155500071</td>\n      <td>0</td>\n      <td>63624.89</td>\n      <td>0</td>\n      <td>27439.688</td>\n      <td>186376.572</td>\n      <td>46031309824</td>\n      <td>1431.112</td>\n      <td>...</td>\n      <td>44953100</td>\n      <td>623667659</td>\n      <td>0</td>\n      <td>0</td>\n      <td>1.626380e+09</td>\n      <td>0</td>\n      <td>0</td>\n      <td>0</td>\n      <td>0</td>\n      <td>1</td>\n    </tr>\n    <tr>\n      <th>453</th>\n      <td>6</td>\n      <td>1620821678</td>\n      <td>3155543379</td>\n      <td>0</td>\n      <td>63625.76</td>\n      <td>0</td>\n      <td>27440.076</td>\n      <td>186377.244</td>\n      <td>46073383936</td>\n      <td>1432.236</td>\n      <td>...</td>\n      <td>44992396</td>\n      <td>623668543</td>\n      <td>0</td>\n      <td>0</td>\n      <td>1.626380e+09</td>\n      <td>0</td>\n      <td>0</td>\n      <td>0</td>\n      <td>0</td>\n      <td>1</td>\n    </tr>\n    <tr>\n      <th>454</th>\n      <td>6</td>\n      <td>1620821678</td>\n      <td>3155555170</td>\n      <td>0</td>\n      <td>63626.54</td>\n      <td>0</td>\n      <td>27440.600</td>\n      <td>186378.252</td>\n      <td>46113491968</td>\n      <td>1433.620</td>\n      <td>...</td>\n      <td>45032844</td>\n      <td>623669307</td>\n      <td>0</td>\n      <td>0</td>\n      <td>1.626380e+09</td>\n      <td>0</td>\n      <td>0</td>\n      <td>0</td>\n      <td>0</td>\n      <td>1</td>\n    </tr>\n    <tr>\n      <th>455</th>\n      <td>6</td>\n      <td>1620821678</td>\n      <td>3155591179</td>\n      <td>0</td>\n      <td>63627.34</td>\n      <td>0</td>\n      <td>27441.100</td>\n      <td>186379.200</td>\n      <td>46165265408</td>\n      <td>1435.036</td>\n      <td>...</td>\n      <td>45083148</td>\n      <td>623669307</td>\n      <td>0</td>\n      <td>0</td>\n      <td>1.626380e+09</td>\n      <td>0</td>\n      <td>0</td>\n      <td>0</td>\n      <td>0</td>\n      <td>1</td>\n    </tr>\n    <tr>\n      <th>...</th>\n      <td>...</td>\n      <td>...</td>\n      <td>...</td>\n      <td>...</td>\n      <td>...</td>\n      <td>...</td>\n      <td>...</td>\n      <td>...</td>\n      <td>...</td>\n      <td>...</td>\n      <td>...</td>\n      <td>...</td>\n      <td>...</td>\n      <td>...</td>\n      <td>...</td>\n      <td>...</td>\n      <td>...</td>\n      <td>...</td>\n      <td>...</td>\n      <td>...</td>\n      <td>...</td>\n    </tr>\n    <tr>\n      <th>2448</th>\n      <td>6</td>\n      <td>1620821678</td>\n      <td>3161278466</td>\n      <td>0</td>\n      <td>64712.93</td>\n      <td>0</td>\n      <td>27530.664</td>\n      <td>186670.860</td>\n      <td>66700184576</td>\n      <td>1739.048</td>\n      <td>...</td>\n      <td>65136908</td>\n      <td>626006555</td>\n      <td>0</td>\n      <td>0</td>\n      <td>1.626382e+09</td>\n      <td>0</td>\n      <td>0</td>\n      <td>0</td>\n      <td>0</td>\n      <td>1</td>\n    </tr>\n    <tr>\n      <th>2449</th>\n      <td>6</td>\n      <td>1620821678</td>\n      <td>3161279105</td>\n      <td>0</td>\n      <td>64713.81</td>\n      <td>0</td>\n      <td>27530.664</td>\n      <td>186670.860</td>\n      <td>66704247808</td>\n      <td>1739.084</td>\n      <td>...</td>\n      <td>65140876</td>\n      <td>626006555</td>\n      <td>0</td>\n      <td>0</td>\n      <td>1.626382e+09</td>\n      <td>0</td>\n      <td>0</td>\n      <td>0</td>\n      <td>0</td>\n      <td>1</td>\n    </tr>\n    <tr>\n      <th>2450</th>\n      <td>6</td>\n      <td>1620821678</td>\n      <td>3161279979</td>\n      <td>0</td>\n      <td>64714.81</td>\n      <td>0</td>\n      <td>27530.664</td>\n      <td>186670.860</td>\n      <td>66707393536</td>\n      <td>1739.116</td>\n      <td>...</td>\n      <td>65143948</td>\n      <td>626006555</td>\n      <td>0</td>\n      <td>0</td>\n      <td>1.626382e+09</td>\n      <td>0</td>\n      <td>0</td>\n      <td>0</td>\n      <td>0</td>\n      <td>1</td>\n    </tr>\n    <tr>\n      <th>2451</th>\n      <td>6</td>\n      <td>1620821678</td>\n      <td>3161281088</td>\n      <td>0</td>\n      <td>64715.79</td>\n      <td>0</td>\n      <td>27530.664</td>\n      <td>186670.860</td>\n      <td>66710146048</td>\n      <td>1739.156</td>\n      <td>...</td>\n      <td>65146636</td>\n      <td>626006659</td>\n      <td>0</td>\n      <td>0</td>\n      <td>1.626382e+09</td>\n      <td>0</td>\n      <td>0</td>\n      <td>0</td>\n      <td>0</td>\n      <td>1</td>\n    </tr>\n    <tr>\n      <th>2452</th>\n      <td>6</td>\n      <td>1620821678</td>\n      <td>3161281954</td>\n      <td>0</td>\n      <td>64716.76</td>\n      <td>0</td>\n      <td>27530.668</td>\n      <td>186670.864</td>\n      <td>66712767488</td>\n      <td>1739.188</td>\n      <td>...</td>\n      <td>65149196</td>\n      <td>626006659</td>\n      <td>0</td>\n      <td>0</td>\n      <td>1.626382e+09</td>\n      <td>0</td>\n      <td>0</td>\n      <td>0</td>\n      <td>0</td>\n      <td>1</td>\n    </tr>\n  </tbody>\n</table>\n<p>319 rows × 199 columns</p>\n</div>"
     },
     "execution_count": 19,
     "metadata": {},
     "output_type": "execute_result"
    }
   ],
   "source": [
    "# Check labeled\n",
    "df_labeled\n",
    "df_labeled.loc[df_labeled['target_ddot_master'] == 1]\n"
   ],
   "metadata": {
    "collapsed": false,
    "pycharm": {
     "name": "#%%\n"
    }
   }
  },
  {
   "cell_type": "code",
   "execution_count": 21,
   "outputs": [
    {
     "data": {
      "text/plain": "      node_arp_entries_10.251.0.114:9100  \\\n501                                    6   \n502                                    6   \n503                                    6   \n504                                    6   \n505                                    6   \n...                                  ...   \n2539                                   6   \n2540                                   6   \n2541                                   6   \n2542                                   6   \n2543                                   6   \n\n      node_boot_time_seconds_10.251.0.114:9100  \\\n501                                 1620821678   \n502                                 1620821678   \n503                                 1620821678   \n504                                 1620821678   \n505                                 1620821678   \n...                                        ...   \n2539                                1620821678   \n2540                                1620821678   \n2541                                1620821678   \n2542                                1620821678   \n2543                                1620821678   \n\n      node_context_switches_total_10.251.0.114:9100  \\\n501                                      3155867027   \n502                                      3155868124   \n503                                      3155868791   \n504                                      3155869540   \n505                                      3155870323   \n...                                             ...   \n2539                                     3161521762   \n2540                                     3161522607   \n2541                                     3161523678   \n2542                                     3161524773   \n2543                                     3161525932   \n\n      node_cpu_guest_seconds_total_10.251.0.114:9100  \\\n501                                                0   \n502                                                0   \n503                                                0   \n504                                                0   \n505                                                0   \n...                                              ...   \n2539                                               0   \n2540                                               0   \n2541                                               0   \n2542                                               0   \n2543                                               0   \n\n      node_cpu_seconds_total_10.251.0.114:9100  \\\n501                                   63663.59   \n502                                   63664.36   \n503                                   63665.06   \n504                                   63665.53   \n505                                   63666.24   \n...                                        ...   \n2539                                  64768.32   \n2540                                  64769.28   \n2541                                  64770.22   \n2542                                  64771.18   \n2543                                  64772.12   \n\n      node_disk_io_now_10.251.0.114:9100  \\\n501                                    0   \n502                                    0   \n503                                    0   \n504                                    0   \n505                                    0   \n...                                  ...   \n2539                                   0   \n2540                                   0   \n2541                                   0   \n2542                                   0   \n2543                                   0   \n\n      node_disk_io_time_seconds_total_10.251.0.114:9100  \\\n501                                           27461.104   \n502                                           27461.628   \n503                                           27462.144   \n504                                           27462.680   \n505                                           27463.140   \n...                                                 ...   \n2539                                          27531.320   \n2540                                          27531.320   \n2541                                          27531.320   \n2542                                          27531.320   \n2543                                          27531.320   \n\n      node_disk_io_time_weighted_seconds_total_10.251.0.114:9100  \\\n501                                          186413.680            \n502                                          186414.612            \n503                                          186415.584            \n504                                          186416.556            \n505                                          186417.524            \n...                                                 ...            \n2539                                         186672.832            \n2540                                         186672.832            \n2541                                         186672.832            \n2542                                         186672.832            \n2543                                         186672.832            \n\n      node_disk_read_bytes_total_10.251.0.114:9100  \\\n501                                    48142965760   \n502                                    48194812928   \n503                                    48243440640   \n504                                    48292461568   \n505                                    48340433920   \n...                                            ...   \n2539                                   67006131200   \n2540                                   67009801216   \n2541                                   67012422656   \n2542                                   67015175168   \n2543                                   67017665536   \n\n      node_disk_read_time_seconds_total_10.251.0.114:9100  ...  \\\n501                                            1489.460    ...   \n502                                            1490.976    ...   \n503                                            1492.336    ...   \n504                                            1493.936    ...   \n505                                            1495.316    ...   \n...                                                 ...    ...   \n2539                                           1742.376    ...   \n2540                                           1742.416    ...   \n2541                                           1742.424    ...   \n2542                                           1742.448    ...   \n2543                                           1742.484    ...   \n\n      node_vmstat_pgpgin_10.251.0.114:9100  \\\n501                               47014752   \n502                               47065128   \n503                               47113128   \n504                               47161384   \n505                               47207720   \n...                                    ...   \n2539                              65435684   \n2540                              65439268   \n2541                              65441828   \n2542                              65444516   \n2543                              65446948   \n\n      node_vmstat_pgpgout_10.251.0.114:9100  \\\n501                               623673535   \n502                               623673623   \n503                               623673623   \n504                               623673623   \n505                               623673623   \n...                                     ...   \n2539                              626018275   \n2540                              626018275   \n2541                              626018347   \n2542                              626018347   \n2543                              626018347   \n\n      node_vmstat_pswpin_10.251.0.114:9100  \\\n501                                      0   \n502                                      0   \n503                                      0   \n504                                      0   \n505                                      0   \n...                                    ...   \n2539                                     0   \n2540                                     0   \n2541                                     0   \n2542                                     0   \n2543                                     0   \n\n      node_vmstat_pswpout_10.251.0.114:9100          time  target_cpu_master  \\\n501                                       0  1.626380e+09                  1   \n502                                       0  1.626380e+09                  1   \n503                                       0  1.626380e+09                  1   \n504                                       0  1.626380e+09                  1   \n505                                       0  1.626380e+09                  1   \n...                                     ...           ...                ...   \n2539                                      0  1.626382e+09                  1   \n2540                                      0  1.626382e+09                  1   \n2541                                      0  1.626382e+09                  1   \n2542                                      0  1.626382e+09                  1   \n2543                                      0  1.626382e+09                  1   \n\n      target_mem_master  target_copy_master  target_dummy_master  \\\n501                   0                   0                    0   \n502                   0                   0                    0   \n503                   0                   0                    0   \n504                   0                   0                    0   \n505                   0                   0                    0   \n...                 ...                 ...                  ...   \n2539                  0                   0                    0   \n2540                  0                   0                    0   \n2541                  0                   0                    0   \n2542                  0                   0                    0   \n2543                  0                   0                    0   \n\n      target_ddot_master  \n501                    0  \n502                    0  \n503                    0  \n504                    0  \n505                    0  \n...                  ...  \n2539                   0  \n2540                   0  \n2541                   0  \n2542                   0  \n2543                   0  \n\n[143 rows x 199 columns]",
      "text/html": "<div>\n<style scoped>\n    .dataframe tbody tr th:only-of-type {\n        vertical-align: middle;\n    }\n\n    .dataframe tbody tr th {\n        vertical-align: top;\n    }\n\n    .dataframe thead th {\n        text-align: right;\n    }\n</style>\n<table border=\"1\" class=\"dataframe\">\n  <thead>\n    <tr style=\"text-align: right;\">\n      <th></th>\n      <th>node_arp_entries_10.251.0.114:9100</th>\n      <th>node_boot_time_seconds_10.251.0.114:9100</th>\n      <th>node_context_switches_total_10.251.0.114:9100</th>\n      <th>node_cpu_guest_seconds_total_10.251.0.114:9100</th>\n      <th>node_cpu_seconds_total_10.251.0.114:9100</th>\n      <th>node_disk_io_now_10.251.0.114:9100</th>\n      <th>node_disk_io_time_seconds_total_10.251.0.114:9100</th>\n      <th>node_disk_io_time_weighted_seconds_total_10.251.0.114:9100</th>\n      <th>node_disk_read_bytes_total_10.251.0.114:9100</th>\n      <th>node_disk_read_time_seconds_total_10.251.0.114:9100</th>\n      <th>...</th>\n      <th>node_vmstat_pgpgin_10.251.0.114:9100</th>\n      <th>node_vmstat_pgpgout_10.251.0.114:9100</th>\n      <th>node_vmstat_pswpin_10.251.0.114:9100</th>\n      <th>node_vmstat_pswpout_10.251.0.114:9100</th>\n      <th>time</th>\n      <th>target_cpu_master</th>\n      <th>target_mem_master</th>\n      <th>target_copy_master</th>\n      <th>target_dummy_master</th>\n      <th>target_ddot_master</th>\n    </tr>\n  </thead>\n  <tbody>\n    <tr>\n      <th>501</th>\n      <td>6</td>\n      <td>1620821678</td>\n      <td>3155867027</td>\n      <td>0</td>\n      <td>63663.59</td>\n      <td>0</td>\n      <td>27461.104</td>\n      <td>186413.680</td>\n      <td>48142965760</td>\n      <td>1489.460</td>\n      <td>...</td>\n      <td>47014752</td>\n      <td>623673535</td>\n      <td>0</td>\n      <td>0</td>\n      <td>1.626380e+09</td>\n      <td>1</td>\n      <td>0</td>\n      <td>0</td>\n      <td>0</td>\n      <td>0</td>\n    </tr>\n    <tr>\n      <th>502</th>\n      <td>6</td>\n      <td>1620821678</td>\n      <td>3155868124</td>\n      <td>0</td>\n      <td>63664.36</td>\n      <td>0</td>\n      <td>27461.628</td>\n      <td>186414.612</td>\n      <td>48194812928</td>\n      <td>1490.976</td>\n      <td>...</td>\n      <td>47065128</td>\n      <td>623673623</td>\n      <td>0</td>\n      <td>0</td>\n      <td>1.626380e+09</td>\n      <td>1</td>\n      <td>0</td>\n      <td>0</td>\n      <td>0</td>\n      <td>0</td>\n    </tr>\n    <tr>\n      <th>503</th>\n      <td>6</td>\n      <td>1620821678</td>\n      <td>3155868791</td>\n      <td>0</td>\n      <td>63665.06</td>\n      <td>0</td>\n      <td>27462.144</td>\n      <td>186415.584</td>\n      <td>48243440640</td>\n      <td>1492.336</td>\n      <td>...</td>\n      <td>47113128</td>\n      <td>623673623</td>\n      <td>0</td>\n      <td>0</td>\n      <td>1.626380e+09</td>\n      <td>1</td>\n      <td>0</td>\n      <td>0</td>\n      <td>0</td>\n      <td>0</td>\n    </tr>\n    <tr>\n      <th>504</th>\n      <td>6</td>\n      <td>1620821678</td>\n      <td>3155869540</td>\n      <td>0</td>\n      <td>63665.53</td>\n      <td>0</td>\n      <td>27462.680</td>\n      <td>186416.556</td>\n      <td>48292461568</td>\n      <td>1493.936</td>\n      <td>...</td>\n      <td>47161384</td>\n      <td>623673623</td>\n      <td>0</td>\n      <td>0</td>\n      <td>1.626380e+09</td>\n      <td>1</td>\n      <td>0</td>\n      <td>0</td>\n      <td>0</td>\n      <td>0</td>\n    </tr>\n    <tr>\n      <th>505</th>\n      <td>6</td>\n      <td>1620821678</td>\n      <td>3155870323</td>\n      <td>0</td>\n      <td>63666.24</td>\n      <td>0</td>\n      <td>27463.140</td>\n      <td>186417.524</td>\n      <td>48340433920</td>\n      <td>1495.316</td>\n      <td>...</td>\n      <td>47207720</td>\n      <td>623673623</td>\n      <td>0</td>\n      <td>0</td>\n      <td>1.626380e+09</td>\n      <td>1</td>\n      <td>0</td>\n      <td>0</td>\n      <td>0</td>\n      <td>0</td>\n    </tr>\n    <tr>\n      <th>...</th>\n      <td>...</td>\n      <td>...</td>\n      <td>...</td>\n      <td>...</td>\n      <td>...</td>\n      <td>...</td>\n      <td>...</td>\n      <td>...</td>\n      <td>...</td>\n      <td>...</td>\n      <td>...</td>\n      <td>...</td>\n      <td>...</td>\n      <td>...</td>\n      <td>...</td>\n      <td>...</td>\n      <td>...</td>\n      <td>...</td>\n      <td>...</td>\n      <td>...</td>\n      <td>...</td>\n    </tr>\n    <tr>\n      <th>2539</th>\n      <td>6</td>\n      <td>1620821678</td>\n      <td>3161521762</td>\n      <td>0</td>\n      <td>64768.32</td>\n      <td>0</td>\n      <td>27531.320</td>\n      <td>186672.832</td>\n      <td>67006131200</td>\n      <td>1742.376</td>\n      <td>...</td>\n      <td>65435684</td>\n      <td>626018275</td>\n      <td>0</td>\n      <td>0</td>\n      <td>1.626382e+09</td>\n      <td>1</td>\n      <td>0</td>\n      <td>0</td>\n      <td>0</td>\n      <td>0</td>\n    </tr>\n    <tr>\n      <th>2540</th>\n      <td>6</td>\n      <td>1620821678</td>\n      <td>3161522607</td>\n      <td>0</td>\n      <td>64769.28</td>\n      <td>0</td>\n      <td>27531.320</td>\n      <td>186672.832</td>\n      <td>67009801216</td>\n      <td>1742.416</td>\n      <td>...</td>\n      <td>65439268</td>\n      <td>626018275</td>\n      <td>0</td>\n      <td>0</td>\n      <td>1.626382e+09</td>\n      <td>1</td>\n      <td>0</td>\n      <td>0</td>\n      <td>0</td>\n      <td>0</td>\n    </tr>\n    <tr>\n      <th>2541</th>\n      <td>6</td>\n      <td>1620821678</td>\n      <td>3161523678</td>\n      <td>0</td>\n      <td>64770.22</td>\n      <td>0</td>\n      <td>27531.320</td>\n      <td>186672.832</td>\n      <td>67012422656</td>\n      <td>1742.424</td>\n      <td>...</td>\n      <td>65441828</td>\n      <td>626018347</td>\n      <td>0</td>\n      <td>0</td>\n      <td>1.626382e+09</td>\n      <td>1</td>\n      <td>0</td>\n      <td>0</td>\n      <td>0</td>\n      <td>0</td>\n    </tr>\n    <tr>\n      <th>2542</th>\n      <td>6</td>\n      <td>1620821678</td>\n      <td>3161524773</td>\n      <td>0</td>\n      <td>64771.18</td>\n      <td>0</td>\n      <td>27531.320</td>\n      <td>186672.832</td>\n      <td>67015175168</td>\n      <td>1742.448</td>\n      <td>...</td>\n      <td>65444516</td>\n      <td>626018347</td>\n      <td>0</td>\n      <td>0</td>\n      <td>1.626382e+09</td>\n      <td>1</td>\n      <td>0</td>\n      <td>0</td>\n      <td>0</td>\n      <td>0</td>\n    </tr>\n    <tr>\n      <th>2543</th>\n      <td>6</td>\n      <td>1620821678</td>\n      <td>3161525932</td>\n      <td>0</td>\n      <td>64772.12</td>\n      <td>0</td>\n      <td>27531.320</td>\n      <td>186672.832</td>\n      <td>67017665536</td>\n      <td>1742.484</td>\n      <td>...</td>\n      <td>65446948</td>\n      <td>626018347</td>\n      <td>0</td>\n      <td>0</td>\n      <td>1.626382e+09</td>\n      <td>1</td>\n      <td>0</td>\n      <td>0</td>\n      <td>0</td>\n      <td>0</td>\n    </tr>\n  </tbody>\n</table>\n<p>143 rows × 199 columns</p>\n</div>"
     },
     "execution_count": 21,
     "metadata": {},
     "output_type": "execute_result"
    }
   ],
   "source": [
    "\n",
    "df_labeled.loc[df_labeled['target_cpu_master'] == 1]"
   ],
   "metadata": {
    "collapsed": false,
    "pycharm": {
     "name": "#%%\n"
    }
   }
  },
  {
   "cell_type": "code",
   "execution_count": null,
   "outputs": [],
   "source": [],
   "metadata": {
    "collapsed": false,
    "pycharm": {
     "name": "#%%\n"
    }
   }
  }
 ],
 "metadata": {
  "kernelspec": {
   "display_name": "Python 3",
   "language": "python",
   "name": "python3"
  },
  "language_info": {
   "codemirror_mode": {
    "name": "ipython",
    "version": 2
   },
   "file_extension": ".py",
   "mimetype": "text/x-python",
   "name": "python",
   "nbconvert_exporter": "python",
   "pygments_lexer": "ipython2",
   "version": "2.7.6"
  }
 },
 "nbformat": 4,
 "nbformat_minor": 0
}