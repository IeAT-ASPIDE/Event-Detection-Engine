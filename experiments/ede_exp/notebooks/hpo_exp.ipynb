{
 "cells": [
  {
   "cell_type": "code",
   "execution_count": 1,
   "metadata": {
    "collapsed": true
   },
   "outputs": [
    {
     "name": "stdout",
     "output_type": "stream",
     "text": [
      "Setting paths and datasets\n"
     ]
    },
    {
     "name": "stderr",
     "output_type": "stream",
     "text": [
      "/home/gabriel/anaconda3/envs/pyaspide/lib/python3.6/site-packages/sklearn/utils/deprecation.py:144: FutureWarning: The sklearn.metrics.scorer module is  deprecated in version 0.22 and will be removed in version 0.24. The corresponding classes / functions should instead be imported from sklearn.metrics. Anything that cannot be imported from sklearn.metrics is now part of the private API.\n",
      "  warnings.warn(message, FutureWarning)\n"
     ]
    }
   ],
   "source": [
    "import numpy as np\n",
    "import pandas as pd\n",
    "from sklearn.model_selection import train_test_split, StratifiedKFold, KFold\n",
    "from sklearn.preprocessing import StandardScaler, RobustScaler\n",
    "from sklearn.ensemble import RandomForestClassifier\n",
    "from sklearn.metrics import balanced_accuracy_score, make_scorer, classification_report, accuracy_score, jaccard_similarity_score\n",
    "from sklearn.metrics import confusion_matrix\n",
    "import xgboost as xgb\n",
    "# from sklearn.externals import joblib\n",
    "from joblib import dump, load\n",
    "import json\n",
    "import os\n",
    "import matplotlib.pyplot as plt\n",
    "import seaborn as sns\n",
    "from evolutionary_search import EvolutionaryAlgorithmSearchCV\n",
    "%matplotlib inline\n",
    "print(\"Setting paths and datasets\")\n",
    "path_parent = os.path.dirname(os.getcwd())\n",
    "data_dir = os.path.join(path_parent,'data')\n",
    "model_dir = os.path.join(path_parent,'models')\n",
    "processed_dir = os.path.join(data_dir,'processed')\n",
    "df_anomaly = pd.read_csv(os.path.join(processed_dir,\"anomaly_anotated.csv\"))\n",
    "df_audsome = pd.read_csv(os.path.join(processed_dir,\"anomaly_anotated_audsome.csv\"))"
   ]
  },
  {
   "cell_type": "code",
   "execution_count": 2,
   "outputs": [
    {
     "name": "stdout",
     "output_type": "stream",
     "text": [
      "Dataset chosen ...\n",
      "Remove unwanted columns ...\n",
      "Shape before drop: (3900, 67)\n",
      "Shape after drop: (3900, 63)\n"
     ]
    }
   ],
   "source": [
    "print(\"Dataset chosen ...\")\n",
    "data = df_audsome\n",
    "drop_col = ['t1','t2','t3','t4']\n",
    "print(\"Remove unwanted columns ...\")\n",
    "print(\"Shape before drop: {}\".format(data.shape))\n",
    "data.drop(drop_col, axis=1, inplace=True)\n",
    "print(\"Shape after drop: {}\".format(data.shape))\n",
    "\n",
    "# Nice print\n",
    "nice_y = data['target']\n",
    "\n",
    "# Uncomment for removing dummy\n",
    "data.loc[data.target == \"dummy\", 'target'] = \"0\"\n",
    "\n",
    "#Creating the dependent variable class\n",
    "factor = pd.factorize(data['target'])\n",
    "data.target = factor[0]\n",
    "definitions = factor[1]\n",
    "# print(data.target.head())\n",
    "# print(definitions)"
   ],
   "metadata": {
    "collapsed": false,
    "pycharm": {
     "name": "#%%\n"
    }
   }
  },
  {
   "cell_type": "code",
   "execution_count": 3,
   "outputs": [
    {
     "name": "stdout",
     "output_type": "stream",
     "text": [
      "Splitting dataset into training and ground truth ...\n"
     ]
    }
   ],
   "source": [
    "print(\"Splitting dataset into training and ground truth ...\")\n",
    "X = data.drop('target', axis=1)\n",
    "y = data['target']"
   ],
   "metadata": {
    "collapsed": false,
    "pycharm": {
     "name": "#%%\n"
    }
   }
  },
  {
   "cell_type": "code",
   "execution_count": 4,
   "outputs": [
    {
     "name": "stdout",
     "output_type": "stream",
     "text": [
      "Ploting class distribution ..\n"
     ]
    },
    {
     "data": {
      "text/plain": "<matplotlib.axes._subplots.AxesSubplot at 0x7f96491fb6a0>"
     },
     "execution_count": 4,
     "metadata": {},
     "output_type": "execute_result"
    },
    {
     "data": {
      "text/plain": "<Figure size 432x288 with 1 Axes>",
      "image/png": "[encoded data removed]"
     },
     "metadata": {
      "needs_background": "light"
     },
     "output_type": "display_data"
    }
   ],
   "source": [
    "# Plot class distribution\n",
    "print(\"Ploting class distribution ..\")\n",
    "sns.countplot(nice_y)"
   ],
   "metadata": {
    "collapsed": false,
    "pycharm": {
     "name": "#%%\n"
    }
   }
  },
  {
   "cell_type": "code",
   "execution_count": 5,
   "outputs": [
    {
     "name": "stdout",
     "output_type": "stream",
     "text": [
      "Scaling dataset\n"
     ]
    }
   ],
   "source": [
    "print(\"Scaling dataset\")\n",
    "scaler = StandardScaler()\n",
    "# scaler = RobustScaler()\n",
    "X = scaler.fit_transform(X)"
   ],
   "metadata": {
    "collapsed": false,
    "pycharm": {
     "name": "#%%\n"
    }
   }
  },
  {
   "cell_type": "code",
   "execution_count": 11,
   "outputs": [
    {
     "data": {
      "text/plain": "dict_keys(['base_score', 'booster', 'colsample_bylevel', 'colsample_bytree', 'gamma', 'learning_rate', 'max_delta_step', 'max_depth', 'min_child_weight', 'missing', 'n_estimators', 'n_jobs', 'nthread', 'objective', 'random_state', 'reg_alpha', 'reg_lambda', 'scale_pos_weight', 'seed', 'silent', 'subsample'])"
     },
     "execution_count": 11,
     "metadata": {},
     "output_type": "execute_result"
    }
   ],
   "source": [
    "# RandomForest\n",
    "# prefix = 'RF_3'\n",
    "# dnn = False\n",
    "# paramgrid = {\n",
    "#     \"n_estimators\": [10, 50, 100, 200, 300, 500],\n",
    "#     \"max_depth\": [5, 10, 25, 50, None],\n",
    "#     \"max_features\": [1, 5, 10, 20, 30, 50, 60, 'auto'],\n",
    "#     \"min_samples_split\":[2, 5, 11],\n",
    "#     \"min_samples_leaf\":[1, 5, 11],\n",
    "#     \"criterion\": ['entropy', 'gini'],\n",
    "#     \"random_state\": [42]\n",
    "# }\n",
    "# model = RandomForestClassifier()\n",
    "\n",
    "# XGBoost\n",
    "# prefix = 'xgb_4'\n",
    "# dnn = False\n",
    "# paramgrid = {\n",
    "#     'n_estimators': [10, 50, 100, 200, 300],\n",
    "#     'max_depth': [3, 4, 6],\n",
    "#     'learning_rate': [0.01, 0.05, 0.1, 0.15, 0.2],\n",
    "#     'subsample': [0.2, 0.5, 1],\n",
    "#     'min_child_weight':[1, 2, 5, 6],\n",
    "#     'gamma':[0, 0.1, 1],\n",
    "#     'seed': [42],\n",
    "#     'objective': ['multi:softmax'],  # error evaluation for multiclass training\n",
    "#     # 'num_class': [len(definitions)],\n",
    "# }\n",
    "# #\n",
    "# model = xgb.XGBClassifier()\n",
    "# model.get_params().keys()\n",
    "#\n",
    "# DNN\n",
    "prefix = 'dnn_3'\n",
    "dnn = True # needed for special reporting features\n",
    "import tensorflow as tf\n",
    "from tensorflow.keras.wrappers.scikit_learn import KerasClassifier\n",
    "from tensorflow.keras.callbacks import EarlyStopping\n",
    "from tensorflow.keras.models import Sequential\n",
    "from tensorflow.keras.layers import Dense, Conv1D, Dropout, LSTM, SimpleRNN\n",
    "from tensorflow.keras.optimizers import Adam, Adagrad, SGD\n",
    "from tensorflow.keras.utils import plot_model\n",
    "\n",
    "paramgrid = {\n",
    "    \"optimizer\": [\"adam\", \"adagrad\", \"sgd\"],\n",
    "    \"learning_r\": [0.01, 0.0001 , 0.003, 0.001],\n",
    "    \"patience\" : [4],\n",
    "    \"batch_size\": [32, 64, 128, 256],\n",
    "    \"epochs\": [300],\n",
    "    \"kernel_init\": ['he_uniform', 'he_normal'],\n",
    "    \"layer_1\": [0, 50, 100],\n",
    "    \"layer_2\": [0,  50, 100],\n",
    "    \"layer_3\": [0,  50, 100],\n",
    "    \"layer_0\": [0, 200, 100, 50],\n",
    "    \"drop\": [0, 0.1, 0.2, 0.3, 0.4],\n",
    "    \"loss\": [\"categorical_crossentropy\"],\n",
    "    \"activation_1\": ['relu', 'elu', 'selu'],\n",
    "    \"out_activation\":[\"sigmoid\"]\n",
    "}\n",
    "\n",
    "y_oh = pd.get_dummies(y, prefix='target')\n",
    "\n",
    "# Reverse one hot encoding\n",
    "def reverse_oh(y_oh):\n",
    "    decode = []\n",
    "    for r in y_oh:\n",
    "        # print(r)\n",
    "        result = np.where(r == 1.)[0]\n",
    "        # print(result)\n",
    "        #check if network asigned more than one or non labels\n",
    "        if len(result) > 1 or len(result) == 0:\n",
    "            if len(result) > 1:\n",
    "                result = np.array([result[0]])  # select first class\n",
    "            elif len(result) == 0:\n",
    "                result = np.array([0])\n",
    "\n",
    "        decode.append(result[0])\n",
    "    return decode\n",
    "\n",
    "\n",
    "def dnn_aspide(optimizer='adam', #adam, adagrad, sgd\n",
    "               learning_r = 0.01,\n",
    "              patience=5,\n",
    "              batch_size=32,\n",
    "              epochs=1000,\n",
    "              kernel_init='he_uniform',\n",
    "              layer_1 = 20,\n",
    "              layer_2 = 40,\n",
    "              layer_3 = 40,\n",
    "              layer_0 = 100,\n",
    "              drop = 0.1,\n",
    "              loss='categorical_crossentropy',\n",
    "              activation_1 = 'relu', # elu, selu\n",
    "              out_activation='sigmoid'):\n",
    "    y_oh = pd.get_dummies(y, prefix='target')\n",
    "    # print(np.asarray(X).shape[1], len(y_oh.nunique()))\n",
    "    n_inputs, n_outputs = X.shape[1], len(y_oh.nunique())\n",
    "    model = Sequential()\n",
    "    # model.add(Conv1D(filters=32, kernel_size=2,activation=activation_1, input_shape=n_inputs, kernel_initializer=kernel_init))\n",
    "    model.add(Dense(layer_0, input_dim=n_inputs, kernel_initializer=kernel_init, activation=activation_1))\n",
    "    if drop:\n",
    "        model.add(Dropout(drop))\n",
    "    if layer_1:\n",
    "        model.add(Dense(layer_1, input_dim=n_inputs, kernel_initializer=kernel_init, activation=activation_1))\n",
    "        if drop:\n",
    "            model.add(Dropout(drop))\n",
    "    if layer_2:\n",
    "        model.add(Dense(layer_2, input_dim=n_inputs, kernel_initializer=kernel_init, activation=activation_1))\n",
    "        if drop:\n",
    "            model.add(Dropout(drop))\n",
    "    if layer_3:\n",
    "        model.add(Dense(layer_2, input_dim=n_inputs, kernel_initializer=kernel_init, activation=activation_1))\n",
    "        if drop:\n",
    "            model.add(Dropout(drop))\n",
    "    model.add(Dense(n_outputs, activation=out_activation))\n",
    "    if optimizer == 'adam':\n",
    "        opt = Adam(learning_rate=learning_r)\n",
    "    if optimizer == 'adagrad':\n",
    "        opt = Adagrad(learning_rate=learning_r)\n",
    "    if optimizer == 'sgd':\n",
    "        opt = SGD(learning_rate=learning_r)\n",
    "    else:\n",
    "        opt = Adam(learning_rate=0.01)\n",
    "    model.compile(optimizer = opt, loss=loss, metrics=['accuracy', 'categorical_crossentropy', 'binary_crossentropy'])\n",
    "    early_stopping = EarlyStopping(monitor=\"loss\", patience = patience)# early stop patience\n",
    "    history = model.fit(np.asarray(X), np.asarray(y_oh),\n",
    "              batch_size=batch_size,\n",
    "              epochs=epochs,\n",
    "              callbacks = [early_stopping],\n",
    "              verbose=0) #verbose set to 1 will show the training process\n",
    "    # df_history = pd.DataFrame(h.history)\n",
    "    # df_history\n",
    "    return model\n",
    "\n",
    "# model = dnn_aspide()\n",
    "model = KerasClassifier(build_fn=dnn_aspide, verbose=0)"
   ],
   "metadata": {
    "collapsed": false,
    "pycharm": {
     "name": "#%%\n"
    }
   }
  },
  {
   "cell_type": "code",
   "execution_count": 12,
   "outputs": [
    {
     "name": "stderr",
     "output_type": "stream",
     "text": [
      "/home/gabriel/anaconda3/envs/pyaspide/lib/python3.6/site-packages/deap/creator.py:141: RuntimeWarning: A class named 'FitnessMax' has already been created and it will be overwritten. Consider deleting previous creation of that class or rename it.\n",
      "  RuntimeWarning)\n",
      "/home/gabriel/anaconda3/envs/pyaspide/lib/python3.6/site-packages/deap/creator.py:141: RuntimeWarning: A class named 'Individual' has already been created and it will be overwritten. Consider deleting previous creation of that class or rename it.\n",
      "  RuntimeWarning)\n"
     ]
    }
   ],
   "source": [
    "#Example of HPO methods https://github.com/LiYangHart/Hyperparameter-Optimization-of-Machine-Learning-Algorithms/blob/master/HPO_Classification.ipynb\n",
    "# scorer = make_scorer(accuracy_score, )\n",
    "scorer = make_scorer(jaccard_similarity_score)\n",
    "# scorer = 'accuracy'\n",
    "n_splits = 2 # default 4\n",
    "if not dnn:\n",
    "    cv_type = StratifiedKFold(n_splits=n_splits)\n",
    "    nj = 8\n",
    "else:\n",
    "    # cv_type = KFold(n_splits=n_splits)\n",
    "    cv_type = None\n",
    "    nj = 1\n",
    "cv = EvolutionaryAlgorithmSearchCV(estimator=model,\n",
    "                                   params=paramgrid,\n",
    "                                   scoring=scorer,\n",
    "                                   cv=cv_type, # StratifiedKFold not supported for multilabel-indicator (oh encoding)\n",
    "                                   verbose=4,\n",
    "                                   population_size=20, # 40\n",
    "                                   gene_mutation_prob=0.20,\n",
    "                                   gene_crossover_prob=0.5,\n",
    "                                   tournament_size=4,\n",
    "                                   generations_number=30, #10\n",
    "                                   n_jobs=nj) # for dnn n_jobs must be set to 1 rest is 8"
   ],
   "metadata": {
    "collapsed": false,
    "pycharm": {
     "name": "#%%\n"
    }
   }
  },
  {
   "cell_type": "code",
   "execution_count": 13,
   "outputs": [
    {
     "ename": "TypeError",
     "evalue": "fit() got an unexpected keyword argument 'eval_metric'",
     "output_type": "error",
     "traceback": [
      "\u001B[0;31m---------------------------------------------------------------------------\u001B[0m",
      "\u001B[0;31mTypeError\u001B[0m                                 Traceback (most recent call last)",
      "\u001B[0;32m<ipython-input-13-fb8480bfdefc>\u001B[0m in \u001B[0;36m<module>\u001B[0;34m()\u001B[0m\n\u001B[1;32m      1\u001B[0m \u001B[0;34m\u001B[0m\u001B[0m\n\u001B[0;32m----> 2\u001B[0;31m \u001B[0mcv\u001B[0m\u001B[0;34m.\u001B[0m\u001B[0mfit\u001B[0m\u001B[0;34m(\u001B[0m\u001B[0mX\u001B[0m\u001B[0;34m,\u001B[0m \u001B[0my\u001B[0m\u001B[0;34m,\u001B[0m \u001B[0meval_metric\u001B[0m\u001B[0;34m=\u001B[0m\u001B[0;34m\"mlogloss\"\u001B[0m\u001B[0;34m,\u001B[0m \u001B[0mearly_stopping_rounds\u001B[0m\u001B[0;34m=\u001B[0m\u001B[0;36m10\u001B[0m\u001B[0;34m)\u001B[0m\u001B[0;34m\u001B[0m\u001B[0;34m\u001B[0m\u001B[0m\n\u001B[0m\u001B[1;32m      3\u001B[0m \u001B[0;34m\u001B[0m\u001B[0m\n",
      "\u001B[0;31mTypeError\u001B[0m: fit() got an unexpected keyword argument 'eval_metric'"
     ]
    }
   ],
   "source": [
    "cv.fit(X, y)"
   ],
   "metadata": {
    "collapsed": false,
    "pycharm": {
     "name": "#%%\n"
    }
   }
  },
  {
   "cell_type": "code",
   "execution_count": 88,
   "outputs": [
    {
     "name": "stdout",
     "output_type": "stream",
     "text": [
      "Saving CV results\n",
      "dnn_2 best params: {'optimizer': 'sgd', 'learning_r': 0.01, 'patience': 4, 'batch_size': 32, 'epochs': 300, 'kernel_init': 'he_normal', 'layer_1': 0, 'layer_2': 50, 'layer_3': 100, 'layer_0': 50, 'drop': 0.3, 'loss': 'categorical_crossentropy', 'activation_1': 'elu', 'out_activation': 'sigmoid'}\n",
      "dnn_2 best score: 0.9802083333333333\n",
      "Saving best dnn_2 estimator\n"
     ]
    }
   ],
   "source": [
    "# Remove bool values from dict\n",
    "cv.cv_results_.pop('nan_test_score?')\n",
    "\n",
    "print(\"Saving CV results\")\n",
    "file_name = \"{}_hpo_best_cv.csv\".format(prefix)\n",
    "# with open(os.path.join(model_dir,file_name), 'w') as cvfile:\n",
    "#     json.dump(cv.cv_results_, cvfile)\n",
    "cv_test_scores = pd.DataFrame(cv.cv_results_)\n",
    "cv_test_scores.to_csv(os.path.join(model_dir,file_name), index=False)\n",
    "print(\"{} best params: {}\".format(prefix, cv.best_params_))\n",
    "param_name = \"{}_hpo_best_param.json\".format(prefix)\n",
    "with open(os.path.join(model_dir,param_name), 'w') as cvfile:\n",
    "    json.dump(cv.best_params_, cvfile)\n",
    "print(\"{} best score: {}\".format(prefix, cv.best_score_))\n",
    "print(\"Saving best {} estimator\".format(prefix))\n",
    "if dnn:\n",
    "    model_name = \"{}_hpo_best.keras\".format(prefix)\n",
    "    cv.best_estimator_.model.save(os.path.join(model_dir, model_name))\n",
    "else:\n",
    "    model_name = \"{}_hpo_best.joblib\".format(prefix)\n",
    "    dump(cv.best_estimator_, os.path.join(model_dir,model_name))"
   ],
   "metadata": {
    "collapsed": false,
    "pycharm": {
     "name": "#%%\n"
    }
   }
  },
  {
   "cell_type": "code",
   "execution_count": 89,
   "outputs": [],
   "source": [
    "if not dnn:\n",
    "    y_pred = cv.best_estimator_.predict(X)\n",
    "    print(\"Accuracy score is: {}\".format(accuracy_score(y, y_pred)))\n",
    "    print(\"Ballanced accuracy score is: {}\".format(balanced_accuracy_score(y, y_pred)))\n",
    "    print(\"Jaccard score: {}\".format(jaccard_similarity_score(y, y_pred)))\n",
    "    print(\"Full classification report\")\n",
    "    print(classification_report(y, y_pred, target_names=definitions))\n",
    "    report = classification_report(y, y_pred, output_dict=True)\n",
    "    df_classification_report = pd.DataFrame(report).transpose()\n",
    "    classification_rep_name = \"{}_classification_rep_best.csv\".format(prefix)\n",
    "    df_classification_report.to_csv(os.path.join(model_dir,classification_rep_name), index=False)"
   ],
   "metadata": {
    "collapsed": false,
    "pycharm": {
     "name": "#%%\n"
    }
   }
  },
  {
   "cell_type": "code",
   "execution_count": 90,
   "outputs": [],
   "source": [
    "if not dnn:\n",
    "    print(\"Confusion matrix\")\n",
    "    cf_matrix = confusion_matrix(y, y_pred)\n",
    "    sns_cf = sns.heatmap(cf_matrix, annot=True, yticklabels=list(definitions), xticklabels=list(definitions))\n",
    "    cf_fig = \"{}_cf.png\".format(prefix)\n",
    "    sns_cf.figure.savefig(os.path.join(model_dir, cf_fig))\n"
   ],
   "metadata": {
    "collapsed": false,
    "pycharm": {
     "name": "#%%\n"
    }
   }
  },
  {
   "cell_type": "code",
   "execution_count": 91,
   "outputs": [],
   "source": [
    "# Extract Feature importance\n",
    "if not dnn:\n",
    "    feat_importances = pd.Series(cv.best_estimator_.feature_importances_, index=list(data.drop('target', axis=1).columns))\n",
    "    featureimp_name = \"{}_hpo_best_featureimp.csv\".format(prefix)\n",
    "    feat_importances.to_csv(os.path.join(model_dir, featureimp_name), index=True)\n",
    "    # print(feat_importances.head(10))\n",
    "    sorted_feature = feat_importances.sort_values(ascending=True)\n",
    "    # Plot the feature importances of the forest\n",
    "    plt.figure()\n",
    "    plt.title(\"Feature importances\")\n",
    "    plt.barh(range(X.shape[1]), sorted_feature,\n",
    "           color=\"r\", align=\"center\")\n",
    "    # If you want to define your own labels,\n",
    "    # change indices to a list of labels on the following line.\n",
    "    plt.yticks(range(X.shape[1]), sorted_feature.index)\n",
    "    plt.ylim([-1, X.shape[1]])\n",
    "    plt.show()\n"
   ],
   "metadata": {
    "collapsed": false,
    "pycharm": {
     "name": "#%%\n"
    }
   }
  },
  {
   "cell_type": "code",
   "execution_count": 92,
   "outputs": [
    {
     "name": "stdout",
     "output_type": "stream",
     "text": [
      "Accuracy score is: 0.9847916666666666\n",
      "Ballanced accuracy score is: 0.9830232215376874\n",
      "Jaccard score: 0.9847916666666666\n",
      "Full classification report\n",
      "              precision    recall  f1-score   support\n",
      "\n",
      "        copy       0.99      0.98      0.98       497\n",
      "         mem       0.99      0.99      0.99      1458\n",
      "           0       0.98      0.98      0.98      2365\n",
      "         cpu       0.98      0.98      0.98       480\n",
      "\n",
      "    accuracy                           0.98      4800\n",
      "   macro avg       0.98      0.98      0.98      4800\n",
      "weighted avg       0.98      0.98      0.98      4800\n",
      "\n"
     ]
    },
    {
     "name": "stderr",
     "output_type": "stream",
     "text": [
      "/home/gabriel/anaconda3/envs/pyaspide/lib/python3.6/site-packages/sklearn/metrics/_classification.py:664: FutureWarning: jaccard_similarity_score has been deprecated and replaced with jaccard_score. It will be removed in version 0.23. This implementation has surprising behavior for binary and multiclass classification tasks.\n",
      "  FutureWarning)\n"
     ]
    }
   ],
   "source": [
    "# Special case for DNN\n",
    "if dnn:\n",
    "    y_pred = cv.best_estimator_.predict(X)\n",
    "    # print(y_pred)\n",
    "    # print(y)\n",
    "    # y_pred = y_pred.round()\n",
    "    # y_pred = reverse_oh(y_pred)\n",
    "    # print(y_pred)\n",
    "    # # print(decode)\n",
    "    print(\"Accuracy score is: {}\".format(accuracy_score(y, y_pred)))\n",
    "    print(\"Ballanced accuracy score is: {}\".format(balanced_accuracy_score(y, y_pred)))\n",
    "    print(\"Jaccard score: {}\".format(jaccard_similarity_score(y, y_pred)))\n",
    "    print(\"Full classification report\")\n",
    "    print(classification_report(y, y_pred, target_names=definitions))\n",
    "    report = classification_report(y, y_pred, output_dict=True)\n",
    "    df_classification_report = pd.DataFrame(report).transpose()\n",
    "    classification_rep_name = \"{}_classification_rep_best.csv\".format(prefix)\n",
    "    df_classification_report.to_csv(os.path.join(model_dir,classification_rep_name), index=False)\n"
   ],
   "metadata": {
    "collapsed": false,
    "pycharm": {
     "name": "#%%\n"
    }
   }
  },
  {
   "cell_type": "code",
   "execution_count": 93,
   "outputs": [
    {
     "name": "stdout",
     "output_type": "stream",
     "text": [
      "Confusion matrix\n"
     ]
    },
    {
     "data": {
      "text/plain": "<Figure size 432x288 with 2 Axes>",
      "image/png": "[encoded data removed]"
     },
     "metadata": {
      "needs_background": "light"
     },
     "output_type": "display_data"
    }
   ],
   "source": [
    "# Special CF for DNN\n",
    "if dnn:\n",
    "    print(\"Confusion matrix\")\n",
    "    cf_matrix = confusion_matrix(y, y_pred)\n",
    "    sns_cf = sns.heatmap(cf_matrix, annot=True, yticklabels=list(definitions), xticklabels=list(definitions))\n",
    "    cf_fig = \"{}_cf.png\".format(prefix)\n",
    "    sns_cf.figure.savefig(os.path.join(model_dir, cf_fig))"
   ],
   "metadata": {
    "collapsed": false,
    "pycharm": {
     "name": "#%%\n"
    }
   }
  },
  {
   "cell_type": "code",
   "execution_count": 94,
   "outputs": [
    {
     "data": {
      "text/plain": "         loss  accuracy  categorical_crossentropy  binary_crossentropy\n0    0.122951  0.977708                  0.122952             0.104187\n1    0.119649  0.977708                  0.119649             0.102784\n2    0.124109  0.979375                  0.124109             0.105827\n3    0.124286  0.977500                  0.124286             0.102397\n4    0.125462  0.978542                  0.125462             0.105858\n..        ...       ...                       ...                  ...\n295  0.086398  0.983333                  0.086398             0.079046\n296  0.084873  0.984583                  0.084873             0.078958\n297  0.086587  0.983542                  0.086587             0.079537\n298  0.086224  0.983958                  0.086224             0.080009\n299  0.084400  0.983542                  0.084400             0.082392\n\n[300 rows x 4 columns]",
      "text/html": "<div>\n<style scoped>\n    .dataframe tbody tr th:only-of-type {\n        vertical-align: middle;\n    }\n\n    .dataframe tbody tr th {\n        vertical-align: top;\n    }\n\n    .dataframe thead th {\n        text-align: right;\n    }\n</style>\n<table border=\"1\" class=\"dataframe\">\n  <thead>\n    <tr style=\"text-align: right;\">\n      <th></th>\n      <th>loss</th>\n      <th>accuracy</th>\n      <th>categorical_crossentropy</th>\n      <th>binary_crossentropy</th>\n    </tr>\n  </thead>\n  <tbody>\n    <tr>\n      <th>0</th>\n      <td>0.122951</td>\n      <td>0.977708</td>\n      <td>0.122952</td>\n      <td>0.104187</td>\n    </tr>\n    <tr>\n      <th>1</th>\n      <td>0.119649</td>\n      <td>0.977708</td>\n      <td>0.119649</td>\n      <td>0.102784</td>\n    </tr>\n    <tr>\n      <th>2</th>\n      <td>0.124109</td>\n      <td>0.979375</td>\n      <td>0.124109</td>\n      <td>0.105827</td>\n    </tr>\n    <tr>\n      <th>3</th>\n      <td>0.124286</td>\n      <td>0.977500</td>\n      <td>0.124286</td>\n      <td>0.102397</td>\n    </tr>\n    <tr>\n      <th>4</th>\n      <td>0.125462</td>\n      <td>0.978542</td>\n      <td>0.125462</td>\n      <td>0.105858</td>\n    </tr>\n    <tr>\n      <th>...</th>\n      <td>...</td>\n      <td>...</td>\n      <td>...</td>\n      <td>...</td>\n    </tr>\n    <tr>\n      <th>295</th>\n      <td>0.086398</td>\n      <td>0.983333</td>\n      <td>0.086398</td>\n      <td>0.079046</td>\n    </tr>\n    <tr>\n      <th>296</th>\n      <td>0.084873</td>\n      <td>0.984583</td>\n      <td>0.084873</td>\n      <td>0.078958</td>\n    </tr>\n    <tr>\n      <th>297</th>\n      <td>0.086587</td>\n      <td>0.983542</td>\n      <td>0.086587</td>\n      <td>0.079537</td>\n    </tr>\n    <tr>\n      <th>298</th>\n      <td>0.086224</td>\n      <td>0.983958</td>\n      <td>0.086224</td>\n      <td>0.080009</td>\n    </tr>\n    <tr>\n      <th>299</th>\n      <td>0.084400</td>\n      <td>0.983542</td>\n      <td>0.084400</td>\n      <td>0.082392</td>\n    </tr>\n  </tbody>\n</table>\n<p>300 rows × 4 columns</p>\n</div>"
     },
     "execution_count": 94,
     "metadata": {},
     "output_type": "execute_result"
    }
   ],
   "source": [
    "if dnn:\n",
    "    # DNN history export\n",
    "    df_history = pd.DataFrame(cv.best_estimator_.model.history.history)\n",
    "    history_name = \"{}_history.csv\".format(prefix)\n",
    "    df_history.to_csv(os.path.join(model_dir,history_name), index=False)\n",
    "df_history"
   ],
   "metadata": {
    "collapsed": false,
    "pycharm": {
     "name": "#%%\n"
    }
   }
  },
  {
   "cell_type": "code",
   "execution_count": 95,
   "outputs": [
    {
     "name": "stdout",
     "output_type": "stream",
     "text": [
      "Saving topology\n"
     ]
    }
   ],
   "source": [
    "if dnn:\n",
    "    # Export DNN topology\n",
    "    print(\"Saving topology\")\n",
    "    topology_name = \"{}_topology.png\".format(prefix)\n",
    "    plot_model(cv.best_estimator_.model, to_file=os.path.join(model_dir, topology_name), show_shapes=True)\n"
   ],
   "metadata": {
    "collapsed": false,
    "pycharm": {
     "name": "#%%\n"
    }
   }
  },
  {
   "cell_type": "code",
   "execution_count": 95,
   "outputs": [],
   "source": [],
   "metadata": {
    "collapsed": false,
    "pycharm": {
     "name": "#%%\n"
    }
   }
  }
 ],
 "metadata": {
  "kernelspec": {
   "display_name": "Python 3",
   "language": "python",
   "name": "python3"
  },
  "language_info": {
   "codemirror_mode": {
    "name": "ipython",
    "version": 2
   },
   "file_extension": ".py",
   "mimetype": "text/x-python",
   "name": "python",
   "nbconvert_exporter": "python",
   "pygments_lexer": "ipython2",
   "version": "2.7.6"
  }
 },
 "nbformat": 4,
 "nbformat_minor": 0
}