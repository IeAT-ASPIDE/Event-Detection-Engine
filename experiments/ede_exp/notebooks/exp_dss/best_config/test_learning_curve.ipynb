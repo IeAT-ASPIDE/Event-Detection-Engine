{
 "cells": [
  {
   "cell_type": "code",
   "execution_count": 132,
   "metadata": {
    "collapsed": true
   },
   "outputs": [],
   "source": [
    "import numpy as np\n",
    "import matplotlib.pyplot as plt\n",
    "from sklearn.naive_bayes import GaussianNB\n",
    "from sklearn.svm import SVC\n",
    "from sklearn.datasets import load_digits\n",
    "from sklearn.model_selection import learning_curve\n",
    "from sklearn.model_selection import ShuffleSplit\n"
   ]
  },
  {
   "cell_type": "code",
   "execution_count": 133,
   "outputs": [],
   "source": [
    "digits = load_digits()\n",
    "X, y = digits.data, digits.target"
   ],
   "metadata": {
    "collapsed": false,
    "pycharm": {
     "name": "#%%\n"
    }
   }
  },
  {
   "cell_type": "code",
   "execution_count": 134,
   "outputs": [],
   "source": [
    "cv = ShuffleSplit( n_splits=5, test_size=0.2, random_state=0)\n",
    "from sklearn.ensemble import RandomForestClassifier\n",
    "estimator = RandomForestClassifier()"
   ],
   "metadata": {
    "collapsed": false,
    "pycharm": {
     "name": "#%%\n"
    }
   }
  },
  {
   "cell_type": "code",
   "execution_count": 135,
   "outputs": [
    {
     "data": {
      "text/plain": "5"
     },
     "execution_count": 135,
     "metadata": {},
     "output_type": "execute_result"
    }
   ],
   "source": [
    "cv.get_n_splits()"
   ],
   "metadata": {
    "collapsed": false,
    "pycharm": {
     "name": "#%%\n"
    }
   }
  },
  {
   "cell_type": "code",
   "execution_count": 136,
   "outputs": [],
   "source": [
    "train_sizes, train_scores, test_scores, fit_times, wh = learning_curve(\n",
    "        estimator, X, y, cv=cv, n_jobs=-1, train_sizes=np.linspace(0.1, 1.0, 5), return_times=True)"
   ],
   "metadata": {
    "collapsed": false,
    "pycharm": {
     "name": "#%%\n"
    }
   }
  },
  {
   "cell_type": "code",
   "execution_count": 137,
   "outputs": [
    {
     "data": {
      "text/plain": "array([ 143,  467,  790, 1113, 1437])"
     },
     "execution_count": 137,
     "metadata": {},
     "output_type": "execute_result"
    }
   ],
   "source": [
    "train_sizes"
   ],
   "metadata": {
    "collapsed": false,
    "pycharm": {
     "name": "#%%\n"
    }
   }
  },
  {
   "cell_type": "code",
   "execution_count": 138,
   "outputs": [
    {
     "data": {
      "text/plain": "array([[1., 1., 1., 1., 1.],\n       [1., 1., 1., 1., 1.],\n       [1., 1., 1., 1., 1.],\n       [1., 1., 1., 1., 1.],\n       [1., 1., 1., 1., 1.]])"
     },
     "execution_count": 138,
     "metadata": {},
     "output_type": "execute_result"
    }
   ],
   "source": [
    "train_scores"
   ],
   "metadata": {
    "collapsed": false,
    "pycharm": {
     "name": "#%%\n"
    }
   }
  },
  {
   "cell_type": "code",
   "execution_count": 139,
   "outputs": [
    {
     "data": {
      "text/plain": "array([[0.88055556, 0.88333333, 0.85555556, 0.93333333, 0.86388889],\n       [0.94166667, 0.96111111, 0.96111111, 0.95833333, 0.93333333],\n       [0.95277778, 0.975     , 0.96944444, 0.98055556, 0.95277778],\n       [0.98333333, 0.98333333, 0.97777778, 0.97222222, 0.96111111],\n       [0.98055556, 0.98055556, 0.97222222, 0.97777778, 0.96666667]])"
     },
     "execution_count": 139,
     "metadata": {},
     "output_type": "execute_result"
    }
   ],
   "source": [
    "test_scores"
   ],
   "metadata": {
    "collapsed": false,
    "pycharm": {
     "name": "#%%\n"
    }
   }
  },
  {
   "cell_type": "code",
   "execution_count": 140,
   "outputs": [
    {
     "data": {
      "text/plain": "array([[0.09051085, 0.12750888, 0.1211741 , 0.10973501, 0.10676003],\n       [0.13735199, 0.13811994, 0.12975216, 0.12058115, 0.14204168],\n       [0.20700312, 0.21038604, 0.20700598, 0.17854691, 0.13859606],\n       [0.22559786, 0.26313686, 0.23959994, 0.20103192, 0.19570994],\n       [0.27009892, 0.27719116, 0.23704815, 0.24605608, 0.21400499]])"
     },
     "execution_count": 140,
     "metadata": {},
     "output_type": "execute_result"
    }
   ],
   "source": [
    "fit_times"
   ],
   "metadata": {
    "collapsed": false,
    "pycharm": {
     "name": "#%%\n"
    }
   }
  },
  {
   "cell_type": "code",
   "execution_count": 141,
   "outputs": [
    {
     "data": {
      "text/plain": "array([[0.06328416, 0.00793409, 0.00781584, 0.00783992, 0.00772691],\n       [0.00851512, 0.00847507, 0.01284385, 0.00848603, 0.00825906],\n       [0.01195002, 0.01664209, 0.00862098, 0.00895691, 0.00848794],\n       [0.00924397, 0.00999308, 0.00898981, 0.01054096, 0.008847  ],\n       [0.01138091, 0.00966215, 0.00879693, 0.00902796, 0.00899315]])"
     },
     "execution_count": 141,
     "metadata": {},
     "output_type": "execute_result"
    }
   ],
   "source": [
    "wh"
   ],
   "metadata": {
    "collapsed": false,
    "pycharm": {
     "name": "#%%\n"
    }
   }
  },
  {
   "cell_type": "code",
   "execution_count": 142,
   "outputs": [],
   "source": [
    "train_scores_mean = np.mean(train_scores, axis=1)\n",
    "train_scores_std = np.std(train_scores, axis=1)\n",
    "test_scores_mean = np.mean(test_scores, axis=1)\n",
    "test_scores_std = np.std(test_scores, axis=1)"
   ],
   "metadata": {
    "collapsed": false,
    "pycharm": {
     "name": "#%%\n"
    }
   }
  },
  {
   "cell_type": "code",
   "execution_count": 143,
   "outputs": [
    {
     "data": {
      "text/plain": "array([1., 1., 1., 1., 1.])"
     },
     "execution_count": 143,
     "metadata": {},
     "output_type": "execute_result"
    }
   ],
   "source": [
    "train_scores_mean"
   ],
   "metadata": {
    "collapsed": false,
    "pycharm": {
     "name": "#%%\n"
    }
   }
  },
  {
   "cell_type": "code",
   "execution_count": 144,
   "outputs": [
    {
     "data": {
      "text/plain": "<matplotlib.legend.Legend at 0x7f90e45c69d0>"
     },
     "execution_count": 144,
     "metadata": {},
     "output_type": "execute_result"
    },
    {
     "data": {
      "text/plain": "<Figure size 432x288 with 1 Axes>",
      "image/png": "[encoded data removed]"
     },
     "metadata": {
      "needs_background": "light"
     },
     "output_type": "display_data"
    }
   ],
   "source": [
    "plt.grid()\n",
    "\n",
    "plt.fill_between(train_sizes, train_scores_mean - train_scores_std,\n",
    "             train_scores_mean + train_scores_std, alpha=0.1,\n",
    "             color=\"r\")\n",
    "plt.fill_between(train_sizes, test_scores_mean - test_scores_std,\n",
    "             test_scores_mean + test_scores_std, alpha=0.1, color=\"g\")\n",
    "plt.plot(train_sizes, train_scores_mean, 'o-', color=\"r\",\n",
    "     label=\"Training score\")\n",
    "plt.plot(train_sizes, test_scores_mean, 'o-', color=\"g\",\n",
    "     label=\"Cross-validation score\")\n",
    "\n",
    "plt.legend(loc=\"best\")"
   ],
   "metadata": {
    "collapsed": false,
    "pycharm": {
     "name": "#%%\n"
    }
   }
  },
  {
   "cell_type": "code",
   "execution_count": 145,
   "outputs": [
    {
     "name": "stderr",
     "output_type": "stream",
     "text": [
      "/var/folders/s6/4s6hv72n5k57vyjqr8nk754c0000gn/T/ipykernel_6164/2414789103.py:25: DataConversionWarning: A column-vector y was passed when a 1d array was expected. Please change the shape of y to (n_samples,), for example using ravel().\n",
      "  clf = estimator.fit(Xtrain, ytrain)\n",
      "/var/folders/s6/4s6hv72n5k57vyjqr8nk754c0000gn/T/ipykernel_6164/2414789103.py:25: DataConversionWarning: A column-vector y was passed when a 1d array was expected. Please change the shape of y to (n_samples,), for example using ravel().\n",
      "  clf = estimator.fit(Xtrain, ytrain)\n",
      "/var/folders/s6/4s6hv72n5k57vyjqr8nk754c0000gn/T/ipykernel_6164/2414789103.py:25: DataConversionWarning: A column-vector y was passed when a 1d array was expected. Please change the shape of y to (n_samples,), for example using ravel().\n",
      "  clf = estimator.fit(Xtrain, ytrain)\n",
      "/var/folders/s6/4s6hv72n5k57vyjqr8nk754c0000gn/T/ipykernel_6164/2414789103.py:25: DataConversionWarning: A column-vector y was passed when a 1d array was expected. Please change the shape of y to (n_samples,), for example using ravel().\n",
      "  clf = estimator.fit(Xtrain, ytrain)\n",
      "/var/folders/s6/4s6hv72n5k57vyjqr8nk754c0000gn/T/ipykernel_6164/2414789103.py:25: DataConversionWarning: A column-vector y was passed when a 1d array was expected. Please change the shape of y to (n_samples,), for example using ravel().\n",
      "  clf = estimator.fit(Xtrain, ytrain)\n",
      "/var/folders/s6/4s6hv72n5k57vyjqr8nk754c0000gn/T/ipykernel_6164/2414789103.py:25: DataConversionWarning: A column-vector y was passed when a 1d array was expected. Please change the shape of y to (n_samples,), for example using ravel().\n",
      "  clf = estimator.fit(Xtrain, ytrain)\n",
      "/var/folders/s6/4s6hv72n5k57vyjqr8nk754c0000gn/T/ipykernel_6164/2414789103.py:25: DataConversionWarning: A column-vector y was passed when a 1d array was expected. Please change the shape of y to (n_samples,), for example using ravel().\n",
      "  clf = estimator.fit(Xtrain, ytrain)\n",
      "/var/folders/s6/4s6hv72n5k57vyjqr8nk754c0000gn/T/ipykernel_6164/2414789103.py:25: DataConversionWarning: A column-vector y was passed when a 1d array was expected. Please change the shape of y to (n_samples,), for example using ravel().\n",
      "  clf = estimator.fit(Xtrain, ytrain)\n",
      "/var/folders/s6/4s6hv72n5k57vyjqr8nk754c0000gn/T/ipykernel_6164/2414789103.py:25: DataConversionWarning: A column-vector y was passed when a 1d array was expected. Please change the shape of y to (n_samples,), for example using ravel().\n",
      "  clf = estimator.fit(Xtrain, ytrain)\n",
      "/var/folders/s6/4s6hv72n5k57vyjqr8nk754c0000gn/T/ipykernel_6164/2414789103.py:25: DataConversionWarning: A column-vector y was passed when a 1d array was expected. Please change the shape of y to (n_samples,), for example using ravel().\n",
      "  clf = estimator.fit(Xtrain, ytrain)\n",
      "/var/folders/s6/4s6hv72n5k57vyjqr8nk754c0000gn/T/ipykernel_6164/2414789103.py:25: DataConversionWarning: A column-vector y was passed when a 1d array was expected. Please change the shape of y to (n_samples,), for example using ravel().\n",
      "  clf = estimator.fit(Xtrain, ytrain)\n",
      "/var/folders/s6/4s6hv72n5k57vyjqr8nk754c0000gn/T/ipykernel_6164/2414789103.py:25: DataConversionWarning: A column-vector y was passed when a 1d array was expected. Please change the shape of y to (n_samples,), for example using ravel().\n",
      "  clf = estimator.fit(Xtrain, ytrain)\n",
      "/var/folders/s6/4s6hv72n5k57vyjqr8nk754c0000gn/T/ipykernel_6164/2414789103.py:25: DataConversionWarning: A column-vector y was passed when a 1d array was expected. Please change the shape of y to (n_samples,), for example using ravel().\n",
      "  clf = estimator.fit(Xtrain, ytrain)\n",
      "/var/folders/s6/4s6hv72n5k57vyjqr8nk754c0000gn/T/ipykernel_6164/2414789103.py:25: DataConversionWarning: A column-vector y was passed when a 1d array was expected. Please change the shape of y to (n_samples,), for example using ravel().\n",
      "  clf = estimator.fit(Xtrain, ytrain)\n",
      "/var/folders/s6/4s6hv72n5k57vyjqr8nk754c0000gn/T/ipykernel_6164/2414789103.py:25: DataConversionWarning: A column-vector y was passed when a 1d array was expected. Please change the shape of y to (n_samples,), for example using ravel().\n",
      "  clf = estimator.fit(Xtrain, ytrain)\n",
      "/var/folders/s6/4s6hv72n5k57vyjqr8nk754c0000gn/T/ipykernel_6164/2414789103.py:25: DataConversionWarning: A column-vector y was passed when a 1d array was expected. Please change the shape of y to (n_samples,), for example using ravel().\n",
      "  clf = estimator.fit(Xtrain, ytrain)\n",
      "/var/folders/s6/4s6hv72n5k57vyjqr8nk754c0000gn/T/ipykernel_6164/2414789103.py:25: DataConversionWarning: A column-vector y was passed when a 1d array was expected. Please change the shape of y to (n_samples,), for example using ravel().\n",
      "  clf = estimator.fit(Xtrain, ytrain)\n",
      "/var/folders/s6/4s6hv72n5k57vyjqr8nk754c0000gn/T/ipykernel_6164/2414789103.py:25: DataConversionWarning: A column-vector y was passed when a 1d array was expected. Please change the shape of y to (n_samples,), for example using ravel().\n",
      "  clf = estimator.fit(Xtrain, ytrain)\n",
      "/var/folders/s6/4s6hv72n5k57vyjqr8nk754c0000gn/T/ipykernel_6164/2414789103.py:25: DataConversionWarning: A column-vector y was passed when a 1d array was expected. Please change the shape of y to (n_samples,), for example using ravel().\n",
      "  clf = estimator.fit(Xtrain, ytrain)\n",
      "/var/folders/s6/4s6hv72n5k57vyjqr8nk754c0000gn/T/ipykernel_6164/2414789103.py:25: DataConversionWarning: A column-vector y was passed when a 1d array was expected. Please change the shape of y to (n_samples,), for example using ravel().\n",
      "  clf = estimator.fit(Xtrain, ytrain)\n",
      "/var/folders/s6/4s6hv72n5k57vyjqr8nk754c0000gn/T/ipykernel_6164/2414789103.py:25: DataConversionWarning: A column-vector y was passed when a 1d array was expected. Please change the shape of y to (n_samples,), for example using ravel().\n",
      "  clf = estimator.fit(Xtrain, ytrain)\n",
      "/var/folders/s6/4s6hv72n5k57vyjqr8nk754c0000gn/T/ipykernel_6164/2414789103.py:25: DataConversionWarning: A column-vector y was passed when a 1d array was expected. Please change the shape of y to (n_samples,), for example using ravel().\n",
      "  clf = estimator.fit(Xtrain, ytrain)\n",
      "/var/folders/s6/4s6hv72n5k57vyjqr8nk754c0000gn/T/ipykernel_6164/2414789103.py:25: DataConversionWarning: A column-vector y was passed when a 1d array was expected. Please change the shape of y to (n_samples,), for example using ravel().\n",
      "  clf = estimator.fit(Xtrain, ytrain)\n",
      "/var/folders/s6/4s6hv72n5k57vyjqr8nk754c0000gn/T/ipykernel_6164/2414789103.py:25: DataConversionWarning: A column-vector y was passed when a 1d array was expected. Please change the shape of y to (n_samples,), for example using ravel().\n",
      "  clf = estimator.fit(Xtrain, ytrain)\n",
      "/var/folders/s6/4s6hv72n5k57vyjqr8nk754c0000gn/T/ipykernel_6164/2414789103.py:25: DataConversionWarning: A column-vector y was passed when a 1d array was expected. Please change the shape of y to (n_samples,), for example using ravel().\n",
      "  clf = estimator.fit(Xtrain, ytrain)\n",
      "/var/folders/s6/4s6hv72n5k57vyjqr8nk754c0000gn/T/ipykernel_6164/2414789103.py:25: DataConversionWarning: A column-vector y was passed when a 1d array was expected. Please change the shape of y to (n_samples,), for example using ravel().\n",
      "  clf = estimator.fit(Xtrain, ytrain)\n",
      "/var/folders/s6/4s6hv72n5k57vyjqr8nk754c0000gn/T/ipykernel_6164/2414789103.py:25: DataConversionWarning: A column-vector y was passed when a 1d array was expected. Please change the shape of y to (n_samples,), for example using ravel().\n",
      "  clf = estimator.fit(Xtrain, ytrain)\n",
      "/var/folders/s6/4s6hv72n5k57vyjqr8nk754c0000gn/T/ipykernel_6164/2414789103.py:25: DataConversionWarning: A column-vector y was passed when a 1d array was expected. Please change the shape of y to (n_samples,), for example using ravel().\n",
      "  clf = estimator.fit(Xtrain, ytrain)\n",
      "/var/folders/s6/4s6hv72n5k57vyjqr8nk754c0000gn/T/ipykernel_6164/2414789103.py:25: DataConversionWarning: A column-vector y was passed when a 1d array was expected. Please change the shape of y to (n_samples,), for example using ravel().\n",
      "  clf = estimator.fit(Xtrain, ytrain)\n",
      "/var/folders/s6/4s6hv72n5k57vyjqr8nk754c0000gn/T/ipykernel_6164/2414789103.py:25: DataConversionWarning: A column-vector y was passed when a 1d array was expected. Please change the shape of y to (n_samples,), for example using ravel().\n",
      "  clf = estimator.fit(Xtrain, ytrain)\n"
     ]
    }
   ],
   "source": [
    "from sklearn.metrics import f1_score\n",
    "import pandas as pd\n",
    "X = pd.DataFrame(X)\n",
    "y = pd.DataFrame(y)\n",
    "\n",
    "param_range = [\n",
    "    {\"n_estimators\":10},\n",
    "    {\"n_estimators\":20},\n",
    "    {\"n_estimators\":40},\n",
    "    {\"n_estimators\":60},\n",
    "    {\"n_estimators\":80},\n",
    "    {\"n_estimators\":100},\n",
    "    ]\n",
    "\n",
    "\n",
    "np_train_scores = np.empty((0, cv.n_splits))\n",
    "np_test_scores = np.empty((0, cv.n_splits))\n",
    "for param in param_range:\n",
    "    cv_scores_train = []\n",
    "    cv_scores_test = []\n",
    "    estimator = RandomForestClassifier(**param)\n",
    "    for train_index, test_index in cv.split(X, y):\n",
    "        Xtrain, Xtest = X.iloc[train_index], X.iloc[test_index]\n",
    "        ytrain, ytest = y.iloc[train_index], y.iloc[test_index]\n",
    "        clf = estimator.fit(Xtrain, ytrain)\n",
    "        ypredict_train = clf.predict(Xtrain)\n",
    "        ypredict = clf.predict(Xtest)\n",
    "        f1_weighted_score=f1_score(ytest, ypredict, average='weighted')\n",
    "        f1_weighted_score_train=f1_score(ytrain, ypredict_train, average='weighted')\n",
    "        cv_scores_test.append(f1_weighted_score)\n",
    "        cv_scores_train.append(f1_weighted_score_train)\n",
    "    np_train_scores = np.append(np_train_scores,[cv_scores_train], axis=0)\n",
    "    np_test_scores = np.append(np_test_scores,[cv_scores_test], axis=0)\n"
   ],
   "metadata": {
    "collapsed": false,
    "pycharm": {
     "name": "#%%\n"
    }
   }
  },
  {
   "cell_type": "code",
   "execution_count": 146,
   "outputs": [
    {
     "data": {
      "text/plain": "array([[0.99930398, 1.        , 1.        , 0.99930393, 0.99930393],\n       [1.        , 1.        , 1.        , 1.        , 1.        ],\n       [1.        , 1.        , 1.        , 1.        , 1.        ],\n       [1.        , 1.        , 1.        , 1.        , 1.        ],\n       [1.        , 1.        , 1.        , 1.        , 1.        ],\n       [1.        , 1.        , 1.        , 1.        , 1.        ]])"
     },
     "execution_count": 146,
     "metadata": {},
     "output_type": "execute_result"
    }
   ],
   "source": [
    "np_train_scores"
   ],
   "metadata": {
    "collapsed": false,
    "pycharm": {
     "name": "#%%\n"
    }
   }
  },
  {
   "cell_type": "code",
   "execution_count": 147,
   "outputs": [
    {
     "data": {
      "text/plain": "array([[0.95253154, 0.94674157, 0.93586963, 0.93610798, 0.93528729],\n       [0.94980956, 0.95538887, 0.9610834 , 0.96666247, 0.96130833],\n       [0.97230285, 0.97478896, 0.96666423, 0.97759916, 0.97779483],\n       [0.97220832, 0.98334288, 0.96656155, 0.97504868, 0.97512357],\n       [0.97238777, 0.98889303, 0.96941144, 0.97223181, 0.96951804],\n       [0.96946774, 0.98052477, 0.97205856, 0.9887999 , 0.98334644]])"
     },
     "execution_count": 147,
     "metadata": {},
     "output_type": "execute_result"
    }
   ],
   "source": [
    "np_test_scores"
   ],
   "metadata": {
    "collapsed": false,
    "pycharm": {
     "name": "#%%\n"
    }
   }
  },
  {
   "cell_type": "code",
   "execution_count": 148,
   "outputs": [],
   "source": [
    "np_train_scores_mean = np.mean(np_train_scores, axis=1)\n",
    "np_train_scores_std = np.std(np_train_scores, axis=1)\n",
    "np_test_scores_mean = np.mean(np_test_scores, axis=1)\n",
    "np_test_scores_std = np.std(np_test_scores, axis=1)"
   ],
   "metadata": {
    "collapsed": false,
    "pycharm": {
     "name": "#%%\n"
    }
   }
  },
  {
   "cell_type": "code",
   "execution_count": 179,
   "outputs": [
    {
     "data": {
      "text/plain": "<matplotlib.legend.Legend at 0x7f910cbde9a0>"
     },
     "execution_count": 179,
     "metadata": {},
     "output_type": "execute_result"
    },
    {
     "data": {
      "text/plain": "<Figure size 432x288 with 1 Axes>",
      "image/png": "[encoded data removed]"
     },
     "metadata": {
      "needs_background": "light"
     },
     "output_type": "display_data"
    }
   ],
   "source": [
    "# Get param name and values\n",
    "param_values = []\n",
    "param_name = list(param_range[0].keys())[0]\n",
    "for d in param_range:\n",
    "    param_values.append(list(d.values())[0])\n",
    "\n",
    "plt.grid()\n",
    "\n",
    "plt.fill_between(param_values, np_train_scores_mean - np_train_scores_std,\n",
    "             np_train_scores_mean + np_train_scores_std, alpha=0.2,\n",
    "             color=\"c\")\n",
    "plt.fill_between(param_values, np_test_scores_mean - np_test_scores_std,\n",
    "             np_test_scores_mean + np_test_scores_std, alpha=0.2, color=\"g\")\n",
    "\n",
    "# plt.plot([10,20, 40, 60, 80, 100], np_train_scores_mean, 'o-', color=\"c\",\n",
    "#      label=\"Training score\")\n",
    "#\n",
    "# plt.plot([10,20, 40, 60, 80, 100], np_test_scores_mean, 'o-', color=\"g\",\n",
    "#      label=\"Cross-validation score\")\n",
    "\n",
    "plt.semilogx(param_values, np_train_scores_mean, 'o-', color=\"c\",\n",
    "     label=\"Training score\")\n",
    "plt.semilogx(param_values, np_test_scores_mean, 'o-', color=\"g\",\n",
    "     label=\"Cross-validation score\")\n",
    "\n",
    "plt.xticks(ticks=param_values, labels=[10,20, 40, 60, 80, 100])\n",
    "plt.ylabel(\"F1 Score\")\n",
    "plt.xlabel(param_name)\n",
    "# plt.legend(loc='upper right')\n",
    "plt.legend(loc=\"best\")"
   ],
   "metadata": {
    "collapsed": false,
    "pycharm": {
     "name": "#%%\n"
    }
   }
  },
  {
   "cell_type": "code",
   "execution_count": 150,
   "outputs": [
    {
     "data": {
      "text/plain": "array([[0.99930398, 1.        , 1.        , 0.99930393, 0.99930393],\n       [1.        , 1.        , 1.        , 1.        , 1.        ],\n       [1.        , 1.        , 1.        , 1.        , 1.        ],\n       [1.        , 1.        , 1.        , 1.        , 1.        ],\n       [1.        , 1.        , 1.        , 1.        , 1.        ],\n       [1.        , 1.        , 1.        , 1.        , 1.        ]])"
     },
     "execution_count": 150,
     "metadata": {},
     "output_type": "execute_result"
    }
   ],
   "source": [
    "np_train_scores"
   ],
   "metadata": {
    "collapsed": false,
    "pycharm": {
     "name": "#%%\n"
    }
   }
  },
  {
   "cell_type": "code",
   "execution_count": 151,
   "outputs": [
    {
     "data": {
      "text/plain": "array([1., 1., 1., 1., 1.])"
     },
     "execution_count": 151,
     "metadata": {},
     "output_type": "execute_result"
    }
   ],
   "source": [
    "train_scores_mean"
   ],
   "metadata": {
    "collapsed": false,
    "pycharm": {
     "name": "#%%\n"
    }
   }
  },
  {
   "cell_type": "code",
   "execution_count": 199,
   "outputs": [],
   "source": [
    "cv = ShuffleSplit( n_splits=5, test_size=0.2, random_state=0)\n",
    "\n",
    "def plot_curve(X,\n",
    "               y,\n",
    "               estimator,\n",
    "               cv,\n",
    "               param_range):\n",
    "    \"\"\"\n",
    "    :param X: Training set with no ground truth\n",
    "    :param y: Training set ground truth only\n",
    "    :param estimator: estimator instance to which parameters will be passed from param_range\n",
    "    :param cv: Cross-Validation method to be used\n",
    "    :param param_range: List of dictionaries containing the values for a specific parameter\n",
    "    :return:\n",
    "    \"\"\"\n",
    "\n",
    "    np_train_scores = np.empty((0, cv.n_splits))\n",
    "    np_test_scores = np.empty((0, cv.n_splits))\n",
    "\n",
    "    # Get param name and values\n",
    "    param_values = []\n",
    "    param_name = list(param_range[0].keys())[0]\n",
    "    for d in param_range:\n",
    "        param_values.append(list(d.values())[0])\n",
    "    param_labels = param_values\n",
    "\n",
    "    # Check if param values have string type\n",
    "    if any(isinstance(item, str) for item in param_values):\n",
    "        len_param_values = len(param_values)\n",
    "        param_values = list(range(0,len_param_values))\n",
    "\n",
    "\n",
    "    for param in param_range:\n",
    "        cv_scores_train = []\n",
    "        cv_scores_test = []\n",
    "        # estimator = RandomForestClassifier(**param)\n",
    "        # Set estimator parameters\n",
    "        estimator.set_params(**param)\n",
    "        for train_index, test_index in cv.split(X, y):\n",
    "            Xtrain, Xtest = X.iloc[train_index], X.iloc[test_index]\n",
    "            ytrain, ytest = y.iloc[train_index], y.iloc[test_index]\n",
    "            clf = estimator.fit(Xtrain, ytrain)\n",
    "            ypredict_train = clf.predict(Xtrain)\n",
    "            ypredict = clf.predict(Xtest)\n",
    "            f1_weighted_score=f1_score(ytest, ypredict, average='weighted')\n",
    "            f1_weighted_score_train=f1_score(ytrain, ypredict_train, average='weighted')\n",
    "            cv_scores_test.append(f1_weighted_score)\n",
    "            cv_scores_train.append(f1_weighted_score_train)\n",
    "        np_train_scores = np.append(np_train_scores,[cv_scores_train], axis=0)\n",
    "        np_test_scores = np.append(np_test_scores,[cv_scores_test], axis=0)\n",
    "\n",
    "    # Compute for fill_between plot\n",
    "    np_train_scores_mean = np.mean(np_train_scores, axis=1)\n",
    "    np_train_scores_std = np.std(np_train_scores, axis=1)\n",
    "    np_test_scores_mean = np.mean(np_test_scores, axis=1)\n",
    "    np_test_scores_std = np.std(np_test_scores, axis=1)\n",
    "    # Plot\n",
    "    plt.grid()\n",
    "    plt.fill_between(param_values, np_train_scores_mean - np_train_scores_std,\n",
    "                 np_train_scores_mean + np_train_scores_std, alpha=0.1,\n",
    "                 color=\"c\")\n",
    "    plt.fill_between(param_values, np_test_scores_mean - np_test_scores_std,\n",
    "                 np_test_scores_mean + np_test_scores_std, alpha=0.1, color=\"g\")\n",
    "    plt.semilogx(param_values, np_train_scores_mean, 'o-', color=\"c\",\n",
    "         label=\"Training score\")\n",
    "    plt.semilogx(param_values, np_test_scores_mean, 'o-', color=\"g\",\n",
    "         label=\"Cross-validation score\")\n",
    "\n",
    "    # Labels and legends\n",
    "    plt.xticks(ticks=param_values, labels=param_labels)\n",
    "    plt.ylabel(\"F1 Score\")\n",
    "    plt.xlabel(param_name)\n",
    "    # plt.legend(loc='upper right')\n",
    "    plt.legend(loc=\"best\")\n",
    "\n",
    "    return np_train_scores, np_test_scores"
   ],
   "metadata": {
    "collapsed": false,
    "pycharm": {
     "name": "#%%\n"
    }
   }
  },
  {
   "cell_type": "code",
   "execution_count": 200,
   "outputs": [
    {
     "name": "stdout",
     "output_type": "stream",
     "text": [
      "n_estimators\n",
      "[10, 20, 40, 60, 80, 100]\n"
     ]
    }
   ],
   "source": [
    "param_range = [\n",
    "    {\"n_estimators\":10},\n",
    "    {\"n_estimators\":20},\n",
    "    {\"n_estimators\":40},\n",
    "    {\"n_estimators\":60},\n",
    "    {\"n_estimators\":80},\n",
    "    {\"n_estimators\":100}\n",
    "    ]\n",
    "param_values = []\n",
    "param_name = list(param_range[0].keys())[0]\n",
    "for d in param_range:\n",
    "    param_values.append(list(d.values())[0])\n",
    "\n",
    "print(param_name)\n",
    "print(param_values)\n",
    "\n"
   ],
   "metadata": {
    "collapsed": false,
    "pycharm": {
     "name": "#%%\n"
    }
   }
  },
  {
   "cell_type": "code",
   "execution_count": 201,
   "outputs": [
    {
     "name": "stderr",
     "output_type": "stream",
     "text": [
      "/var/folders/s6/4s6hv72n5k57vyjqr8nk754c0000gn/T/ipykernel_6164/3464526931.py:42: DataConversionWarning: A column-vector y was passed when a 1d array was expected. Please change the shape of y to (n_samples,), for example using ravel().\n",
      "  clf = estimator.fit(Xtrain, ytrain)\n",
      "/var/folders/s6/4s6hv72n5k57vyjqr8nk754c0000gn/T/ipykernel_6164/3464526931.py:42: DataConversionWarning: A column-vector y was passed when a 1d array was expected. Please change the shape of y to (n_samples,), for example using ravel().\n",
      "  clf = estimator.fit(Xtrain, ytrain)\n",
      "/var/folders/s6/4s6hv72n5k57vyjqr8nk754c0000gn/T/ipykernel_6164/3464526931.py:42: DataConversionWarning: A column-vector y was passed when a 1d array was expected. Please change the shape of y to (n_samples,), for example using ravel().\n",
      "  clf = estimator.fit(Xtrain, ytrain)\n",
      "/var/folders/s6/4s6hv72n5k57vyjqr8nk754c0000gn/T/ipykernel_6164/3464526931.py:42: DataConversionWarning: A column-vector y was passed when a 1d array was expected. Please change the shape of y to (n_samples,), for example using ravel().\n",
      "  clf = estimator.fit(Xtrain, ytrain)\n",
      "/var/folders/s6/4s6hv72n5k57vyjqr8nk754c0000gn/T/ipykernel_6164/3464526931.py:42: DataConversionWarning: A column-vector y was passed when a 1d array was expected. Please change the shape of y to (n_samples,), for example using ravel().\n",
      "  clf = estimator.fit(Xtrain, ytrain)\n",
      "/var/folders/s6/4s6hv72n5k57vyjqr8nk754c0000gn/T/ipykernel_6164/3464526931.py:42: DataConversionWarning: A column-vector y was passed when a 1d array was expected. Please change the shape of y to (n_samples,), for example using ravel().\n",
      "  clf = estimator.fit(Xtrain, ytrain)\n",
      "/var/folders/s6/4s6hv72n5k57vyjqr8nk754c0000gn/T/ipykernel_6164/3464526931.py:42: DataConversionWarning: A column-vector y was passed when a 1d array was expected. Please change the shape of y to (n_samples,), for example using ravel().\n",
      "  clf = estimator.fit(Xtrain, ytrain)\n",
      "/var/folders/s6/4s6hv72n5k57vyjqr8nk754c0000gn/T/ipykernel_6164/3464526931.py:42: DataConversionWarning: A column-vector y was passed when a 1d array was expected. Please change the shape of y to (n_samples,), for example using ravel().\n",
      "  clf = estimator.fit(Xtrain, ytrain)\n",
      "/var/folders/s6/4s6hv72n5k57vyjqr8nk754c0000gn/T/ipykernel_6164/3464526931.py:42: DataConversionWarning: A column-vector y was passed when a 1d array was expected. Please change the shape of y to (n_samples,), for example using ravel().\n",
      "  clf = estimator.fit(Xtrain, ytrain)\n",
      "/var/folders/s6/4s6hv72n5k57vyjqr8nk754c0000gn/T/ipykernel_6164/3464526931.py:42: DataConversionWarning: A column-vector y was passed when a 1d array was expected. Please change the shape of y to (n_samples,), for example using ravel().\n",
      "  clf = estimator.fit(Xtrain, ytrain)\n",
      "/var/folders/s6/4s6hv72n5k57vyjqr8nk754c0000gn/T/ipykernel_6164/3464526931.py:42: DataConversionWarning: A column-vector y was passed when a 1d array was expected. Please change the shape of y to (n_samples,), for example using ravel().\n",
      "  clf = estimator.fit(Xtrain, ytrain)\n",
      "/var/folders/s6/4s6hv72n5k57vyjqr8nk754c0000gn/T/ipykernel_6164/3464526931.py:42: DataConversionWarning: A column-vector y was passed when a 1d array was expected. Please change the shape of y to (n_samples,), for example using ravel().\n",
      "  clf = estimator.fit(Xtrain, ytrain)\n",
      "/var/folders/s6/4s6hv72n5k57vyjqr8nk754c0000gn/T/ipykernel_6164/3464526931.py:42: DataConversionWarning: A column-vector y was passed when a 1d array was expected. Please change the shape of y to (n_samples,), for example using ravel().\n",
      "  clf = estimator.fit(Xtrain, ytrain)\n",
      "/var/folders/s6/4s6hv72n5k57vyjqr8nk754c0000gn/T/ipykernel_6164/3464526931.py:42: DataConversionWarning: A column-vector y was passed when a 1d array was expected. Please change the shape of y to (n_samples,), for example using ravel().\n",
      "  clf = estimator.fit(Xtrain, ytrain)\n",
      "/var/folders/s6/4s6hv72n5k57vyjqr8nk754c0000gn/T/ipykernel_6164/3464526931.py:42: DataConversionWarning: A column-vector y was passed when a 1d array was expected. Please change the shape of y to (n_samples,), for example using ravel().\n",
      "  clf = estimator.fit(Xtrain, ytrain)\n",
      "/var/folders/s6/4s6hv72n5k57vyjqr8nk754c0000gn/T/ipykernel_6164/3464526931.py:42: DataConversionWarning: A column-vector y was passed when a 1d array was expected. Please change the shape of y to (n_samples,), for example using ravel().\n",
      "  clf = estimator.fit(Xtrain, ytrain)\n",
      "/var/folders/s6/4s6hv72n5k57vyjqr8nk754c0000gn/T/ipykernel_6164/3464526931.py:42: DataConversionWarning: A column-vector y was passed when a 1d array was expected. Please change the shape of y to (n_samples,), for example using ravel().\n",
      "  clf = estimator.fit(Xtrain, ytrain)\n",
      "/var/folders/s6/4s6hv72n5k57vyjqr8nk754c0000gn/T/ipykernel_6164/3464526931.py:42: DataConversionWarning: A column-vector y was passed when a 1d array was expected. Please change the shape of y to (n_samples,), for example using ravel().\n",
      "  clf = estimator.fit(Xtrain, ytrain)\n",
      "/var/folders/s6/4s6hv72n5k57vyjqr8nk754c0000gn/T/ipykernel_6164/3464526931.py:42: DataConversionWarning: A column-vector y was passed when a 1d array was expected. Please change the shape of y to (n_samples,), for example using ravel().\n",
      "  clf = estimator.fit(Xtrain, ytrain)\n",
      "/var/folders/s6/4s6hv72n5k57vyjqr8nk754c0000gn/T/ipykernel_6164/3464526931.py:42: DataConversionWarning: A column-vector y was passed when a 1d array was expected. Please change the shape of y to (n_samples,), for example using ravel().\n",
      "  clf = estimator.fit(Xtrain, ytrain)\n",
      "/var/folders/s6/4s6hv72n5k57vyjqr8nk754c0000gn/T/ipykernel_6164/3464526931.py:42: DataConversionWarning: A column-vector y was passed when a 1d array was expected. Please change the shape of y to (n_samples,), for example using ravel().\n",
      "  clf = estimator.fit(Xtrain, ytrain)\n",
      "/var/folders/s6/4s6hv72n5k57vyjqr8nk754c0000gn/T/ipykernel_6164/3464526931.py:42: DataConversionWarning: A column-vector y was passed when a 1d array was expected. Please change the shape of y to (n_samples,), for example using ravel().\n",
      "  clf = estimator.fit(Xtrain, ytrain)\n",
      "/var/folders/s6/4s6hv72n5k57vyjqr8nk754c0000gn/T/ipykernel_6164/3464526931.py:42: DataConversionWarning: A column-vector y was passed when a 1d array was expected. Please change the shape of y to (n_samples,), for example using ravel().\n",
      "  clf = estimator.fit(Xtrain, ytrain)\n",
      "/var/folders/s6/4s6hv72n5k57vyjqr8nk754c0000gn/T/ipykernel_6164/3464526931.py:42: DataConversionWarning: A column-vector y was passed when a 1d array was expected. Please change the shape of y to (n_samples,), for example using ravel().\n",
      "  clf = estimator.fit(Xtrain, ytrain)\n",
      "/var/folders/s6/4s6hv72n5k57vyjqr8nk754c0000gn/T/ipykernel_6164/3464526931.py:42: DataConversionWarning: A column-vector y was passed when a 1d array was expected. Please change the shape of y to (n_samples,), for example using ravel().\n",
      "  clf = estimator.fit(Xtrain, ytrain)\n",
      "/var/folders/s6/4s6hv72n5k57vyjqr8nk754c0000gn/T/ipykernel_6164/3464526931.py:42: DataConversionWarning: A column-vector y was passed when a 1d array was expected. Please change the shape of y to (n_samples,), for example using ravel().\n",
      "  clf = estimator.fit(Xtrain, ytrain)\n",
      "/var/folders/s6/4s6hv72n5k57vyjqr8nk754c0000gn/T/ipykernel_6164/3464526931.py:42: DataConversionWarning: A column-vector y was passed when a 1d array was expected. Please change the shape of y to (n_samples,), for example using ravel().\n",
      "  clf = estimator.fit(Xtrain, ytrain)\n",
      "/var/folders/s6/4s6hv72n5k57vyjqr8nk754c0000gn/T/ipykernel_6164/3464526931.py:42: DataConversionWarning: A column-vector y was passed when a 1d array was expected. Please change the shape of y to (n_samples,), for example using ravel().\n",
      "  clf = estimator.fit(Xtrain, ytrain)\n",
      "/var/folders/s6/4s6hv72n5k57vyjqr8nk754c0000gn/T/ipykernel_6164/3464526931.py:42: DataConversionWarning: A column-vector y was passed when a 1d array was expected. Please change the shape of y to (n_samples,), for example using ravel().\n",
      "  clf = estimator.fit(Xtrain, ytrain)\n",
      "/var/folders/s6/4s6hv72n5k57vyjqr8nk754c0000gn/T/ipykernel_6164/3464526931.py:42: DataConversionWarning: A column-vector y was passed when a 1d array was expected. Please change the shape of y to (n_samples,), for example using ravel().\n",
      "  clf = estimator.fit(Xtrain, ytrain)\n"
     ]
    },
    {
     "data": {
      "text/plain": "<Figure size 432x288 with 1 Axes>",
      "image/png": "[encoded data removed]"
     },
     "metadata": {
      "needs_background": "light"
     },
     "output_type": "display_data"
    }
   ],
   "source": [
    "\n",
    "param_range = [\n",
    "    {\"criterion\":\"gini\"},\n",
    "    {\"criterion\":\"entropy\"},\n",
    "\n",
    "    ]\n",
    "\n",
    "param_range = [\n",
    "    {\"n_estimators\":10},\n",
    "    {\"n_estimators\":20},\n",
    "    {\"n_estimators\":40},\n",
    "    {\"n_estimators\":60},\n",
    "    {\"n_estimators\":80},\n",
    "    {\"n_estimators\":100}\n",
    "    ]\n",
    "\n",
    "cv2 = ShuffleSplit( n_splits=5, test_size=0.2, random_state=0)\n",
    "estimator2 = RandomForestClassifier()\n",
    "# digits = load_digits()\n",
    "# X, y = digits.data, digits.target\n",
    "# X = pd.DataFrame(X)\n",
    "# y = pd.DataFrame(y)\n",
    "train_score, test_score = plot_curve(X, y, estimator, cv, param_range)"
   ],
   "metadata": {
    "collapsed": false,
    "pycharm": {
     "name": "#%%\n"
    }
   }
  },
  {
   "cell_type": "code",
   "execution_count": 202,
   "outputs": [
    {
     "data": {
      "text/plain": "array([[0.94137994, 0.95240928, 0.94705354, 0.9499956 , 0.95260486],\n       [0.95867814, 0.96646152, 0.95825389, 0.98055595, 0.94992835],\n       [0.96676007, 0.98045696, 0.9750471 , 0.98327047, 0.96664975],\n       [0.98056079, 0.98334277, 0.96945006, 0.97766511, 0.96956084],\n       [0.96943138, 0.97773865, 0.97208008, 0.98051537, 0.96662556],\n       [0.96668782, 0.98615981, 0.97497911, 0.98890562, 0.97498866]])"
     },
     "execution_count": 202,
     "metadata": {},
     "output_type": "execute_result"
    }
   ],
   "source": [
    "test_score"
   ],
   "metadata": {
    "collapsed": false,
    "pycharm": {
     "name": "#%%\n"
    }
   }
  },
  {
   "cell_type": "code",
   "execution_count": 204,
   "outputs": [
    {
     "data": {
      "text/plain": "array([[1.        , 0.99861074, 0.99860812, 1.        , 0.99930424],\n       [1.        , 1.        , 1.        , 1.        , 1.        ],\n       [1.        , 1.        , 1.        , 1.        , 1.        ],\n       [1.        , 1.        , 1.        , 1.        , 1.        ],\n       [1.        , 1.        , 1.        , 1.        , 1.        ],\n       [1.        , 1.        , 1.        , 1.        , 1.        ]])"
     },
     "execution_count": 204,
     "metadata": {},
     "output_type": "execute_result"
    }
   ],
   "source": [
    "train_score"
   ],
   "metadata": {
    "collapsed": false,
    "pycharm": {
     "name": "#%%\n"
    }
   }
  },
  {
   "cell_type": "code",
   "execution_count": null,
   "outputs": [],
   "source": [],
   "metadata": {
    "collapsed": false,
    "pycharm": {
     "name": "#%%\n"
    }
   }
  }
 ],
 "metadata": {
  "kernelspec": {
   "display_name": "Python 3",
   "language": "python",
   "name": "python3"
  },
  "language_info": {
   "codemirror_mode": {
    "name": "ipython",
    "version": 2
   },
   "file_extension": ".py",
   "mimetype": "text/x-python",
   "name": "python",
   "nbconvert_exporter": "python",
   "pygments_lexer": "ipython2",
   "version": "2.7.6"
  }
 },
 "nbformat": 4,
 "nbformat_minor": 0
}