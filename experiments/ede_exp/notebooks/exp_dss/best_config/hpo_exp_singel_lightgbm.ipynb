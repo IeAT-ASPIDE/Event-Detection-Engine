{
 "cells": [
  {
   "cell_type": "code",
   "execution_count": 1,
   "metadata": {},
   "outputs": [],
   "source": [
    "\"\"\"\n",
    "LightGBM Experiments Serrano/AUDSOME Phase 1\n",
    "Anomaly Only\n",
    "Gabriel Iuhasz\n",
    "\"\"\"\n",
    "import numpy as np\n",
    "np.random.seed(42)\n",
    "import pandas as pd\n",
    "from sklearn.model_selection import train_test_split, StratifiedKFold, KFold\n",
    "from sklearn.preprocessing import StandardScaler, RobustScaler, MinMaxScaler\n",
    "from sklearn.ensemble import RandomForestClassifier, AdaBoostClassifier\n",
    "from sklearn.metrics import balanced_accuracy_score, make_scorer, classification_report, accuracy_score, jaccard_score\n",
    "from sklearn.metrics import confusion_matrix\n",
    "from imblearn.metrics import classification_report_imbalanced\n",
    "\n",
    "import lightgbm as lgm\n",
    "# from sklearn.externals import joblib\n",
    "from joblib import dump, load\n",
    "import json\n",
    "import os\n",
    "import matplotlib.pyplot as plt\n",
    "import seaborn as sns\n",
    "from evolutionary_search import EvolutionaryAlgorithmSearchCV\n",
    "from subprocess import check_output\n",
    "%matplotlib inline"
   ]
  },
  {
   "cell_type": "code",
   "execution_count": 2,
   "metadata": {
    "pycharm": {
     "name": "#%% utils\n"
    }
   },
   "outputs": [],
   "source": [
    "def custom_scoring_reporting(y_pred,\n",
    "                             y,\n",
    "                             definitions,\n",
    "                             prefix):\n",
    "    \"\"\"\n",
    "    Custom function for handling scoring and reporting\n",
    "    :param y_pred: model predictions\n",
    "    :param y: ground truth\n",
    "    :param definitions: variable class definitions (factorize)\n",
    "    :param prefix: prefix to saved files and images\n",
    "    :return: 0\n",
    "    \"\"\"\n",
    "    print(\"Accuracy score is: {}\".format(accuracy_score(y, y_pred)))\n",
    "    print(\"Ballanced accuracy score is: {}\".format(balanced_accuracy_score(y, y_pred)))\n",
    "    print(\"Jaccard score (micro): {}\".format(jaccard_score(y, y_pred, average='micro')))\n",
    "    print(\"Jaccard score (macro): {}\".format(jaccard_score(y, y_pred, average='macro')))\n",
    "    print(\"Jaccard score (weighted): {}\".format(jaccard_score(y, y_pred, average='weighted')))\n",
    "\n",
    "\n",
    "    print(\"Full classification report\")\n",
    "    print(classification_report(y, y_pred, digits=4, target_names=definitions))\n",
    "    report = classification_report(y, y_pred, digits=4, output_dict=True)\n",
    "    df_classification_report = pd.DataFrame(report).transpose()\n",
    "    classification_rep_name = \"{}_classification_rep_best.csv\".format(prefix)\n",
    "    df_classification_report.to_csv(os.path.join(model_dir,classification_rep_name), index=False)\n",
    "\n",
    "\n",
    "    print(\"Imbalanced Classification report\")\n",
    "    print(classification_report_imbalanced(y, y_pred, digits=4, target_names=definitions))\n",
    "    imb_report = classification_report_imbalanced(y, y_pred, digits=4, target_names=definitions, output_dict=True)\n",
    "    df_imb_classification_report = pd.DataFrame(imb_report).transpose()\n",
    "    classification_imb_rep_name = \"{}_imb_classification_rep_best.csv\".format(prefix)\n",
    "    df_imb_classification_report.to_csv(os.path.join(model_dir,classification_imb_rep_name), index=False)\n",
    "\n"
   ]
  },
  {
   "cell_type": "markdown",
   "metadata": {},
   "source": [
    "Common preprocessing for all experiments"
   ]
  },
  {
   "cell_type": "code",
   "execution_count": 3,
   "metadata": {
    "pycharm": {
     "name": "#%%\n"
    }
   },
   "outputs": [
    {
     "name": "stdout",
     "output_type": "stream",
     "text": [
      "Checking files in data location ...\n",
      "data\n",
      "df_anomaly.csv\n",
      "df_audsome.csv\n",
      "df_clean_ausdome_single.csv\n",
      "df_clean_single.csv\n",
      "models\n",
      "processed\n",
      "\n"
     ]
    }
   ],
   "source": [
    "print(\"Checking files in data location ...\")\n",
    "train_dir = '/Users/Gabriel/Dropbox/Research/ASPIDE/Datasets/ECI Chaos/Distributed Phase 1/finalized/single_node/training'\n",
    "# train_dir = '/home/gabriel/Research/Aspide/workspace/data_phase'\n",
    "# train_dir = '/home/gabriel/research/dipet/serrano/data'\n",
    "print(check_output([\"ls\", train_dir]).decode(\"utf8\"))"
   ]
  },
  {
   "cell_type": "code",
   "execution_count": 4,
   "metadata": {
    "pycharm": {
     "name": "#%%\n"
    }
   },
   "outputs": [
    {
     "name": "stdout",
     "output_type": "stream",
     "text": [
      "Setting paths and datasets\n"
     ]
    }
   ],
   "source": [
    "print(\"Setting paths and datasets\")\n",
    "# Checking if directory exists for data, modells and processed\n",
    "\n",
    "data_dir = os.path.join(train_dir,'data')\n",
    "model_dir = os.path.join(train_dir,'models')\n",
    "processed_dir = os.path.join(train_dir,'processed')\n",
    "if not os.path.exists(data_dir):\n",
    "    os.makedirs(data_dir)\n",
    "if not os.path.exists(model_dir):\n",
    "    os.makedirs(model_dir)\n",
    "# if not os.path.exists(processed_dir):\n",
    "#     os.makedirs(processed_dir)"
   ]
  },
  {
   "cell_type": "code",
   "execution_count": 5,
   "metadata": {
    "pycharm": {
     "name": "#%%\n"
    }
   },
   "outputs": [],
   "source": [
    "df_anomaly = pd.read_csv(os.path.join(train_dir,\"df_anomaly.csv\"))\n",
    "df_audsome = pd.read_csv(os.path.join(train_dir,\"df_audsome.csv\"))\n",
    "df_clean = pd.read_csv(os.path.join(train_dir,\"df_clean_single.csv\"))\n",
    "df_clean_audsome = pd.read_csv(os.path.join(train_dir,\"df_clean_ausdome_single.csv\"))\n",
    "\n",
    "# Set index as time\n",
    "df_anomaly.set_index('time', inplace=True)\n",
    "df_audsome.set_index('time', inplace=True)\n",
    "df_clean.set_index('time', inplace=True)\n",
    "df_clean_audsome.set_index('time', inplace=True)"
   ]
  },
  {
   "cell_type": "code",
   "execution_count": 6,
   "metadata": {
    "pycharm": {
     "name": "#%% Choose dataset to run experiments on\n"
    }
   },
   "outputs": [
    {
     "name": "stdout",
     "output_type": "stream",
     "text": [
      "Dataset chosen ...\n"
     ]
    },
    {
     "data": {
      "text/plain": "(5400, 90)"
     },
     "execution_count": 6,
     "metadata": {},
     "output_type": "execute_result"
    }
   ],
   "source": [
    "print(\"Dataset chosen ...\")\n",
    "data = df_anomaly\n",
    "\n",
    "# Nice print\n",
    "nice_y = data['target']\n",
    "data.shape"
   ]
  },
  {
   "cell_type": "code",
   "execution_count": 7,
   "metadata": {
    "pycharm": {
     "name": "#%%\n"
    }
   },
   "outputs": [],
   "source": [
    "# Uncomment for removing dummy TODO CHECK if adding back dummy\n",
    "# data.loc[data.target == \"dummy\", 'target'] = \"0\"\n",
    "\n",
    "#Creating the dependent variable class\n",
    "factor = pd.factorize(data['target'])\n",
    "data.target = factor[0]\n",
    "definitions = factor[1]\n",
    "# print(data.target.head())\n",
    "# print(definitions)"
   ]
  },
  {
   "cell_type": "code",
   "execution_count": 8,
   "metadata": {
    "pycharm": {
     "name": "#%%\n"
    }
   },
   "outputs": [
    {
     "name": "stdout",
     "output_type": "stream",
     "text": [
      "Splitting dataset into training and ground truth ...\n"
     ]
    }
   ],
   "source": [
    "print(\"Splitting dataset into training and ground truth ...\")\n",
    "X = data.drop('target', axis=1)\n",
    "y = data['target']"
   ]
  },
  {
   "cell_type": "code",
   "execution_count": 9,
   "metadata": {
    "pycharm": {
     "name": "#%%\n"
    }
   },
   "outputs": [
    {
     "name": "stdout",
     "output_type": "stream",
     "text": [
      "Ploting class distribution ..\n"
     ]
    },
    {
     "name": "stderr",
     "output_type": "stream",
     "text": [
      "/Users/Gabriel/anaconda3/envs/p3envmlv3/lib/python3.8/site-packages/seaborn/_decorators.py:36: FutureWarning: Pass the following variable as a keyword arg: x. From version 0.12, the only valid positional argument will be `data`, and passing other arguments without an explicit keyword will result in an error or misinterpretation.\n",
      "  warnings.warn(\n"
     ]
    },
    {
     "data": {
      "text/plain": "<Figure size 432x288 with 1 Axes>",
      "image/png": "[encoded data removed]"
     },
     "metadata": {
      "needs_background": "light"
     },
     "output_type": "display_data"
    }
   ],
   "source": [
    "# Plot class distribution\n",
    "print(\"Ploting class distribution ..\")\n",
    "pltdist= sns.countplot(nice_y)\n",
    "pltdist.set_xticklabels(pltdist.get_xticklabels(), rotation=40, ha=\"right\")\n",
    "plt.tight_layout()\n",
    "plt.show()"
   ]
  },
  {
   "cell_type": "code",
   "execution_count": 10,
   "metadata": {
    "pycharm": {
     "name": "#%%\n"
    }
   },
   "outputs": [
    {
     "name": "stdout",
     "output_type": "stream",
     "text": [
      "Scaling dataset\n"
     ]
    }
   ],
   "source": [
    "print(\"Scaling dataset\")\n",
    "# scaler = StandardScaler()\n",
    "# scaler = RobustScaler()\n",
    "scaler = MinMaxScaler()\n",
    "X_scaled = scaler.fit_transform(X)\n",
    "X = pd.DataFrame(X_scaled, index=X.index, columns=X.columns) # transform back to df\n",
    "# Fix for lighgbm\n",
    "import re\n",
    "X = X.rename(columns = lambda x:re.sub('[^A-Za-z0-9_]+', '', x))"
   ]
  },
  {
   "cell_type": "markdown",
   "metadata": {
    "pycharm": {
     "name": "#%% md\n"
    }
   },
   "source": [
    "Starting of experiment for LightGBM only\n",
    "\n",
    "Parameters:\n",
    "\n",
    "boosting_type (str, optional (default='gbdt')) – ‘gbdt’, traditional Gradient Boosting Decision Tree. ‘dart’, Dropouts meet Multiple Additive Regression Trees. ‘goss’, Gradient-based One-Side Sampling. ‘rf’, Random Forest.\n",
    "\n",
    "num_leaves (int, optional (default=31)) – Maximum tree leaves for base learners.\n",
    "\n",
    "max_depth (int, optional (default=-1)) – Maximum tree depth for base learners, <=0 means no limit.\n",
    "\n",
    "learning_rate (float, optional (default=0.1)) – Boosting learning rate. You can use callbacks parameter of fit method to shrink/adapt learning rate in training using reset_parameter callback. Note, that this will ignore the learning_rate argument in training.\n",
    "\n",
    "n_estimators (int, optional (default=100)) – Number of boosted trees to fit.\n",
    "\n",
    "subsample_for_bin (int, optional (default=200000)) – Number of samples for constructing bins.\n",
    "\n",
    "objective (str, callable or None, optional (default=None)) – Specify the learning task and the corresponding learning objective or a custom objective function to be used (see note below). Default: ‘regression’ for LGBMRegressor, ‘binary’ or ‘multiclass’ for LGBMClassifier, ‘lambdarank’ for LGBMRanker.\n",
    "\n",
    "class_weight (dict, 'balanced' or None, optional (default=None)) – Weights associated with classes in the form {class_label: weight}. Use this parameter only for multi-class classification task; for binary classification task you may use is_unbalance or scale_pos_weight parameters. Note, that the usage of all these parameters will result in poor estimates of the individual class probabilities. You may want to consider performing probability calibration (https://scikit-learn.org/stable/modules/calibration.html) of your model. The ‘balanced’ mode uses the values of y to automatically adjust weights inversely proportional to class frequencies in the input data as n_samples / (n_classes * np.bincount(y)). If None, all classes are supposed to have weight one. Note, that these weights will be multiplied with sample_weight (passed through the fit method) if sample_weight is specified.\n",
    "\n",
    "min_split_gain (float, optional (default=0.)) – Minimum loss reduction required to make a further partition on a leaf node of the tree.\n",
    "\n",
    "min_child_weight (float, optional (default=1e-3)) – Minimum sum of instance weight (hessian) needed in a child (leaf).\n",
    "\n",
    "min_child_samples (int, optional (default=20)) – Minimum number of data needed in a child (leaf).\n",
    "\n",
    "subsample (float, optional (default=1.)) – Subsample ratio of the training instance.\n",
    "\n",
    "subsample_freq (int, optional (default=0)) – Frequency of subsample, <=0 means no enable.\n",
    "\n",
    "colsample_bytree (float, optional (default=1.)) – Subsample ratio of columns when constructing each tree.\n",
    "\n",
    "reg_alpha (float, optional (default=0.)) – L1 regularization term on weights.\n",
    "\n",
    "reg_lambda (float, optional (default=0.)) – L2 regularization term on weights.\n",
    "\n",
    "random_state (int, RandomState object or None, optional (default=None)) – Random number seed. If int, this number is used to seed the C++ code. If RandomState object (numpy), a random integer is picked based on its state to seed the C++ code. If None, default seeds in C++ code are used.\n",
    "\n",
    "n_jobs (int, optional (default=-1)) – Number of parallel threads to use for training (can be changed at prediction time).\n",
    "\n",
    "importance_type (str, optional (default='split')) – The type of feature importance to be filled into feature_importances_. If ‘split’, result contains numbers of times the feature is used in a model. If ‘gain’, result contains total gains of splits which use the feature."
   ]
  },
  {
   "cell_type": "code",
   "execution_count": 11,
   "metadata": {
    "pycharm": {
     "name": "#%%\n"
    }
   },
   "outputs": [
    {
     "data": {
      "text/plain": "dict_keys(['boosting_type', 'class_weight', 'colsample_bytree', 'importance_type', 'learning_rate', 'max_depth', 'min_child_samples', 'min_child_weight', 'min_split_gain', 'n_estimators', 'n_jobs', 'num_leaves', 'objective', 'random_state', 'reg_alpha', 'reg_lambda', 'silent', 'subsample', 'subsample_for_bin', 'subsample_freq'])"
     },
     "execution_count": 11,
     "metadata": {},
     "output_type": "execute_result"
    }
   ],
   "source": [
    "# Name of experiment\n",
    "# XGBoost\n",
    "prefix = 'Phase1_lightgbm_evs_as'\n",
    "paramgrid = {\n",
    "    'n_estimators': [10, 50, 100, 200, 300, 500, 1000],\n",
    "    'max_depth': [-1, 3, 4, 6, 25, 50],\n",
    "    'learning_rate': [0.001, 0.01, 0.05, 0.1, 0.15, 0.2],\n",
    "    'subsample': [0.2, 0.5, 1],\n",
    "    'min_child_weight':[1, 2, 5, 6],\n",
    "    'boosting_type':[\"gbdt\", \"dart\", \"goss\"],\n",
    "    'seed': [42],\n",
    "    'objective': ['multiclass'],  # error evaluation for multiclass training\n",
    "    # 'num_class': [len(definitions)],\n",
    "}\n",
    "model = lgm.sklearn.LGBMClassifier()\n",
    "# model = xgb.XGBClassifier()\n",
    "model.get_params().keys()"
   ]
  },
  {
   "cell_type": "code",
   "execution_count": 12,
   "metadata": {
    "pycharm": {
     "name": "#%%\n"
    }
   },
   "outputs": [],
   "source": [
    "#Example of HPO methods https://github.com/LiYangHart/Hyperparameter-Optimization-of-Machine-Learning-Algorithms/blob/master/HPO_Classification.ipynb\n",
    "# scorer = make_scorer(accuracy_score, )\n",
    "scorer = make_scorer(jaccard_score, average=\"micro\") # TODO check average\n",
    "# scorer = 'accuracy'\n",
    "n_splits = 4 # default 4\n",
    "\n",
    "cv_type = StratifiedKFold(n_splits=n_splits)\n",
    "nj = 1 # Number of jobs\n",
    "from joblib import parallel_backend\n",
    "with parallel_backend('multiprocessing'):\n",
    "    cv = EvolutionaryAlgorithmSearchCV(estimator=model,\n",
    "                                       params=paramgrid,\n",
    "                                       scoring=scorer,\n",
    "                                       cv=cv_type, # StratifiedKFold not supported for multilabel-indicator (oh encoding)\n",
    "                                       verbose=4,\n",
    "                                       population_size=40, # 40\n",
    "                                       gene_mutation_prob=0.20,\n",
    "                                       gene_crossover_prob=0.5,\n",
    "                                       tournament_size=4,\n",
    "                                       generations_number=30, #10\n",
    "                                       n_jobs=nj) # for dnn n_jobs must be set to 1 rest is 8"
   ]
  },
  {
   "cell_type": "code",
   "execution_count": 13,
   "metadata": {
    "pycharm": {
     "name": "#%%\n"
    },
    "scrolled": true
   },
   "outputs": [
    {
     "name": "stdout",
     "output_type": "stream",
     "text": [
      "Types [1, 1, 2, 2, 1, 1, 1, 1] and maxint [6, 5, 5, 2, 3, 2, 0, 0] detected\n",
      "--- Evolve in 9072 possible combinations ---\n",
      "[CV] END boosting_type=goss, learning_rate=0.05, max_depth=50, min_child_weight=5, n_estimators=50, objective=multiclass, seed=42, subsample=0.2;, score=0.987 total time=   2.7s\n",
      "[CV] END boosting_type=goss, learning_rate=0.05, max_depth=50, min_child_weight=5, n_estimators=50, objective=multiclass, seed=42, subsample=0.2;, score=0.988 total time=   2.7s\n",
      "[CV] END boosting_type=goss, learning_rate=0.05, max_depth=50, min_child_weight=5, n_estimators=50, objective=multiclass, seed=42, subsample=0.2;, score=0.972 total time=   2.3s\n",
      "[CV] END boosting_type=goss, learning_rate=0.05, max_depth=50, min_child_weight=5, n_estimators=50, objective=multiclass, seed=42, subsample=0.2;, score=0.996 total time=   2.5s\n",
      "[CV] END boosting_type=goss, learning_rate=0.05, max_depth=4, min_child_weight=1, n_estimators=1000, objective=multiclass, seed=42, subsample=0.5;, score=0.944 total time=   9.3s\n",
      "[CV] END boosting_type=goss, learning_rate=0.05, max_depth=4, min_child_weight=1, n_estimators=1000, objective=multiclass, seed=42, subsample=0.5;, score=0.985 total time=  10.1s\n",
      "[CV] END boosting_type=goss, learning_rate=0.05, max_depth=4, min_child_weight=1, n_estimators=1000, objective=multiclass, seed=42, subsample=0.5;, score=0.871 total time=   9.7s\n",
      "[CV] END boosting_type=goss, learning_rate=0.05, max_depth=4, min_child_weight=1, n_estimators=1000, objective=multiclass, seed=42, subsample=0.5;, score=0.964 total time=  11.6s\n",
      "[CV] END boosting_type=goss, learning_rate=0.2, max_depth=3, min_child_weight=2, n_estimators=200, objective=multiclass, seed=42, subsample=1;, score=0.941 total time=   2.1s\n",
      "[CV] END boosting_type=goss, learning_rate=0.2, max_depth=3, min_child_weight=2, n_estimators=200, objective=multiclass, seed=42, subsample=1;, score=0.984 total time=   2.1s\n",
      "[CV] END boosting_type=goss, learning_rate=0.2, max_depth=3, min_child_weight=2, n_estimators=200, objective=multiclass, seed=42, subsample=1;, score=0.860 total time=   1.9s\n",
      "[CV] END boosting_type=goss, learning_rate=0.2, max_depth=3, min_child_weight=2, n_estimators=200, objective=multiclass, seed=42, subsample=1;, score=0.982 total time=   2.3s\n",
      "[CV] END boosting_type=goss, learning_rate=0.2, max_depth=6, min_child_weight=1, n_estimators=300, objective=multiclass, seed=42, subsample=0.2;, score=0.945 total time=   3.2s\n",
      "[CV] END boosting_type=goss, learning_rate=0.2, max_depth=6, min_child_weight=1, n_estimators=300, objective=multiclass, seed=42, subsample=0.2;, score=0.965 total time=   2.8s\n",
      "[CV] END boosting_type=goss, learning_rate=0.2, max_depth=6, min_child_weight=1, n_estimators=300, objective=multiclass, seed=42, subsample=0.2;, score=0.816 total time=   2.5s\n",
      "[CV] END boosting_type=goss, learning_rate=0.2, max_depth=6, min_child_weight=1, n_estimators=300, objective=multiclass, seed=42, subsample=0.2;, score=0.972 total time=   2.7s\n",
      "[CV] END boosting_type=goss, learning_rate=0.05, max_depth=25, min_child_weight=1, n_estimators=100, objective=multiclass, seed=42, subsample=0.2;, score=0.962 total time=   4.0s\n"
     ]
    },
    {
     "name": "stderr",
     "output_type": "stream",
     "text": [
      "\n",
      "KeyboardInterrupt\n",
      "\n"
     ]
    }
   ],
   "source": [
    "cv.fit(X, y)"
   ]
  },
  {
   "cell_type": "code",
   "execution_count": null,
   "metadata": {
    "pycharm": {
     "name": "#%%\n"
    }
   },
   "outputs": [],
   "source": [
    "# Remove bool values from dict\n",
    "cv.cv_results_.pop('nan_test_score?')\n",
    "\n",
    "print(\"Saving CV results\")\n",
    "file_name = \"{}_hpo_best_cv.csv\".format(prefix)\n",
    "# with open(os.path.join(model_dir,file_name), 'w') as cvfile:\n",
    "#     json.dump(cv.cv_results_, cvfile)\n",
    "cv_test_scores = pd.DataFrame(cv.cv_results_)\n",
    "cv_test_scores.to_csv(os.path.join(model_dir,file_name), index=False)\n",
    "print(\"{} best params: {}\".format(prefix, cv.best_params_))\n",
    "param_name = \"{}_hpo_best_param.json\".format(prefix)\n",
    "with open(os.path.join(model_dir,param_name), 'w') as cvfile:\n",
    "    json.dump(cv.best_params_, cvfile)\n",
    "print(\"{} best score: {}\".format(prefix, cv.best_score_))\n",
    "print(\"Saving best {} estimator\".format(prefix))\n",
    "model_name = \"{}_hpo_best.joblib\".format(prefix)\n",
    "dump(cv.best_estimator_, os.path.join(model_dir,model_name))"
   ]
  },
  {
   "cell_type": "code",
   "execution_count": null,
   "metadata": {
    "pycharm": {
     "name": "#%% Scoring and reporting for training\n"
    }
   },
   "outputs": [],
   "source": [
    "y_pred = cv.best_estimator_.predict(X)\n",
    "custom_scoring_reporting(y_pred, y, definitions, prefix)\n"
   ]
  },
  {
   "cell_type": "code",
   "execution_count": null,
   "metadata": {
    "pycharm": {
     "name": "#%%\n"
    }
   },
   "outputs": [],
   "source": [
    "print(\"Confusion matrix\")\n",
    "cf_matrix = confusion_matrix(y, y_pred)\n",
    "plt.figure(dpi=600)\n",
    "sns_cf = sns.heatmap(cf_matrix, annot=True, yticklabels=list(definitions), xticklabels=list(definitions))\n",
    "cf_fig = \"{}_cf.png\".format(prefix)\n",
    "sns_cf.figure.savefig(os.path.join(model_dir, cf_fig), format='pdf',\n",
    "           bbox_inches='tight', pad_inches=0)\n",
    "\n",
    "# Extract Feature importance\n",
    "feat_importances = pd.Series(cv.best_estimator_.feature_importances_, index=list(data.drop('target', axis=1).columns))\n",
    "featureimp_name = \"{}_hpo_best_featureimp.csv\".format(prefix)\n",
    "feat_importances.to_csv(os.path.join(model_dir, featureimp_name), index=True)\n",
    "# print(feat_importances.head(10))\n",
    "sorted_feature = feat_importances.sort_values(ascending=True)\n",
    "# Plot the feature importances of the forest\n",
    "# plt.figure()\n",
    "plt.figure(figsize=(10,20), dpi=600)\n",
    "plt.title(\"Feature importances\")\n",
    "plt.barh(range(X.shape[1]), sorted_feature,\n",
    "       color=\"r\", align=\"center\", )\n",
    "# If you want to define your own labels,\n",
    "# change indices to a list of labels on the following line.\n",
    "plt.yticks(range(X.shape[1]), sorted_feature.index)\n",
    "plt.ylim([-1, X.shape[1]])\n",
    "plt.show()\n"
   ]
  },
  {
   "cell_type": "markdown",
   "metadata": {
    "pycharm": {
     "name": "#%% md\n"
    }
   },
   "source": [
    "Scoring on holdout or other dataset"
   ]
  },
  {
   "cell_type": "code",
   "execution_count": 75,
   "metadata": {
    "pycharm": {
     "name": "#%%\n"
    }
   },
   "outputs": [],
   "source": [
    "#Creating the dependent variable class\n",
    "# factor_h = pd.factorize(df_clean['target'])\n",
    "# df_clean.target = factor_h[0]\n",
    "# definitions_h = factor_h[1]"
   ]
  },
  {
   "cell_type": "code",
   "execution_count": 85,
   "metadata": {
    "pycharm": {
     "name": "#%%\n"
    }
   },
   "outputs": [],
   "source": [
    "# print(\"Splitting dataset into data and ground truth ...\")\n",
    "# X_h = df_clean.drop('target', axis=1)\n",
    "# y_h = df_clean['target']\n",
    "\n",
    "# Scale\n",
    "# X_h"
   ]
  },
  {
   "cell_type": "code",
   "execution_count": 82,
   "metadata": {
    "pycharm": {
     "name": "#%%\n"
    }
   },
   "outputs": [],
   "source": [
    "# X_h = scaler.transform(X_h)\n"
   ]
  },
  {
   "cell_type": "code",
   "execution_count": 83,
   "metadata": {
    "pycharm": {
     "name": "#%%\n"
    }
   },
   "outputs": [],
   "source": [
    "# y_pred_h = cv.best_estimator_.predict(X_h)\n",
    "#\n",
    "# custom_scoring_reporting(y_pred_h, y_h, definitions, prefix=\"rf_holdout\")"
   ]
  },
  {
   "cell_type": "code",
   "execution_count": 84,
   "metadata": {
    "pycharm": {
     "name": "#%% Scoring and reporting for training\n"
    }
   },
   "outputs": [],
   "source": [
    "# y_pred = cv.best_estimator_.predict(X)\n",
    "# custom_scoring_reporting(y_pred, y, definitions, prefix)\n",
    "\n",
    "# jaccard_score(y_h, y_pred_h, average='micro')\n",
    "# y_pred_h"
   ]
  },
  {
   "cell_type": "code",
   "execution_count": null,
   "metadata": {
    "pycharm": {
     "name": "#%%\n"
    }
   },
   "outputs": [],
   "source": []
  }
 ],
 "metadata": {
  "kernelspec": {
   "display_name": "Python 3",
   "language": "python",
   "name": "python3"
  },
  "language_info": {
   "codemirror_mode": {
    "name": "ipython",
    "version": 3
   },
   "file_extension": ".py",
   "mimetype": "text/x-python",
   "name": "python",
   "nbconvert_exporter": "python",
   "pygments_lexer": "ipython3",
   "version": "3.7.10"
  }
 },
 "nbformat": 4,
 "nbformat_minor": 1
}