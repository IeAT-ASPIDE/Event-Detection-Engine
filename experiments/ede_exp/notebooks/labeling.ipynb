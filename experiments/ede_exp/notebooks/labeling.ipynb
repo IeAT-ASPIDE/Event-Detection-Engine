{
 "cells": [
  {
   "cell_type": "code",
   "execution_count": 1,
   "metadata": {
    "collapsed": true
   },
   "outputs": [
    {
     "name": "stdout",
     "output_type": "stream",
     "text": [
      "Checking files in data location ...\n",
      "logs\n",
      "pr_data_anomalies(1h).csv\n",
      "pr_data_anomalies(80minutes).csv\n",
      "pr_data_audesome_anomalies(65m).csv\n",
      "pr_data_audesome_clean(1h).csv\n",
      "pr_data_clean(1h).csv\n",
      "processed\n",
      "\n",
      "/Users/Gabriel/Documents/workspaces/Event-Detection-Engine/experiments/ede_exp/data\n",
      "/Users/Gabriel/Documents/workspaces/Event-Detection-Engine/experiments/ede_exp/data/processed\n",
      "Clean data shape: (3600, 62)\n",
      "Anomaly data shape: (4800, 62)\n",
      "Clean AUDSOME data shape: (3600, 62)\n",
      "Anomaly AUDSOME data shape: (3900, 62)\n"
     ]
    }
   ],
   "source": [
    "import numpy as np\n",
    "np.random.seed(42)\n",
    "import matplotlib.pyplot as plt\n",
    "import seaborn as sns\n",
    "import itertools\n",
    "from subprocess import check_output\n",
    "import psutil\n",
    "import platform\n",
    "import os\n",
    "import pandas as pd\n",
    "import time\n",
    "import scipy\n",
    "from scipy import stats\n",
    "import sys\n",
    "%matplotlib inline\n",
    "print(\"Checking files in data location ...\")\n",
    "print(check_output([\"ls\", \"../data\"]).decode(\"utf8\"))\n",
    "path_parent = os.path.dirname(os.getcwd())\n",
    "data_dir = os.path.join(path_parent,'data')\n",
    "processed_dir = os.path.join(data_dir,'processed')\n",
    "logs = os.path.join(data_dir,'logs')\n",
    "print(data_dir)\n",
    "print(processed_dir)\n",
    "\n",
    "df_clean = pd.read_csv(os.path.join(processed_dir,\"clean.csv\"))\n",
    "df_anomaly = pd.read_csv(os.path.join(processed_dir,\"anomaly.csv\"))\n",
    "df_audsome = pd.read_csv(os.path.join(processed_dir,\"audesome_clearn.csv\"))\n",
    "df_audsome_anomaly = pd.read_csv(os.path.join(processed_dir,\"audsome_anomaly.csv\"))\n",
    "print(\"Clean data shape: {}\".format(df_clean.shape))\n",
    "print(\"Anomaly data shape: {}\".format(df_anomaly.shape))\n",
    "print(\"Clean AUDSOME data shape: {}\".format(df_audsome.shape))\n",
    "print(\"Anomaly AUDSOME data shape: {}\".format(df_audsome_anomaly.shape))"
   ]
  },
  {
   "cell_type": "code",
   "execution_count": 2,
   "outputs": [
    {
     "name": "stdout",
     "output_type": "stream",
     "text": [
      "/Users/Gabriel/Documents/workspaces/Event-Detection-Engine/experiments/ede_exp/data/logs/anomaly_exp\n"
     ]
    }
   ],
   "source": [
    "# Logs\n",
    "anomaly_logs_dir = os.path.join(logs, 'distributed')\n",
    "print(anomaly_logs_dir)"
   ],
   "metadata": {
    "collapsed": false,
    "pycharm": {
     "name": "#%%\n"
    }
   }
  },
  {
   "cell_type": "code",
   "execution_count": 3,
   "outputs": [],
   "source": [
    "import glob\n",
    "from pygrok import Grok\n",
    "\n",
    "def setup_grok(pattern):\n",
    "    grok = Grok(pattern)\n",
    "    return grok\n",
    "\n",
    "def parse_logs(file,\n",
    "               type=None):\n",
    "    if type == 'copy':\n",
    "        pattern = '%{NUMBER:unixtime}  anomalies.py:%{NUMBER:linenumber} \t%{LOGLEVEL:loglevel}     %{WORD:status} %{WORD:anomaly_name} with options %{GREEDYDATA:settings} and uuid %{GREEDYDATA:uuid}'\n",
    "    elif type == 'cpu':\n",
    "        pattern = '%{NUMBER:unixtime}  anomalies.py:%{NUMBER:linenumber}  \t%{LOGLEVEL:loglevel}     %{WORD:status} %{WORD:anomaly_name} with options %{GREEDYDATA:settings} and uuid %{GREEDYDATA:uuid}'\n",
    "        # pattern = '%{NUMBER:unixtime}  anomalies.py:%{NUMBER:linenumber}%{GREEDYDATA}%{LOGLEVEL:loglevel}     %{WORD:status} %{WORD:anomaly_name} with options %{GREEDYDATA:settiongs} and uuid %{GREEDYDATA:uuid}'\n",
    "    else:\n",
    "        pattern = '%{NUMBER:unixtime}  anomalies.py:%{NUMBER:linenumber} \t%{LOGLEVEL:loglevel}     %{WORD:status} %{WORD:anomaly_name} with options %{GREEDYDATA:settings} and uuid %{GREEDYDATA:uuid}'\n",
    "    grok = setup_grok(pattern)\n",
    "    with open(file, 'r') as log:\n",
    "        lines = log.readlines()\n",
    "\n",
    "    parsed = []\n",
    "    for line in lines:\n",
    "        match = grok.match(line)\n",
    "        if match is None:\n",
    "            pattern2 = '%{NUMBER:unixtime}  anomalies.py:%{NUMBER:linenumber} \t%{LOGLEVEL:loglevel}     %{WORD:status} %{WORD:anomaly_name} of uuid %{GREEDYDATA:uuid} for'\n",
    "            grok2 = setup_grok(pattern2)\n",
    "            match2 = grok2.match(line)\n",
    "            if match2 is None:\n",
    "                pass\n",
    "            else:\n",
    "                match = match2\n",
    "        parsed.append(match)\n",
    "        print(match)\n",
    "    return parsed"
   ],
   "metadata": {
    "collapsed": false,
    "pycharm": {
     "name": "#%%\n"
    }
   }
  },
  {
   "cell_type": "code",
   "execution_count": 4,
   "outputs": [
    {
     "name": "stdout",
     "output_type": "stream",
     "text": [
      "{'unixtime': '1607516375.369525', 'linenumber': '193', 'loglevel': 'INFO', 'status': 'Started', 'anomaly_name': 'copy', 'settings': '[unit gb, multiplier 3, remove 1, time_out 20]', 'uuid': '2c6bb32e-3e2b-407a-821f-f8ea898055a1'}\n",
      "{'unixtime': '1607516375.371002', 'linenumber': '174', 'loglevel': 'INFO', 'status': 'Started', 'anomaly_name': 'Generating_large_file', 'settings': '[size 3221225472, multiplier 3]', 'uuid': 'gb'}\n",
      "{'unixtime': '1607516396.182727', 'linenumber': '179', 'loglevel': 'INFO', 'status': 'Finished', 'anomaly_name': 'Generating_large_file', 'settings': '[size 3221225472, multiplier 3]', 'uuid': 'gb'}\n",
      "{'unixtime': '1607516456.766483', 'linenumber': '213', 'loglevel': 'INFO', 'status': 'Finished', 'anomaly_name': 'copy', 'settings': '[unit gb, multiplier 3, remove 1, time_out 20]', 'uuid': '2c6bb32e-3e2b-407a-821f-f8ea898055a1'}\n",
      "{'unixtime': '1607516456.954106', 'linenumber': '193', 'loglevel': 'INFO', 'status': 'Started', 'anomaly_name': 'copy', 'settings': '[unit gb, multiplier 3, remove 1, time_out 20]', 'uuid': '6212c7b9-0eeb-489e-bfdc-8774e5929b30'}\n",
      "{'unixtime': '1607516456.954463', 'linenumber': '174', 'loglevel': 'INFO', 'status': 'Started', 'anomaly_name': 'Generating_large_file', 'settings': '[size 3221225472, multiplier 3]', 'uuid': 'gb'}\n",
      "{'unixtime': '1607516476.440065', 'linenumber': '179', 'loglevel': 'INFO', 'status': 'Finished', 'anomaly_name': 'Generating_large_file', 'settings': '[size 3221225472, multiplier 3]', 'uuid': 'gb'}\n",
      "{'unixtime': '1607516537.058018', 'linenumber': '213', 'loglevel': 'INFO', 'status': 'Finished', 'anomaly_name': 'copy', 'settings': '[unit gb, multiplier 3, remove 1, time_out 20]', 'uuid': '6212c7b9-0eeb-489e-bfdc-8774e5929b30'}\n",
      "{'unixtime': '1607516719.291202', 'linenumber': '193', 'loglevel': 'INFO', 'status': 'Started', 'anomaly_name': 'copy', 'settings': '[unit gb, multiplier 3, remove 1, time_out 20]', 'uuid': 'c64188f0-5228-4940-b0bd-44903168f8af'}\n",
      "{'unixtime': '1607516719.291549', 'linenumber': '174', 'loglevel': 'INFO', 'status': 'Started', 'anomaly_name': 'Generating_large_file', 'settings': '[size 3221225472, multiplier 3]', 'uuid': 'gb'}\n",
      "{'unixtime': '1607516735.071428', 'linenumber': '179', 'loglevel': 'INFO', 'status': 'Finished', 'anomaly_name': 'Generating_large_file', 'settings': '[size 3221225472, multiplier 3]', 'uuid': 'gb'}\n",
      "{'unixtime': '1607516795.608396', 'linenumber': '213', 'loglevel': 'INFO', 'status': 'Finished', 'anomaly_name': 'copy', 'settings': '[unit gb, multiplier 3, remove 1, time_out 20]', 'uuid': 'c64188f0-5228-4940-b0bd-44903168f8af'}\n",
      "{'unixtime': '1607517540.833983', 'linenumber': '193', 'loglevel': 'INFO', 'status': 'Started', 'anomaly_name': 'copy', 'settings': '[unit gb, multiplier 3, remove 1, time_out 20]', 'uuid': 'ae16aa6d-dd09-49e8-874d-353881809cc6'}\n",
      "{'unixtime': '1607517540.834610', 'linenumber': '174', 'loglevel': 'INFO', 'status': 'Started', 'anomaly_name': 'Generating_large_file', 'settings': '[size 3221225472, multiplier 3]', 'uuid': 'gb'}\n",
      "{'unixtime': '1607517554.729052', 'linenumber': '179', 'loglevel': 'INFO', 'status': 'Finished', 'anomaly_name': 'Generating_large_file', 'settings': '[size 3221225472, multiplier 3]', 'uuid': 'gb'}\n",
      "{'unixtime': '1607517615.276255', 'linenumber': '213', 'loglevel': 'INFO', 'status': 'Finished', 'anomaly_name': 'copy', 'settings': '[unit gb, multiplier 3, remove 1, time_out 20]', 'uuid': 'ae16aa6d-dd09-49e8-874d-353881809cc6'}\n",
      "{'unixtime': '1607518156.764749', 'linenumber': '193', 'loglevel': 'INFO', 'status': 'Started', 'anomaly_name': 'copy', 'settings': '[unit gb, multiplier 3, remove 1, time_out 20]', 'uuid': 'c05211cb-1e13-4ebe-b2b2-3272aa4c3d5b'}\n",
      "{'unixtime': '1607518156.765138', 'linenumber': '174', 'loglevel': 'INFO', 'status': 'Started', 'anomaly_name': 'Generating_large_file', 'settings': '[size 3221225472, multiplier 3]', 'uuid': 'gb'}\n",
      "{'unixtime': '1607518170.718253', 'linenumber': '179', 'loglevel': 'INFO', 'status': 'Finished', 'anomaly_name': 'Generating_large_file', 'settings': '[size 3221225472, multiplier 3]', 'uuid': 'gb'}\n",
      "{'unixtime': '1607518231.323690', 'linenumber': '213', 'loglevel': 'INFO', 'status': 'Finished', 'anomaly_name': 'copy', 'settings': '[unit gb, multiplier 3, remove 1, time_out 20]', 'uuid': 'c05211cb-1e13-4ebe-b2b2-3272aa4c3d5b'}\n",
      "{'unixtime': '1607518251.762854', 'linenumber': '193', 'loglevel': 'INFO', 'status': 'Started', 'anomaly_name': 'copy', 'settings': '[unit gb, multiplier 3, remove 1, time_out 20]', 'uuid': 'f194b64c-916e-4628-8a16-602f7a28714a'}\n",
      "{'unixtime': '1607518251.763233', 'linenumber': '174', 'loglevel': 'INFO', 'status': 'Started', 'anomaly_name': 'Generating_large_file', 'settings': '[size 3221225472, multiplier 3]', 'uuid': 'gb'}\n",
      "{'unixtime': '1607518265.684570', 'linenumber': '179', 'loglevel': 'INFO', 'status': 'Finished', 'anomaly_name': 'Generating_large_file', 'settings': '[size 3221225472, multiplier 3]', 'uuid': 'gb'}\n",
      "{'unixtime': '1607518326.241953', 'linenumber': '213', 'loglevel': 'INFO', 'status': 'Finished', 'anomaly_name': 'copy', 'settings': '[unit gb, multiplier 3, remove 1, time_out 20]', 'uuid': 'f194b64c-916e-4628-8a16-602f7a28714a'}\n",
      "{'unixtime': '1607519103.401799', 'linenumber': '193', 'loglevel': 'INFO', 'status': 'Started', 'anomaly_name': 'copy', 'settings': '[unit gb, multiplier 3, remove 1, time_out 20]', 'uuid': '94831ca1-69b6-4654-b6f8-98694b5c57aa'}\n",
      "{'unixtime': '1607519103.402171', 'linenumber': '174', 'loglevel': 'INFO', 'status': 'Started', 'anomaly_name': 'Generating_large_file', 'settings': '[size 3221225472, multiplier 3]', 'uuid': 'gb'}\n",
      "{'unixtime': '1607519117.873298', 'linenumber': '179', 'loglevel': 'INFO', 'status': 'Finished', 'anomaly_name': 'Generating_large_file', 'settings': '[size 3221225472, multiplier 3]', 'uuid': 'gb'}\n",
      "{'unixtime': '1607519178.596440', 'linenumber': '213', 'loglevel': 'INFO', 'status': 'Finished', 'anomaly_name': 'copy', 'settings': '[unit gb, multiplier 3, remove 1, time_out 20]', 'uuid': '94831ca1-69b6-4654-b6f8-98694b5c57aa'}\n",
      "{'unixtime': '1607520574.070514', 'linenumber': '193', 'loglevel': 'INFO', 'status': 'Started', 'anomaly_name': 'copy', 'settings': '[unit gb, multiplier 3, remove 1, time_out 20]', 'uuid': '8e17c705-79aa-43bd-ab82-dfe2a7fcf322'}\n",
      "{'unixtime': '1607520574.070894', 'linenumber': '174', 'loglevel': 'INFO', 'status': 'Started', 'anomaly_name': 'Generating_large_file', 'settings': '[size 3221225472, multiplier 3]', 'uuid': 'gb'}\n",
      "{'unixtime': '1607520588.849285', 'linenumber': '179', 'loglevel': 'INFO', 'status': 'Finished', 'anomaly_name': 'Generating_large_file', 'settings': '[size 3221225472, multiplier 3]', 'uuid': 'gb'}\n",
      "{'unixtime': '1607520649.418162', 'linenumber': '213', 'loglevel': 'INFO', 'status': 'Finished', 'anomaly_name': 'copy', 'settings': '[unit gb, multiplier 3, remove 1, time_out 20]', 'uuid': '8e17c705-79aa-43bd-ab82-dfe2a7fcf322'}\n",
      "{'unixtime': '1607517460.242392', 'linenumber': '83', 'loglevel': 'INFO', 'status': 'Started', 'anomaly_name': 'CPU_overload', 'settings': '[half 0, time_out 60] ', 'uuid': 'db3e3197-f547-4781-9829-185157e5636a'}\n",
      "None\n",
      "{'unixtime': '1607517520.362323', 'linenumber': '94', 'loglevel': 'INFO', 'status': 'Finished', 'anomaly_name': 'CPU_overload', 'settings': '[half 0, time_out 60]', 'uuid': 'db3e3197-f547-4781-9829-185157e5636a'}\n",
      "{'unixtime': '1607517877.308268', 'linenumber': '83', 'loglevel': 'INFO', 'status': 'Started', 'anomaly_name': 'CPU_overload', 'settings': '[half 0, time_out 60] ', 'uuid': '9aefe458-0d60-4bf0-afc4-e4730fcffa3e'}\n",
      "None\n",
      "{'unixtime': '1607517937.422405', 'linenumber': '94', 'loglevel': 'INFO', 'status': 'Finished', 'anomaly_name': 'CPU_overload', 'settings': '[half 0, time_out 60]', 'uuid': '9aefe458-0d60-4bf0-afc4-e4730fcffa3e'}\n",
      "{'unixtime': '1607517957.846296', 'linenumber': '83', 'loglevel': 'INFO', 'status': 'Started', 'anomaly_name': 'CPU_overload', 'settings': '[half 0, time_out 60] ', 'uuid': '5d51250f-0b16-4512-911d-3cfc54b75719'}\n",
      "None\n",
      "{'unixtime': '1607518017.954151', 'linenumber': '94', 'loglevel': 'INFO', 'status': 'Finished', 'anomaly_name': 'CPU_overload', 'settings': '[half 0, time_out 60]', 'uuid': '5d51250f-0b16-4512-911d-3cfc54b75719'}\n",
      "{'unixtime': '1607518466.229090', 'linenumber': '83', 'loglevel': 'INFO', 'status': 'Started', 'anomaly_name': 'CPU_overload', 'settings': '[half 0, time_out 60] ', 'uuid': '990c90a3-0308-4a28-94f4-7379b07fa580'}\n",
      "None\n",
      "{'unixtime': '1607518526.339345', 'linenumber': '94', 'loglevel': 'INFO', 'status': 'Finished', 'anomaly_name': 'CPU_overload', 'settings': '[half 0, time_out 60]', 'uuid': '990c90a3-0308-4a28-94f4-7379b07fa580'}\n",
      "{'unixtime': '1607518860.838976', 'linenumber': '83', 'loglevel': 'INFO', 'status': 'Started', 'anomaly_name': 'CPU_overload', 'settings': '[half 0, time_out 60] ', 'uuid': '0e5b7ec0-04da-4c24-be92-0c00f996055d'}\n",
      "None\n",
      "{'unixtime': '1607518920.954849', 'linenumber': '94', 'loglevel': 'INFO', 'status': 'Finished', 'anomaly_name': 'CPU_overload', 'settings': '[half 0, time_out 60]', 'uuid': '0e5b7ec0-04da-4c24-be92-0c00f996055d'}\n",
      "{'unixtime': '1607519907.887355', 'linenumber': '83', 'loglevel': 'INFO', 'status': 'Started', 'anomaly_name': 'CPU_overload', 'settings': '[half 0, time_out 60] ', 'uuid': '7082b00f-80da-45c5-8971-b23d01b19df4'}\n",
      "None\n",
      "{'unixtime': '1607519967.994844', 'linenumber': '94', 'loglevel': 'INFO', 'status': 'Finished', 'anomaly_name': 'CPU_overload', 'settings': '[half 0, time_out 60]', 'uuid': '7082b00f-80da-45c5-8971-b23d01b19df4'}\n",
      "{'unixtime': '1607520483.497519', 'linenumber': '83', 'loglevel': 'INFO', 'status': 'Started', 'anomaly_name': 'CPU_overload', 'settings': '[half 0, time_out 60] ', 'uuid': '01995677-468c-407e-8229-bfd4699c1a8a'}\n",
      "None\n",
      "{'unixtime': '1607520543.618617', 'linenumber': '94', 'loglevel': 'INFO', 'status': 'Finished', 'anomaly_name': 'CPU_overload', 'settings': '[half 0, time_out 60]', 'uuid': '01995677-468c-407e-8229-bfd4699c1a8a'}\n",
      "{'unixtime': '1607520770.335384', 'linenumber': '83', 'loglevel': 'INFO', 'status': 'Started', 'anomaly_name': 'CPU_overload', 'settings': '[half 0, time_out 60] ', 'uuid': 'd959eb7f-dd71-4703-86b0-e6a289c6df61'}\n",
      "None\n",
      "{'unixtime': '1607520830.470035', 'linenumber': '94', 'loglevel': 'INFO', 'status': 'Finished', 'anomaly_name': 'CPU_overload', 'settings': '[half 0, time_out 60]', 'uuid': 'd959eb7f-dd71-4703-86b0-e6a289c6df61'}\n",
      "{'unixtime': '1607516537.258788', 'linenumber': '147', 'loglevel': 'INFO', 'status': 'Started', 'anomaly_name': 'Memeaterv2', 'settings': '[unit gb, multiplier 1, iteration 2, time_out 60]', 'uuid': '4aae0914-3a4b-42f3-9f51-002aaee1e0e4'}\n",
      "{'unixtime': '1607516658.724744', 'linenumber': '154', 'loglevel': 'INFO', 'status': 'Finised', 'anomaly_name': 'Memeaterv2', 'settings': '[unit gb, multiplier 1, iteration 2, time_out 60]', 'uuid': '4aae0914-3a4b-42f3-9f51-002aaee1e0e4'}\n",
      "{'unixtime': '1607517176.091897', 'linenumber': '147', 'loglevel': 'INFO', 'status': 'Started', 'anomaly_name': 'Memeaterv2', 'settings': '[unit gb, multiplier 1, iteration 2, time_out 60]', 'uuid': 'd21714af-5a8b-4194-a042-a4f0affbe346'}\n",
      "{'unixtime': '1607517297.697695', 'linenumber': '154', 'loglevel': 'INFO', 'status': 'Finised', 'anomaly_name': 'Memeaterv2', 'settings': '[unit gb, multiplier 1, iteration 2, time_out 60]', 'uuid': 'd21714af-5a8b-4194-a042-a4f0affbe346'}\n",
      "{'unixtime': '1607517318.197766', 'linenumber': '147', 'loglevel': 'INFO', 'status': 'Started', 'anomaly_name': 'Memeaterv2', 'settings': '[unit gb, multiplier 1, iteration 2, time_out 60]', 'uuid': '18a8b08b-1171-41e9-a51f-d3ac78b5470e'}\n",
      "{'unixtime': '1607517439.723294', 'linenumber': '154', 'loglevel': 'INFO', 'status': 'Finised', 'anomaly_name': 'Memeaterv2', 'settings': '[unit gb, multiplier 1, iteration 2, time_out 60]', 'uuid': '18a8b08b-1171-41e9-a51f-d3ac78b5470e'}\n",
      "{'unixtime': '1607518556.764668', 'linenumber': '147', 'loglevel': 'INFO', 'status': 'Started', 'anomaly_name': 'Memeaterv2', 'settings': '[unit gb, multiplier 1, iteration 2, time_out 60]', 'uuid': '99561601-80fb-459a-af06-8cf590637ad3'}\n",
      "{'unixtime': '1607518678.311321', 'linenumber': '154', 'loglevel': 'INFO', 'status': 'Finised', 'anomaly_name': 'Memeaterv2', 'settings': '[unit gb, multiplier 1, iteration 2, time_out 60]', 'uuid': '99561601-80fb-459a-af06-8cf590637ad3'}\n",
      "{'unixtime': '1607518708.823552', 'linenumber': '147', 'loglevel': 'INFO', 'status': 'Started', 'anomaly_name': 'Memeaterv2', 'settings': '[unit gb, multiplier 1, iteration 2, time_out 60]', 'uuid': '98c3452c-788a-4a02-a022-d6dfe4fff57b'}\n",
      "{'unixtime': '1607518830.334194', 'linenumber': '154', 'loglevel': 'INFO', 'status': 'Finised', 'anomaly_name': 'Memeaterv2', 'settings': '[unit gb, multiplier 1, iteration 2, time_out 60]', 'uuid': '98c3452c-788a-4a02-a022-d6dfe4fff57b'}\n",
      "{'unixtime': '1607518951.348237', 'linenumber': '147', 'loglevel': 'INFO', 'status': 'Started', 'anomaly_name': 'Memeaterv2', 'settings': '[unit gb, multiplier 1, iteration 2, time_out 60]', 'uuid': 'efec28bb-f17f-43a7-8ef6-6b6f0da96ca2'}\n",
      "{'unixtime': '1607519072.883030', 'linenumber': '154', 'loglevel': 'INFO', 'status': 'Finised', 'anomaly_name': 'Memeaterv2', 'settings': '[unit gb, multiplier 1, iteration 2, time_out 60]', 'uuid': 'efec28bb-f17f-43a7-8ef6-6b6f0da96ca2'}\n",
      "{'unixtime': '1607519299.476230', 'linenumber': '147', 'loglevel': 'INFO', 'status': 'Started', 'anomaly_name': 'Memeaterv2', 'settings': '[unit gb, multiplier 1, iteration 2, time_out 60]', 'uuid': '9cb1c932-7789-4a57-8080-1eaa92183602'}\n",
      "{'unixtime': '1607519421.077259', 'linenumber': '154', 'loglevel': 'INFO', 'status': 'Finised', 'anomaly_name': 'Memeaterv2', 'settings': '[unit gb, multiplier 1, iteration 2, time_out 60]', 'uuid': '9cb1c932-7789-4a57-8080-1eaa92183602'}\n",
      "{'unixtime': '1607519451.652183', 'linenumber': '147', 'loglevel': 'INFO', 'status': 'Started', 'anomaly_name': 'Memeaterv2', 'settings': '[unit gb, multiplier 1, iteration 2, time_out 60]', 'uuid': '474d24d6-1b12-45b8-8b98-64d5f2935113'}\n",
      "{'unixtime': '1607519573.228666', 'linenumber': '154', 'loglevel': 'INFO', 'status': 'Finised', 'anomaly_name': 'Memeaterv2', 'settings': '[unit gb, multiplier 1, iteration 2, time_out 60]', 'uuid': '474d24d6-1b12-45b8-8b98-64d5f2935113'}\n",
      "{'unixtime': '1607519603.709034', 'linenumber': '147', 'loglevel': 'INFO', 'status': 'Started', 'anomaly_name': 'Memeaterv2', 'settings': '[unit gb, multiplier 1, iteration 2, time_out 60]', 'uuid': 'ad6ea9e1-5a8c-41fb-b07f-e2171a76c25b'}\n",
      "{'unixtime': '1607519725.291023', 'linenumber': '154', 'loglevel': 'INFO', 'status': 'Finised', 'anomaly_name': 'Memeaterv2', 'settings': '[unit gb, multiplier 1, iteration 2, time_out 60]', 'uuid': 'ad6ea9e1-5a8c-41fb-b07f-e2171a76c25b'}\n",
      "{'unixtime': '1607519755.848132', 'linenumber': '147', 'loglevel': 'INFO', 'status': 'Started', 'anomaly_name': 'Memeaterv2', 'settings': '[unit gb, multiplier 1, iteration 2, time_out 60]', 'uuid': '15369a8d-b0dd-46a7-af32-6d992f166112'}\n",
      "{'unixtime': '1607519877.375336', 'linenumber': '154', 'loglevel': 'INFO', 'status': 'Finised', 'anomaly_name': 'Memeaterv2', 'settings': '[unit gb, multiplier 1, iteration 2, time_out 60]', 'uuid': '15369a8d-b0dd-46a7-af32-6d992f166112'}\n",
      "{'unixtime': '1607520179.385582', 'linenumber': '147', 'loglevel': 'INFO', 'status': 'Started', 'anomaly_name': 'Memeaterv2', 'settings': '[unit gb, multiplier 1, iteration 2, time_out 60]', 'uuid': '3185e82b-4a6d-474d-8143-b3c3352cce8b'}\n",
      "{'unixtime': '1607520300.919862', 'linenumber': '154', 'loglevel': 'INFO', 'status': 'Finised', 'anomaly_name': 'Memeaterv2', 'settings': '[unit gb, multiplier 1, iteration 2, time_out 60]', 'uuid': '3185e82b-4a6d-474d-8143-b3c3352cce8b'}\n",
      "{'unixtime': '1607520331.453248', 'linenumber': '147', 'loglevel': 'INFO', 'status': 'Started', 'anomaly_name': 'Memeaterv2', 'settings': '[unit gb, multiplier 1, iteration 2, time_out 60]', 'uuid': 'b010072c-5a17-47e0-957a-8fde869357fe'}\n",
      "{'unixtime': '1607520452.975849', 'linenumber': '154', 'loglevel': 'INFO', 'status': 'Finised', 'anomaly_name': 'Memeaterv2', 'settings': '[unit gb, multiplier 1, iteration 2, time_out 60]', 'uuid': 'b010072c-5a17-47e0-957a-8fde869357fe'}\n",
      "{'unixtime': '1607516338.921005', 'linenumber': '229', 'loglevel': 'INFO', 'status': 'Started', 'anomaly_name': 'ddot', 'settings': '[iteration 4, time_out 10, modifiers [0.9, 5, 2], L2CacheSize 262144]', 'uuid': 'de4a8821-f458-4e1e-9504-7688a7689c13'}\n",
      "{'unixtime': '1607516338.921904', 'linenumber': '262', 'loglevel': 'INFO', 'status': 'Modifier', 'anomaly_name': 'ddot', 'uuid': 'de4a8821-f458-4e1e-9504-7688a7689c13'}\n",
      "{'unixtime': '1607516351.821804', 'linenumber': '262', 'loglevel': 'INFO', 'status': 'Modifier', 'anomaly_name': 'ddot', 'uuid': 'de4a8821-f458-4e1e-9504-7688a7689c13'}\n",
      "{'unixtime': '1607516363.924357', 'linenumber': '262', 'loglevel': 'INFO', 'status': 'Modifier', 'anomaly_name': 'ddot', 'uuid': 'de4a8821-f458-4e1e-9504-7688a7689c13'}\n",
      "{'unixtime': '1607516857.231598', 'linenumber': '229', 'loglevel': 'INFO', 'status': 'Started', 'anomaly_name': 'ddot', 'settings': '[iteration 4, time_out 10, modifiers [0.9, 5, 2], L2CacheSize 262144]', 'uuid': '2f5f9b51-acae-4830-a113-dca8c622a468'}\n",
      "{'unixtime': '1607516857.232259', 'linenumber': '262', 'loglevel': 'INFO', 'status': 'Modifier', 'anomaly_name': 'ddot', 'uuid': '2f5f9b51-acae-4830-a113-dca8c622a468'}\n",
      "{'unixtime': '1607516905.448472', 'linenumber': '262', 'loglevel': 'INFO', 'status': 'Modifier', 'anomaly_name': 'ddot', 'uuid': '2f5f9b51-acae-4830-a113-dca8c622a468'}\n",
      "{'unixtime': '1607516906.829430', 'linenumber': '229', 'loglevel': 'INFO', 'status': 'Started', 'anomaly_name': 'ddot', 'settings': '[iteration 4, time_out 10, modifiers [0.9, 5, 2], L2CacheSize 262144]', 'uuid': 'd06679cc-7d80-41d4-bb1a-d586ed297d9e'}\n",
      "{'unixtime': '1607516906.830464', 'linenumber': '262', 'loglevel': 'INFO', 'status': 'Modifier', 'anomaly_name': 'ddot', 'uuid': 'd06679cc-7d80-41d4-bb1a-d586ed297d9e'}\n",
      "{'unixtime': '1607516917.205009', 'linenumber': '262', 'loglevel': 'INFO', 'status': 'Modifier', 'anomaly_name': 'ddot', 'uuid': 'd06679cc-7d80-41d4-bb1a-d586ed297d9e'}\n",
      "{'unixtime': '1607516929.295327', 'linenumber': '262', 'loglevel': 'INFO', 'status': 'Modifier', 'anomaly_name': 'ddot', 'uuid': 'd06679cc-7d80-41d4-bb1a-d586ed297d9e'}\n",
      "{'unixtime': '1607517027.129781', 'linenumber': '229', 'loglevel': 'INFO', 'status': 'Started', 'anomaly_name': 'ddot', 'settings': '[iteration 4, time_out 10, modifiers [0.9, 5, 2], L2CacheSize 262144]', 'uuid': 'f9156418-5558-4bdc-b2f0-534aea46c994'}\n",
      "{'unixtime': '1607517027.130774', 'linenumber': '262', 'loglevel': 'INFO', 'status': 'Modifier', 'anomaly_name': 'ddot', 'uuid': 'f9156418-5558-4bdc-b2f0-534aea46c994'}\n",
      "{'unixtime': '1607517076.198520', 'linenumber': '262', 'loglevel': 'INFO', 'status': 'Modifier', 'anomaly_name': 'ddot', 'uuid': 'f9156418-5558-4bdc-b2f0-534aea46c994'}\n",
      "{'unixtime': '1607517112.423379', 'linenumber': '229', 'loglevel': 'INFO', 'status': 'Started', 'anomaly_name': 'ddot', 'settings': '[iteration 4, time_out 10, modifiers [0.9, 5, 2], L2CacheSize 262144]', 'uuid': '97721c2b-263c-4f6d-9325-496df4a4d25f'}\n",
      "{'unixtime': '1607517112.424349', 'linenumber': '262', 'loglevel': 'INFO', 'status': 'Modifier', 'anomaly_name': 'ddot', 'uuid': '97721c2b-263c-4f6d-9325-496df4a4d25f'}\n",
      "{'unixtime': '1607517125.201122', 'linenumber': '262', 'loglevel': 'INFO', 'status': 'Modifier', 'anomaly_name': 'ddot', 'uuid': '97721c2b-263c-4f6d-9325-496df4a4d25f'}\n",
      "{'unixtime': '1607517155.643450', 'linenumber': '262', 'loglevel': 'INFO', 'status': 'Modifier', 'anomaly_name': 'ddot', 'uuid': '97721c2b-263c-4f6d-9325-496df4a4d25f'}\n",
      "{'unixtime': '1607518039.570663', 'linenumber': '229', 'loglevel': 'INFO', 'status': 'Started', 'anomaly_name': 'ddot', 'settings': '[iteration 4, time_out 10, modifiers [0.9, 5, 2], L2CacheSize 262144]', 'uuid': '04418bc5-7a69-4fe8-9274-f96d9a1c8e43'}\n",
      "{'unixtime': '1607518039.571583', 'linenumber': '262', 'loglevel': 'INFO', 'status': 'Modifier', 'anomaly_name': 'ddot', 'uuid': '04418bc5-7a69-4fe8-9274-f96d9a1c8e43'}\n",
      "{'unixtime': '1607518087.827800', 'linenumber': '262', 'loglevel': 'INFO', 'status': 'Modifier', 'anomaly_name': 'ddot', 'uuid': '04418bc5-7a69-4fe8-9274-f96d9a1c8e43'}\n",
      "{'unixtime': '1607518126.650149', 'linenumber': '262', 'loglevel': 'INFO', 'status': 'Modifier', 'anomaly_name': 'ddot', 'uuid': '04418bc5-7a69-4fe8-9274-f96d9a1c8e43'}\n",
      "{'unixtime': '1607518347.907776', 'linenumber': '229', 'loglevel': 'INFO', 'status': 'Started', 'anomaly_name': 'ddot', 'settings': '[iteration 4, time_out 10, modifiers [0.9, 5, 2], L2CacheSize 262144]', 'uuid': '405ac3f8-5d6e-482d-87eb-d89a3b6a042c'}\n",
      "{'unixtime': '1607518347.908667', 'linenumber': '262', 'loglevel': 'INFO', 'status': 'Modifier', 'anomaly_name': 'ddot', 'uuid': '405ac3f8-5d6e-482d-87eb-d89a3b6a042c'}\n",
      "{'unixtime': '1607518358.244267', 'linenumber': '262', 'loglevel': 'INFO', 'status': 'Modifier', 'anomaly_name': 'ddot', 'uuid': '405ac3f8-5d6e-482d-87eb-d89a3b6a042c'}\n",
      "{'unixtime': '1607518370.321557', 'linenumber': '262', 'loglevel': 'INFO', 'status': 'Modifier', 'anomaly_name': 'ddot', 'uuid': '405ac3f8-5d6e-482d-87eb-d89a3b6a042c'}\n",
      "{'unixtime': '1607518381.917511', 'linenumber': '268', 'loglevel': 'INFO', 'status': 'Finished', 'anomaly_name': 'ddot', 'settings': '[iteration 4, time_out 10, modifiers [0.9, 5, 2], L2CacheSize 262144]', 'uuid': '405ac3f8-5d6e-482d-87eb-d89a3b6a042c'}\n",
      "{'unixtime': '1607516537.258788', 'linenumber': '147', 'loglevel': 'INFO', 'status': 'Started', 'anomaly_name': 'Memeaterv2', 'settings': '[unit gb, multiplier 1, iteration 2, time_out 60]', 'uuid': '4aae0914-3a4b-42f3-9f51-002aaee1e0e4'}\n",
      "{'unixtime': '1607516658.724744', 'linenumber': '154', 'loglevel': 'INFO', 'status': 'Finised', 'anomaly_name': 'Memeaterv2', 'settings': '[unit gb, multiplier 1, iteration 2, time_out 60]', 'uuid': '4aae0914-3a4b-42f3-9f51-002aaee1e0e4'}\n",
      "{'unixtime': '1607517176.091897', 'linenumber': '147', 'loglevel': 'INFO', 'status': 'Started', 'anomaly_name': 'Memeaterv2', 'settings': '[unit gb, multiplier 1, iteration 2, time_out 60]', 'uuid': 'd21714af-5a8b-4194-a042-a4f0affbe346'}\n",
      "{'unixtime': '1607517297.697695', 'linenumber': '154', 'loglevel': 'INFO', 'status': 'Finised', 'anomaly_name': 'Memeaterv2', 'settings': '[unit gb, multiplier 1, iteration 2, time_out 60]', 'uuid': 'd21714af-5a8b-4194-a042-a4f0affbe346'}\n",
      "{'unixtime': '1607517318.197766', 'linenumber': '147', 'loglevel': 'INFO', 'status': 'Started', 'anomaly_name': 'Memeaterv2', 'settings': '[unit gb, multiplier 1, iteration 2, time_out 60]', 'uuid': '18a8b08b-1171-41e9-a51f-d3ac78b5470e'}\n",
      "{'unixtime': '1607517439.723294', 'linenumber': '154', 'loglevel': 'INFO', 'status': 'Finised', 'anomaly_name': 'Memeaterv2', 'settings': '[unit gb, multiplier 1, iteration 2, time_out 60]', 'uuid': '18a8b08b-1171-41e9-a51f-d3ac78b5470e'}\n",
      "{'unixtime': '1607518556.764668', 'linenumber': '147', 'loglevel': 'INFO', 'status': 'Started', 'anomaly_name': 'Memeaterv2', 'settings': '[unit gb, multiplier 1, iteration 2, time_out 60]', 'uuid': '99561601-80fb-459a-af06-8cf590637ad3'}\n",
      "{'unixtime': '1607518678.311321', 'linenumber': '154', 'loglevel': 'INFO', 'status': 'Finised', 'anomaly_name': 'Memeaterv2', 'settings': '[unit gb, multiplier 1, iteration 2, time_out 60]', 'uuid': '99561601-80fb-459a-af06-8cf590637ad3'}\n",
      "{'unixtime': '1607518708.823552', 'linenumber': '147', 'loglevel': 'INFO', 'status': 'Started', 'anomaly_name': 'Memeaterv2', 'settings': '[unit gb, multiplier 1, iteration 2, time_out 60]', 'uuid': '98c3452c-788a-4a02-a022-d6dfe4fff57b'}\n",
      "{'unixtime': '1607518830.334194', 'linenumber': '154', 'loglevel': 'INFO', 'status': 'Finised', 'anomaly_name': 'Memeaterv2', 'settings': '[unit gb, multiplier 1, iteration 2, time_out 60]', 'uuid': '98c3452c-788a-4a02-a022-d6dfe4fff57b'}\n",
      "{'unixtime': '1607518951.348237', 'linenumber': '147', 'loglevel': 'INFO', 'status': 'Started', 'anomaly_name': 'Memeaterv2', 'settings': '[unit gb, multiplier 1, iteration 2, time_out 60]', 'uuid': 'efec28bb-f17f-43a7-8ef6-6b6f0da96ca2'}\n",
      "{'unixtime': '1607519072.883030', 'linenumber': '154', 'loglevel': 'INFO', 'status': 'Finised', 'anomaly_name': 'Memeaterv2', 'settings': '[unit gb, multiplier 1, iteration 2, time_out 60]', 'uuid': 'efec28bb-f17f-43a7-8ef6-6b6f0da96ca2'}\n",
      "{'unixtime': '1607519299.476230', 'linenumber': '147', 'loglevel': 'INFO', 'status': 'Started', 'anomaly_name': 'Memeaterv2', 'settings': '[unit gb, multiplier 1, iteration 2, time_out 60]', 'uuid': '9cb1c932-7789-4a57-8080-1eaa92183602'}\n",
      "{'unixtime': '1607519421.077259', 'linenumber': '154', 'loglevel': 'INFO', 'status': 'Finised', 'anomaly_name': 'Memeaterv2', 'settings': '[unit gb, multiplier 1, iteration 2, time_out 60]', 'uuid': '9cb1c932-7789-4a57-8080-1eaa92183602'}\n",
      "{'unixtime': '1607519451.652183', 'linenumber': '147', 'loglevel': 'INFO', 'status': 'Started', 'anomaly_name': 'Memeaterv2', 'settings': '[unit gb, multiplier 1, iteration 2, time_out 60]', 'uuid': '474d24d6-1b12-45b8-8b98-64d5f2935113'}\n",
      "{'unixtime': '1607519573.228666', 'linenumber': '154', 'loglevel': 'INFO', 'status': 'Finised', 'anomaly_name': 'Memeaterv2', 'settings': '[unit gb, multiplier 1, iteration 2, time_out 60]', 'uuid': '474d24d6-1b12-45b8-8b98-64d5f2935113'}\n",
      "{'unixtime': '1607519603.709034', 'linenumber': '147', 'loglevel': 'INFO', 'status': 'Started', 'anomaly_name': 'Memeaterv2', 'settings': '[unit gb, multiplier 1, iteration 2, time_out 60]', 'uuid': 'ad6ea9e1-5a8c-41fb-b07f-e2171a76c25b'}\n",
      "{'unixtime': '1607519725.291023', 'linenumber': '154', 'loglevel': 'INFO', 'status': 'Finised', 'anomaly_name': 'Memeaterv2', 'settings': '[unit gb, multiplier 1, iteration 2, time_out 60]', 'uuid': 'ad6ea9e1-5a8c-41fb-b07f-e2171a76c25b'}\n",
      "{'unixtime': '1607519755.848132', 'linenumber': '147', 'loglevel': 'INFO', 'status': 'Started', 'anomaly_name': 'Memeaterv2', 'settings': '[unit gb, multiplier 1, iteration 2, time_out 60]', 'uuid': '15369a8d-b0dd-46a7-af32-6d992f166112'}\n",
      "{'unixtime': '1607519877.375336', 'linenumber': '154', 'loglevel': 'INFO', 'status': 'Finised', 'anomaly_name': 'Memeaterv2', 'settings': '[unit gb, multiplier 1, iteration 2, time_out 60]', 'uuid': '15369a8d-b0dd-46a7-af32-6d992f166112'}\n",
      "{'unixtime': '1607520179.385582', 'linenumber': '147', 'loglevel': 'INFO', 'status': 'Started', 'anomaly_name': 'Memeaterv2', 'settings': '[unit gb, multiplier 1, iteration 2, time_out 60]', 'uuid': '3185e82b-4a6d-474d-8143-b3c3352cce8b'}\n",
      "{'unixtime': '1607520300.919862', 'linenumber': '154', 'loglevel': 'INFO', 'status': 'Finised', 'anomaly_name': 'Memeaterv2', 'settings': '[unit gb, multiplier 1, iteration 2, time_out 60]', 'uuid': '3185e82b-4a6d-474d-8143-b3c3352cce8b'}\n",
      "{'unixtime': '1607520331.453248', 'linenumber': '147', 'loglevel': 'INFO', 'status': 'Started', 'anomaly_name': 'Memeaterv2', 'settings': '[unit gb, multiplier 1, iteration 2, time_out 60]', 'uuid': 'b010072c-5a17-47e0-957a-8fde869357fe'}\n",
      "{'unixtime': '1607520452.975849', 'linenumber': '154', 'loglevel': 'INFO', 'status': 'Finised', 'anomaly_name': 'Memeaterv2', 'settings': '[unit gb, multiplier 1, iteration 2, time_out 60]', 'uuid': 'b010072c-5a17-47e0-957a-8fde869357fe'}\n"
     ]
    }
   ],
   "source": [
    "# Log files\n",
    "copy_logs = os.path.join(anomaly_logs_dir, 'copy-out.log')\n",
    "cpu_logs = os.path.join(anomaly_logs_dir, 'cpu_overload-out.log')\n",
    "ddot_logs = os.path.join(anomaly_logs_dir, 'ddot-out.log')\n",
    "mem_logs = os.path.join(anomaly_logs_dir, 'mem_eater-out.log')\n",
    "dummy_logs = os.path.join(anomaly_logs_dir, 'mem_eater-out.log')\n",
    "\n",
    "# Parsed logs\n",
    "copy_list = parse_logs(copy_logs,type='copy')\n",
    "cpu_list = parse_logs(cpu_logs,type='cpu')\n",
    "mem_list = parse_logs(mem_logs)\n",
    "ddot_list = parse_logs(ddot_logs)\n",
    "dummy_list  = parse_logs(dummy_logs)\n",
    "\n",
    "# lines = file1.readlines()\n",
    "# for line in lines:\n",
    "#     print(line.strip())"
   ],
   "metadata": {
    "collapsed": false,
    "pycharm": {
     "name": "#%%\n"
    }
   }
  },
  {
   "cell_type": "code",
   "execution_count": 5,
   "outputs": [],
   "source": [
    "def preflight_labels(parsed_list):\n",
    "    anomalies = {}\n",
    "    for e in parsed_list:\n",
    "        if e is None:\n",
    "            pass\n",
    "        else:\n",
    "            # print(e)\n",
    "            # print(e['uuid'])\n",
    "            if e['uuid'] in anomalies.keys():\n",
    "                pass\n",
    "            else:\n",
    "                anomalies[e['uuid']] = {}\n",
    "            if e['status'] == 'Started':\n",
    "                anomalies[e['uuid']]['start'] = e['unixtime']\n",
    "            elif e['status'] == 'Finished':\n",
    "                anomalies[e['uuid']]['stop'] = e['unixtime']\n",
    "            elif e['status'] == 'Finised': # todo fix typo for memoryv2\n",
    "                anomalies[e['uuid']]['stop'] = e['unixtime']\n",
    "            elif e['status'] == 'Modifier' :\n",
    "                if 'modifiers' in anomalies[e['uuid']].keys():\n",
    "                    pass\n",
    "                else:\n",
    "                    anomalies[e['uuid']]['modifiers'] = []\n",
    "                anomalies[e['uuid']]['modifiers'].append(e['unixtime'])\n",
    "    # print(anomalies)\n",
    "    return anomalies\n",
    "\n",
    "\n",
    "pre_cpu = preflight_labels(cpu_list)\n",
    "pre_mem = preflight_labels(mem_list)\n",
    "pre_copy =preflight_labels(copy_list)\n",
    "pre_dummy = preflight_labels(dummy_list)\n",
    "pre_dummy = preflight_labels(ddot_list)"
   ],
   "metadata": {
    "collapsed": false,
    "pycharm": {
     "name": "#%%\n"
    }
   }
  },
  {
   "cell_type": "code",
   "execution_count": 15,
   "outputs": [
    {
     "name": "stdout",
     "output_type": "stream",
     "text": [
      "<class 'dict'>\n"
     ]
    }
   ],
   "source": [
    "print(type(pre_mem))\n"
   ],
   "metadata": {
    "collapsed": false,
    "pycharm": {
     "name": "#%%\n"
    }
   }
  },
  {
   "cell_type": "code",
   "execution_count": 9,
   "outputs": [
    {
     "name": "stdout",
     "output_type": "stream",
     "text": [
      "{'db3e3197-f547-4781-9829-185157e5636a': {'start': '1607517460.242392', 'stop': '1607517520.362323'}, '9aefe458-0d60-4bf0-afc4-e4730fcffa3e': {'start': '1607517877.308268', 'stop': '1607517937.422405'}, '5d51250f-0b16-4512-911d-3cfc54b75719': {'start': '1607517957.846296', 'stop': '1607518017.954151'}, '990c90a3-0308-4a28-94f4-7379b07fa580': {'start': '1607518466.229090', 'stop': '1607518526.339345'}, '0e5b7ec0-04da-4c24-be92-0c00f996055d': {'start': '1607518860.838976', 'stop': '1607518920.954849'}, '7082b00f-80da-45c5-8971-b23d01b19df4': {'start': '1607519907.887355', 'stop': '1607519967.994844'}, '01995677-468c-407e-8229-bfd4699c1a8a': {'start': '1607520483.497519', 'stop': '1607520543.618617'}, 'd959eb7f-dd71-4703-86b0-e6a289c6df61': {'start': '1607520770.335384', 'stop': '1607520830.470035'}}\n",
      "0\n"
     ]
    }
   ],
   "source": [
    "# Add labels to data\n",
    "def label(df, pre, label='target'):\n",
    "    print(pre)\n",
    "    # for k,v in pre.items():\n",
    "    #     df['target'] = df['time'].apply(lambda x: label if (float(v['start']) <= x <= float(v['stop'])) else 0)\n",
    "    #     df.loc[((df['time'] >= float(v['start']) | (df['Value_2'] <= float(v['stop'])), 'High_Value_Ind'] = 'Y'\n",
    "    df[label] = 0\n",
    "    labels = []\n",
    "    for k,v in pre.items():\n",
    "        for k2, v2 in df.iterrows():\n",
    "            if (v2['time'] >= float(v['start']) and v2['time'] <= float(v['start'])):\n",
    "                labels.append(\"ok\")\n",
    "        # df.loc[df['time'] >= v['start'].astype(np.float), 'target'] = label\n",
    "        # df.loc[df['time'] <= v['stop'].astype(np.float), 'target'] = label\n",
    "    print(len(labels))\n",
    "    return df\n",
    "df_labeled = label(df_anomaly, pre_cpu, 'cpu')"
   ],
   "metadata": {
    "collapsed": false,
    "pycharm": {
     "name": "#%%\n"
    }
   }
  },
  {
   "cell_type": "code",
   "execution_count": 12,
   "outputs": [
    {
     "data": {
      "text/plain": "node_context_switches_total_10.211.55.101:9100    4800\nnode_cpu_seconds_total_10.211.55.101:9100         2968\nnode_entropy_available_bits_10.211.55.101:9100    1170\nnode_filefd_allocated_10.211.55.101:9100             5\nnode_filesystem_avail_bytes_10.211.55.101:9100     497\n                                                  ... \nnode_vmstat_pgmajfault_10.211.55.101:9100          280\nnode_vmstat_pgpgin_10.211.55.101:9100              282\nnode_vmstat_pgpgout_10.211.55.101:9100             857\ntime                                              4792\ntarget                                               1\nLength: 63, dtype: int64"
     },
     "execution_count": 12,
     "metadata": {},
     "output_type": "execute_result"
    }
   ],
   "source": [
    "df_labeled['target']\n",
    "df_labeled.apply(lambda x: x.nunique())\n",
    "# print('done')\n"
   ],
   "metadata": {
    "collapsed": false,
    "pycharm": {
     "name": "#%%\n"
    }
   }
  },
  {
   "cell_type": "code",
   "execution_count": null,
   "outputs": [],
   "source": [],
   "metadata": {
    "collapsed": false,
    "pycharm": {
     "name": "#%%\n"
    }
   }
  }
 ],
 "metadata": {
  "kernelspec": {
   "display_name": "Python 3",
   "language": "python",
   "name": "python3"
  },
  "language_info": {
   "codemirror_mode": {
    "name": "ipython",
    "version": 2
   },
   "file_extension": ".py",
   "mimetype": "text/x-python",
   "name": "python",
   "nbconvert_exporter": "python",
   "pygments_lexer": "ipython2",
   "version": "2.7.6"
  }
 },
 "nbformat": 4,
 "nbformat_minor": 0
}