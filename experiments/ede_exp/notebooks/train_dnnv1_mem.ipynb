{
 "cells": [
  {
   "cell_type": "code",
   "execution_count": 1,
   "metadata": {
    "collapsed": true
   },
   "outputs": [
    {
     "name": "stderr",
     "output_type": "stream",
     "text": [
      "/home/gabriel/anaconda3/envs/pyaspide/lib/python3.6/site-packages/sklearn/externals/joblib/__init__.py:15: FutureWarning: sklearn.externals.joblib is deprecated in 0.21 and will be removed in 0.23. Please import this functionality directly from joblib, which can be installed with: pip install joblib. If this warning is raised when loading pickled models, you may need to re-serialize those models with scikit-learn 0.21+.\n",
      "  warnings.warn(msg, category=FutureWarning)\n"
     ]
    }
   ],
   "source": [
    "import numpy as np\n",
    "import pandas as pd\n",
    "from sklearn.model_selection import train_test_split, StratifiedKFold, KFold, StratifiedShuffleSplit\n",
    "from sklearn.preprocessing import StandardScaler\n",
    "from sklearn.metrics import precision_score, recall_score, jaccard_score, roc_auc_score, accuracy_score, classification_report, balanced_accuracy_score\n",
    "from sklearn.metrics import confusion_matrix\n",
    "# from sklearn.externals import joblib\n",
    "import joblib\n",
    "import os\n",
    "import matplotlib.pyplot as plt\n",
    "import seaborn as sns\n",
    "%matplotlib inline\n",
    "\n",
    "\n",
    "path_parent = os.path.dirname(os.getcwd())\n",
    "data_dir = os.path.join(path_parent,'data')\n",
    "model_dir = os.path.join(path_parent,'models')\n",
    "processed_dir = os.path.join(data_dir,'processed')\n",
    "# df_anomaly = pd.read_csv(os.path.join(processed_dir,\"anomaly_anotated.csv\"))\n",
    "df_audsome = pd.read_csv(os.path.join(processed_dir,\"anomaly_anotated_audsome.csv\"))"
   ]
  },
  {
   "cell_type": "code",
   "execution_count": 2,
   "outputs": [
    {
     "name": "stdout",
     "output_type": "stream",
     "text": [
      "Dataset chosen ...\n",
      "Remove unwanted columns ...\n",
      "Shape before drop: (3900, 67)\n",
      "Shape after drop: (3900, 63)\n"
     ]
    }
   ],
   "source": [
    "print(\"Dataset chosen ...\")\n",
    "data = df_audsome\n",
    "drop_col = ['t1','t2','t3','t4']\n",
    "print(\"Remove unwanted columns ...\")\n",
    "print(\"Shape before drop: {}\".format(data.shape))\n",
    "data.drop(drop_col, axis=1, inplace=True)\n",
    "print(\"Shape after drop: {}\".format(data.shape))"
   ],
   "metadata": {
    "collapsed": false,
    "pycharm": {
     "name": "#%%\n"
    }
   }
  },
  {
   "cell_type": "code",
   "execution_count": 3,
   "outputs": [
    {
     "name": "stdout",
     "output_type": "stream",
     "text": [
      "Removed Dummy class\n",
      "['0' 'mem']\n"
     ]
    }
   ],
   "source": [
    "# Nice print\n",
    "nice_y = data['target']\n",
    "\n",
    "# Uncomment for removing dummy\n",
    "print(\"Removed Dummy class\")\n",
    "data.loc[data.target == \"dummy\", 'target'] = \"0\"\n",
    "# Uncomment for removing cpu\n",
    "data.loc[data.target == \"cpu\", 'target'] = \"0\"\n",
    "# Uncomment for removing copy\n",
    "data.loc[data.target == \"copy\", 'target'] = \"0\"\n",
    "\n",
    "# Print new unique columns\n",
    "print(data['target'].unique())\n",
    "\n",
    "#Creating the dependent variable class\n",
    "factor = pd.factorize(data['target'])\n",
    "data.target = factor[0]\n",
    "definitions = factor[1]\n",
    "# print(data.target.head())\n",
    "# print(definitions)"
   ],
   "metadata": {
    "collapsed": false,
    "pycharm": {
     "name": "#%%\n"
    }
   }
  },
  {
   "cell_type": "code",
   "execution_count": 4,
   "outputs": [
    {
     "name": "stdout",
     "output_type": "stream",
     "text": [
      "Ploting class distribution ..\n"
     ]
    },
    {
     "data": {
      "text/plain": "<matplotlib.axes._subplots.AxesSubplot at 0x7f5b24ace780>"
     },
     "execution_count": 4,
     "metadata": {},
     "output_type": "execute_result"
    },
    {
     "data": {
      "text/plain": "<Figure size 432x288 with 1 Axes>",
      "image/png": "[encoded data removed]"
     },
     "metadata": {
      "needs_background": "light"
     },
     "output_type": "display_data"
    }
   ],
   "source": [
    "# Plot class distribution\n",
    "print(\"Ploting class distribution ..\")\n",
    "sns.countplot(nice_y)"
   ],
   "metadata": {
    "collapsed": false,
    "pycharm": {
     "name": "#%%\n"
    }
   }
  },
  {
   "cell_type": "code",
   "execution_count": 5,
   "outputs": [
    {
     "name": "stdout",
     "output_type": "stream",
     "text": [
      "Splitting dataset into training and ground truth ...\n"
     ]
    }
   ],
   "source": [
    "print(\"Splitting dataset into training and ground truth ...\")\n",
    "X = data.drop(['target', 'time'], axis=1)\n",
    "y = data['target']"
   ],
   "metadata": {
    "collapsed": false,
    "pycharm": {
     "name": "#%%\n"
    }
   }
  },
  {
   "cell_type": "code",
   "execution_count": 6,
   "outputs": [],
   "source": [
    "scaler = StandardScaler()"
   ],
   "metadata": {
    "collapsed": false,
    "pycharm": {
     "name": "#%%\n"
    }
   }
  },
  {
   "cell_type": "code",
   "execution_count": 7,
   "outputs": [],
   "source": [
    "import tensorflow as tf\n",
    "from tensorflow.keras.wrappers.scikit_learn import KerasClassifier\n",
    "from tensorflow.keras.callbacks import EarlyStopping, ReduceLROnPlateau\n",
    "from tensorflow.keras.models import Sequential\n",
    "from tensorflow.keras.layers import Dense, Conv1D, Dropout, LSTM, SimpleRNN\n",
    "from tensorflow.keras.optimizers import Adam, Adagrad, SGD\n",
    "from tensorflow.keras.utils import plot_model\n",
    "\n",
    "# paramgrid = {\n",
    "#     \"optimizer\": [\"adam\", \"adagrad\", \"sgd\"],\n",
    "#     \"learning_r\": [0.01, 0.0001 , 0.003, 0.001],\n",
    "#     \"patience\" : [4],\n",
    "#     \"batch_size\": [32, 64, 128, 256],\n",
    "#     \"epochs\": [300],\n",
    "#     \"kernel_init\": ['he_uniform', 'he_normal'],\n",
    "#     \"layer_1\": [0, 50, 100],\n",
    "#     \"layer_2\": [0,  50, 100],\n",
    "#     \"layer_3\": [0,  50, 100],\n",
    "#     \"layer_0\": [0, 200, 100, 50],\n",
    "#     \"drop\": [0, 0.1, 0.2, 0.3, 0.4],\n",
    "#     \"loss\": [\"categorical_crossentropy\"],\n",
    "#     \"activation_1\": ['relu', 'elu', 'selu'],\n",
    "#     \"out_activation\":[\"sigmoid\"]\n",
    "# }\n",
    "\n",
    "# Extracted params\n",
    "batch_size = 256\n",
    "epochs = 1000\n",
    "\n",
    "# Reverse one hot encoding\n",
    "def reverse_oh(y_oh):\n",
    "    decode = []\n",
    "    for r in y_oh:\n",
    "        # print(r)\n",
    "        result = np.where(r == 1.)[0]\n",
    "        # print(result)\n",
    "        #check if network asigned more than one or non labels\n",
    "        if len(result) > 1 or len(result) == 0:\n",
    "            if len(result) > 1:\n",
    "                result = np.array([result[0]])  # select first class\n",
    "            elif len(result) == 0:\n",
    "                result = np.array([0])\n",
    "\n",
    "        decode.append(result[0])\n",
    "    return decode\n",
    "\n",
    "# {\"optimizer\": \"sgd\",\n",
    "#  \"learning_r\": 0.001,\n",
    "#  \"patience\": 3,\n",
    "#  \"batch_size\": 128,\n",
    "#  \"epochs\": 200,\n",
    "#  \"kernel_init\": \"he_normal\",\n",
    "#  \"layer_1\": 50,\n",
    "#  \"layer_2\": 50,\n",
    "#  \"layer_3\": 0,\n",
    "#  \"layer_0\": 50,\n",
    "#  \"drop\": 0,\n",
    "#  \"loss\": \"categorical_crossentropy\",\n",
    "#  \"activation_1\": \"relu\",\n",
    "#  \"out_activation\": \"sigmoid\"}\n",
    "#\n",
    "#\n",
    "# {\"optimizer\": \"sgd\",\n",
    "#  \"learning_r\": 0.01,\n",
    "#  \"patience\": 4,\n",
    "#  \"batch_size\": 32,\n",
    "#  \"epochs\": 300,\n",
    "#  \"kernel_init\": \"he_normal\",\n",
    "#  \"layer_1\": 0,\n",
    "#  \"layer_2\": 50,\n",
    "#  \"layer_3\": 100,\n",
    "#  \"layer_0\": 50,\n",
    "#  \"drop\": 0.3,\n",
    "#  \"loss\": \"categorical_crossentropy\",\n",
    "#  \"activation_1\": \"elu\",\n",
    "#  \"out_activation\": \"sigmoid\"}\n",
    "\n",
    "def dnn_aspide(optimizer='adam', #adam, adagrad, sgd\n",
    "               learning_r = 0.01,\n",
    "              kernel_init='he_normal',\n",
    "              layer_1 = 0,\n",
    "              layer_2 = 50,\n",
    "              layer_3 = 100,\n",
    "              layer_0 = 50,\n",
    "              drop = 0.3,\n",
    "              loss='binary_crossentropy',\n",
    "              activation_1 = 'relu', # elu, selu\n",
    "              out_activation='sigmoid'):\n",
    "    y_oh = pd.get_dummies(y, prefix='target')\n",
    "    # print(np.asarray(X).shape[1], len(y_oh.nunique()))\n",
    "    n_inputs, n_outputs = X.shape[1], len(y_oh.nunique())\n",
    "    model = Sequential()\n",
    "    # model.add(Conv1D(filters=32, kernel_size=2,activation=activation_1, input_shape=n_inputs, kernel_initializer=kernel_init))\n",
    "    model.add(Dense(layer_0, input_dim=n_inputs, kernel_initializer=kernel_init, activation=activation_1))\n",
    "    if drop:\n",
    "        model.add(Dropout(drop))\n",
    "    if layer_1:\n",
    "        model.add(Dense(layer_1, input_dim=n_inputs, kernel_initializer=kernel_init, activation=activation_1))\n",
    "        if drop:\n",
    "            model.add(Dropout(drop))\n",
    "    if layer_2:\n",
    "        model.add(Dense(layer_2, input_dim=n_inputs, kernel_initializer=kernel_init, activation=activation_1))\n",
    "        if drop:\n",
    "            model.add(Dropout(drop))\n",
    "    if layer_3:\n",
    "        model.add(Dense(layer_2, input_dim=n_inputs, kernel_initializer=kernel_init, activation=activation_1))\n",
    "        if drop:\n",
    "            model.add(Dropout(drop))\n",
    "    model.add(Dense(n_outputs, activation=out_activation))\n",
    "    if optimizer == 'adam':\n",
    "        opt = Adam(learning_rate=learning_r)\n",
    "    if optimizer == 'adagrad':\n",
    "        opt = Adagrad(learning_rate=learning_r)\n",
    "    if optimizer == 'sgd':\n",
    "        opt = SGD(learning_rate=learning_r)\n",
    "    else:\n",
    "        opt = Adam(learning_rate=0.01)\n",
    "    model.compile(optimizer = opt, loss=loss, metrics=['accuracy', 'categorical_crossentropy', 'binary_crossentropy'])\n",
    "    # history = model.fit(np.asarray(X), np.asarray(y_oh),\n",
    "    #           batch_size=batch_size,\n",
    "    #           epochs=epochs,\n",
    "    #           callbacks = [early_stopping, reduce_lr],\n",
    "    #           verbose=1) #verbose set to 1 will show the training process\n",
    "    # df_history = pd.DataFrame(h.history)\n",
    "    # df_history\n",
    "    return model\n",
    "\n",
    "# model = dnn_aspide()\n",
    "# model = KerasClassifier(build_fn=dnn_aspide, verbose=0)\n"
   ],
   "metadata": {
    "collapsed": false,
    "pycharm": {
     "name": "#%%\n"
    }
   }
  },
  {
   "cell_type": "code",
   "execution_count": 8,
   "outputs": [
    {
     "name": "stdout",
     "output_type": "stream",
     "text": [
      "====================================================================================================\n",
      "Starting fold 1\n",
      "Scaling data ....\n",
      "Start training ....\n",
      "Train on 2925 samples, validate on 975 samples\n",
      "Epoch 1/1000\n",
      "2925/2925 [==============================] - 2s 587us/sample - loss: 0.3350 - accuracy: 0.8444 - categorical_crossentropy: 0.3176 - binary_crossentropy: 0.3350 - val_loss: 0.0870 - val_accuracy: 0.9882 - val_categorical_crossentropy: 0.0844 - val_binary_crossentropy: 0.0870\b\b\b\b\b\b\b\b\b\b\b\b\b\b\b\b\b\b\b\b\b\b\b\b\b\b\b\b\b\b\n",
      "Epoch 2/1000\n",
      "2925/2925 [==============================] - 0s 27us/sample - loss: 0.0794 - accuracy: 0.9752 - categorical_crossentropy: 0.0793 - binary_crossentropy: 0.0794 - val_loss: 0.0531 - val_accuracy: 0.9918 - val_categorical_crossentropy: 0.0520 - val_binary_crossentropy: 0.0531\b\b\b\b\b\b\b\b\b\b\b\b\b\b\b\b\b\b\b\b\b\b\b\b\b\b\b\b\b\n",
      "Epoch 3/1000\n",
      "2925/2925 [==============================] - 0s 25us/sample - loss: 0.0549 - accuracy: 0.9867 - categorical_crossentropy: 0.0537 - binary_crossentropy: 0.0549 - val_loss: 0.0455 - val_accuracy: 0.9928 - val_categorical_crossentropy: 0.0453 - val_binary_crossentropy: 0.0455\b\b\b\b\b\b\b\b\b\b\b\b\b\b\b\b\b\b\b\b\b\b\b\b\b\b\b\b\b\n",
      "Epoch 4/1000\n",
      "2925/2925 [==============================] - 0s 24us/sample - loss: 0.0532 - accuracy: 0.9887 - categorical_crossentropy: 0.0522 - binary_crossentropy: 0.0532 - val_loss: 0.0379 - val_accuracy: 0.9928 - val_categorical_crossentropy: 0.0385 - val_binary_crossentropy: 0.0379\b\b\b\b\b\b\b\b\b\b\b\b\b\b\b\b\b\b\b\b\b\b\b\b\b\b\b\b\b\n",
      "Epoch 5/1000\n",
      "2925/2925 [==============================] - 0s 25us/sample - loss: 0.0419 - accuracy: 0.9915 - categorical_crossentropy: 0.0415 - binary_crossentropy: 0.0419 - val_loss: 0.0334 - val_accuracy: 0.9928 - val_categorical_crossentropy: 0.0341 - val_binary_crossentropy: 0.0334\b\b\b\b\b\b\b\b\b\b\b\b\b\b\b\b\b\b\b\b\b\b\b\b\b\b\b\b\b\n",
      "Epoch 6/1000\n",
      "2925/2925 [==============================] - 0s 24us/sample - loss: 0.0404 - accuracy: 0.9918 - categorical_crossentropy: 0.0406 - binary_crossentropy: 0.0404 - val_loss: 0.0314 - val_accuracy: 0.9944 - val_categorical_crossentropy: 0.0321 - val_binary_crossentropy: 0.0314\b\b\b\b\b\b\b\b\b\b\b\b\b\b\b\b\b\b\b\b\b\b\b\b\b\b\b\b\b\n",
      "Epoch 7/1000\n",
      "2925/2925 [==============================] - 0s 24us/sample - loss: 0.0243 - accuracy: 0.9956 - categorical_crossentropy: 0.0237 - binary_crossentropy: 0.0243 - val_loss: 0.0211 - val_accuracy: 0.9944 - val_categorical_crossentropy: 0.0216 - val_binary_crossentropy: 0.0211\b\b\b\b\b\b\b\b\b\b\b\b\b\b\b\b\b\b\b\b\b\b\b\b\b\b\b\b\b\n",
      "Epoch 8/1000\n",
      "2925/2925 [==============================] - 0s 25us/sample - loss: 0.0246 - accuracy: 0.9947 - categorical_crossentropy: 0.0256 - binary_crossentropy: 0.0246 - val_loss: 0.0222 - val_accuracy: 0.9949 - val_categorical_crossentropy: 0.0226 - val_binary_crossentropy: 0.0222\b\b\b\b\b\b\b\b\b\b\b\b\b\b\b\b\b\b\b\b\b\b\b\b\b\b\b\b\b\n",
      "Epoch 9/1000\n",
      "2925/2925 [==============================] - 0s 25us/sample - loss: 0.0291 - accuracy: 0.9954 - categorical_crossentropy: 0.0266 - binary_crossentropy: 0.0291 - val_loss: 0.0136 - val_accuracy: 0.9979 - val_categorical_crossentropy: 0.0141 - val_binary_crossentropy: 0.0136\b\b\b\b\b\b\b\b\b\b\b\b\b\b\b\b\b\b\b\b\b\b\b\b\b\b\b\b\b\n",
      "Epoch 10/1000\n",
      "2925/2925 [==============================] - 0s 25us/sample - loss: 0.0204 - accuracy: 0.9969 - categorical_crossentropy: 0.0201 - binary_crossentropy: 0.0204 - val_loss: 0.0139 - val_accuracy: 0.9949 - val_categorical_crossentropy: 0.0140 - val_binary_crossentropy: 0.0139\b\b\b\b\b\b\b\b\b\b\b\b\b\b\b\b\b\b\b\b\b\b\b\b\b\b\b\b\b\n",
      "Epoch 11/1000\n",
      "2925/2925 [==============================] - 0s 26us/sample - loss: 0.0238 - accuracy: 0.9944 - categorical_crossentropy: 0.0240 - binary_crossentropy: 0.0238 - val_loss: 0.0182 - val_accuracy: 0.9959 - val_categorical_crossentropy: 0.0185 - val_binary_crossentropy: 0.0182\b\b\b\b\b\b\b\b\b\b\b\b\b\b\b\b\b\b\b\b\b\b\b\b\b\b\b\b\b\n",
      "Epoch 12/1000\n",
      "2925/2925 [==============================] - 0s 25us/sample - loss: 0.0151 - accuracy: 0.9947 - categorical_crossentropy: 0.0155 - binary_crossentropy: 0.0151 - val_loss: 0.0078 - val_accuracy: 0.9990 - val_categorical_crossentropy: 0.0081 - val_binary_crossentropy: 0.0078\b\b\b\b\b\b\b\b\b\b\b\b\b\b\b\b\b\b\b\b\b\b\b\b\b\b\b\b\b\n",
      "Epoch 13/1000\n",
      "2925/2925 [==============================] - 0s 25us/sample - loss: 0.0135 - accuracy: 0.9973 - categorical_crossentropy: 0.0137 - binary_crossentropy: 0.0135 - val_loss: 0.0109 - val_accuracy: 0.9979 - val_categorical_crossentropy: 0.0109 - val_binary_crossentropy: 0.0109\b\b\b\b\b\b\b\b\b\b\b\b\b\b\b\b\b\b\b\b\b\b\b\b\b\b\b\b\b\n",
      "Epoch 14/1000\n",
      "2925/2925 [==============================] - 0s 24us/sample - loss: 0.0202 - accuracy: 0.9938 - categorical_crossentropy: 0.0206 - binary_crossentropy: 0.0202 - val_loss: 0.0090 - val_accuracy: 0.9990 - val_categorical_crossentropy: 0.0090 - val_binary_crossentropy: 0.0090\b\b\b\b\b\b\b\b\b\b\b\b\b\b\b\b\b\b\b\b\b\b\b\b\b\b\b\b\b\n",
      "Epoch 15/1000\n",
      "2925/2925 [==============================] - 0s 25us/sample - loss: 0.0153 - accuracy: 0.9952 - categorical_crossentropy: 0.0154 - binary_crossentropy: 0.0153 - val_loss: 0.0092 - val_accuracy: 0.9979 - val_categorical_crossentropy: 0.0091 - val_binary_crossentropy: 0.0092\b\b\b\b\b\b\b\b\b\b\b\b\b\b\b\b\b\b\b\b\b\b\b\b\b\b\b\b\b\n",
      "Epoch 16/1000\n",
      "2925/2925 [==============================] - 0s 25us/sample - loss: 0.0179 - accuracy: 0.9974 - categorical_crossentropy: 0.0165 - binary_crossentropy: 0.0179 - val_loss: 0.0106 - val_accuracy: 0.9990 - val_categorical_crossentropy: 0.0107 - val_binary_crossentropy: 0.0106\b\b\b\b\b\b\b\b\b\b\b\b\b\b\b\b\b\b\b\b\b\b\b\b\b\b\b\b\b\n",
      "Accuracy score is: 0.9989743589743589\n",
      "Ballanced accuracy score is: 0.9967105263157895\n",
      "Jaccard score: 0.9989743589743589\n",
      "Full classification report\n",
      "              precision    recall  f1-score   support\n",
      "\n",
      "           0     0.9988    1.0000    0.9994       823\n",
      "         mem     1.0000    0.9934    0.9967       152\n",
      "\n",
      "    accuracy                         0.9990       975\n",
      "   macro avg     0.9994    0.9967    0.9980       975\n",
      "weighted avg     0.9990    0.9990    0.9990       975\n",
      "\n",
      "Confusion matrix\n",
      "####################################################################################################\n",
      "Starting fold 2\n",
      "Scaling data ....\n",
      "Start training ....\n",
      "Train on 2925 samples, validate on 975 samples\n",
      "Epoch 1/1000\n",
      "2925/2925 [==============================] - 1s 467us/sample - loss: 0.3222 - accuracy: 0.8576 - categorical_crossentropy: 0.2894 - binary_crossentropy: 0.3222 - val_loss: 0.0696 - val_accuracy: 0.9944 - val_categorical_crossentropy: 0.0674 - val_binary_crossentropy: 0.0696\b\b\b\b\b\b\b\b\b\b\b\b\b\b\b\b\b\b\b\b\b\b\b\b\b\b\b\b\b\b\n",
      "Epoch 2/1000\n",
      "2925/2925 [==============================] - 0s 24us/sample - loss: 0.0814 - accuracy: 0.9774 - categorical_crossentropy: 0.0802 - binary_crossentropy: 0.0814 - val_loss: 0.0276 - val_accuracy: 0.9949 - val_categorical_crossentropy: 0.0268 - val_binary_crossentropy: 0.0276\b\b\b\b\b\b\b\b\b\b\b\b\b\b\b\b\b\b\b\b\b\b\b\b\b\b\b\b\b\n",
      "Epoch 3/1000\n",
      "2925/2925 [==============================] - 0s 24us/sample - loss: 0.0556 - accuracy: 0.9879 - categorical_crossentropy: 0.0540 - binary_crossentropy: 0.0556 - val_loss: 0.0256 - val_accuracy: 0.9959 - val_categorical_crossentropy: 0.0244 - val_binary_crossentropy: 0.0256\b\b\b\b\b\b\b\b\b\b\b\b\b\b\b\b\b\b\b\b\b\b\b\b\b\b\b\b\b\n",
      "Epoch 4/1000\n",
      "2925/2925 [==============================] - 0s 24us/sample - loss: 0.0405 - accuracy: 0.9909 - categorical_crossentropy: 0.0389 - binary_crossentropy: 0.0405 - val_loss: 0.0198 - val_accuracy: 0.9959 - val_categorical_crossentropy: 0.0192 - val_binary_crossentropy: 0.0198\b\b\b\b\b\b\b\b\b\b\b\b\b\b\b\b\b\b\b\b\b\b\b\b\b\b\b\b\b\n",
      "Epoch 5/1000\n",
      "2925/2925 [==============================] - 0s 25us/sample - loss: 0.0322 - accuracy: 0.9938 - categorical_crossentropy: 0.0319 - binary_crossentropy: 0.0322 - val_loss: 0.0159 - val_accuracy: 0.9969 - val_categorical_crossentropy: 0.0153 - val_binary_crossentropy: 0.0159\b\b\b\b\b\b\b\b\b\b\b\b\b\b\b\b\b\b\b\b\b\b\b\b\b\b\b\b\b\n",
      "Epoch 6/1000\n",
      "2925/2925 [==============================] - 0s 25us/sample - loss: 0.0216 - accuracy: 0.9962 - categorical_crossentropy: 0.0213 - binary_crossentropy: 0.0216 - val_loss: 0.0151 - val_accuracy: 0.9969 - val_categorical_crossentropy: 0.0147 - val_binary_crossentropy: 0.0151\b\b\b\b\b\b\b\b\b\b\b\b\b\b\b\b\b\b\b\b\b\b\b\b\b\b\b\b\b\n",
      "Epoch 7/1000\n",
      "2925/2925 [==============================] - 0s 24us/sample - loss: 0.0220 - accuracy: 0.9952 - categorical_crossentropy: 0.0217 - binary_crossentropy: 0.0220 - val_loss: 0.0114 - val_accuracy: 0.9990 - val_categorical_crossentropy: 0.0108 - val_binary_crossentropy: 0.0114\b\b\b\b\b\b\b\b\b\b\b\b\b\b\b\b\b\b\b\b\b\b\b\b\b\b\b\b\b\n",
      "Epoch 8/1000\n",
      "2925/2925 [==============================] - 0s 24us/sample - loss: 0.0299 - accuracy: 0.9944 - categorical_crossentropy: 0.0284 - binary_crossentropy: 0.0299 - val_loss: 0.0126 - val_accuracy: 0.9990 - val_categorical_crossentropy: 0.0117 - val_binary_crossentropy: 0.0126\b\b\b\b\b\b\b\b\b\b\b\b\b\b\b\b\b\b\b\b\b\b\b\b\b\b\b\b\b\n",
      "Epoch 9/1000\n",
      "2925/2925 [==============================] - 0s 25us/sample - loss: 0.0182 - accuracy: 0.9966 - categorical_crossentropy: 0.0180 - binary_crossentropy: 0.0182 - val_loss: 0.0161 - val_accuracy: 0.9959 - val_categorical_crossentropy: 0.0156 - val_binary_crossentropy: 0.0161\b\b\b\b\b\b\b\b\b\b\b\b\b\b\b\b\b\b\b\b\b\b\b\b\b\b\b\b\b\n",
      "Epoch 10/1000\n",
      "2925/2925 [==============================] - 0s 24us/sample - loss: 0.0232 - accuracy: 0.9950 - categorical_crossentropy: 0.0231 - binary_crossentropy: 0.0232 - val_loss: 0.0135 - val_accuracy: 0.9990 - val_categorical_crossentropy: 0.0127 - val_binary_crossentropy: 0.0135\b\b\b\b\b\b\b\b\b\b\b\b\b\b\b\b\b\b\b\b\b\b\b\b\b\b\b\b\b\n",
      "Epoch 11/1000\n",
      "2925/2925 [==============================] - 0s 24us/sample - loss: 0.0220 - accuracy: 0.9952 - categorical_crossentropy: 0.0217 - binary_crossentropy: 0.0220 - val_loss: 0.0145 - val_accuracy: 0.9979 - val_categorical_crossentropy: 0.0143 - val_binary_crossentropy: 0.0145\b\b\b\b\b\b\b\b\b\b\b\b\b\b\b\b\b\b\b\b\b\b\b\b\b\b\b\b\b\n",
      "Epoch 12/1000\n",
      "2925/2925 [==============================] - 0s 24us/sample - loss: 0.0266 - accuracy: 0.9956 - categorical_crossentropy: 0.0241 - binary_crossentropy: 0.0266 - val_loss: 0.0137 - val_accuracy: 0.9990 - val_categorical_crossentropy: 0.0134 - val_binary_crossentropy: 0.0137\b\b\b\b\b\b\b\b\b\b\b\b\b\b\b\b\b\b\b\b\b\b\b\b\b\b\b\b\b\n",
      "Accuracy score is: 0.9989743589743589\n",
      "Ballanced accuracy score is: 0.9967105263157895\n",
      "Jaccard score: 0.9989743589743589\n",
      "Full classification report\n",
      "              precision    recall  f1-score   support\n",
      "\n",
      "           0     0.9988    1.0000    0.9994       823\n",
      "         mem     1.0000    0.9934    0.9967       152\n",
      "\n",
      "    accuracy                         0.9990       975\n",
      "   macro avg     0.9994    0.9967    0.9980       975\n",
      "weighted avg     0.9990    0.9990    0.9990       975\n",
      "\n",
      "Confusion matrix\n",
      "####################################################################################################\n",
      "Starting fold 3\n",
      "Scaling data ....\n",
      "Start training ....\n",
      "Train on 2925 samples, validate on 975 samples\n",
      "Epoch 1/1000\n",
      "2925/2925 [==============================] - 1s 473us/sample - loss: 0.3910 - accuracy: 0.8062 - categorical_crossentropy: 0.3623 - binary_crossentropy: 0.3910 - val_loss: 0.1389 - val_accuracy: 0.9487 - val_categorical_crossentropy: 0.1391 - val_binary_crossentropy: 0.1389\b\b\b\b\b\b\b\b\b\b\b\b\b\b\b\b\b\b\b\b\b\b\b\b\b\b\b\b\b\b\n",
      "Epoch 2/1000\n",
      "2925/2925 [==============================] - 0s 25us/sample - loss: 0.1278 - accuracy: 0.9362 - categorical_crossentropy: 0.1265 - binary_crossentropy: 0.1278 - val_loss: 0.0779 - val_accuracy: 0.9872 - val_categorical_crossentropy: 0.0765 - val_binary_crossentropy: 0.0779\b\b\b\b\b\b\b\b\b\b\b\b\b\b\b\b\b\b\b\b\b\b\b\b\b\b\b\b\b\n",
      "Epoch 3/1000\n",
      "2925/2925 [==============================] - 0s 24us/sample - loss: 0.0611 - accuracy: 0.9858 - categorical_crossentropy: 0.0604 - binary_crossentropy: 0.0611 - val_loss: 0.0574 - val_accuracy: 0.9887 - val_categorical_crossentropy: 0.0576 - val_binary_crossentropy: 0.0574\b\b\b\b\b\b\b\b\b\b\b\b\b\b\b\b\b\b\b\b\b\b\b\b\b\b\b\b\b\n",
      "Epoch 4/1000\n",
      "2925/2925 [==============================] - 0s 24us/sample - loss: 0.0434 - accuracy: 0.9911 - categorical_crossentropy: 0.0427 - binary_crossentropy: 0.0434 - val_loss: 0.0482 - val_accuracy: 0.9903 - val_categorical_crossentropy: 0.0479 - val_binary_crossentropy: 0.0482\b\b\b\b\b\b\b\b\b\b\b\b\b\b\b\b\b\b\b\b\b\b\b\b\b\b\b\b\b\n",
      "Epoch 5/1000\n",
      "2925/2925 [==============================] - 0s 25us/sample - loss: 0.0450 - accuracy: 0.9908 - categorical_crossentropy: 0.0450 - binary_crossentropy: 0.0450 - val_loss: 0.0388 - val_accuracy: 0.9928 - val_categorical_crossentropy: 0.0389 - val_binary_crossentropy: 0.0388\b\b\b\b\b\b\b\b\b\b\b\b\b\b\b\b\b\b\b\b\b\b\b\b\b\b\b\b\b\n",
      "Epoch 6/1000\n",
      "2925/2925 [==============================] - 0s 24us/sample - loss: 0.0325 - accuracy: 0.9920 - categorical_crossentropy: 0.0324 - binary_crossentropy: 0.0325 - val_loss: 0.0381 - val_accuracy: 0.9938 - val_categorical_crossentropy: 0.0381 - val_binary_crossentropy: 0.0381\b\b\b\b\b\b\b\b\b\b\b\b\b\b\b\b\b\b\b\b\b\b\b\b\b\b\b\b\b\n",
      "Epoch 7/1000\n",
      "2925/2925 [==============================] - 0s 25us/sample - loss: 0.0286 - accuracy: 0.9945 - categorical_crossentropy: 0.0281 - binary_crossentropy: 0.0286 - val_loss: 0.0356 - val_accuracy: 0.9959 - val_categorical_crossentropy: 0.0345 - val_binary_crossentropy: 0.0356\b\b\b\b\b\b\b\b\b\b\b\b\b\b\b\b\b\b\b\b\b\b\b\b\b\b\b\b\b\n",
      "Epoch 8/1000\n",
      "2925/2925 [==============================] - 0s 25us/sample - loss: 0.0178 - accuracy: 0.9971 - categorical_crossentropy: 0.0176 - binary_crossentropy: 0.0178 - val_loss: 0.0255 - val_accuracy: 0.9969 - val_categorical_crossentropy: 0.0244 - val_binary_crossentropy: 0.0255\b\b\b\b\b\b\b\b\b\b\b\b\b\b\b\b\b\b\b\b\b\b\b\b\b\b\b\b\b\n",
      "Epoch 9/1000\n",
      "2925/2925 [==============================] - 0s 25us/sample - loss: 0.0195 - accuracy: 0.9969 - categorical_crossentropy: 0.0191 - binary_crossentropy: 0.0195 - val_loss: 0.0267 - val_accuracy: 0.9969 - val_categorical_crossentropy: 0.0261 - val_binary_crossentropy: 0.0267\b\b\b\b\b\b\b\b\b\b\b\b\b\b\b\b\b\b\b\b\b\b\b\b\b\b\b\b\b\n",
      "Epoch 10/1000\n",
      "2925/2925 [==============================] - 0s 25us/sample - loss: 0.0148 - accuracy: 0.9979 - categorical_crossentropy: 0.0150 - binary_crossentropy: 0.0148 - val_loss: 0.0266 - val_accuracy: 0.9979 - val_categorical_crossentropy: 0.0263 - val_binary_crossentropy: 0.0266\b\b\b\b\b\b\b\b\b\b\b\b\b\b\b\b\b\b\b\b\b\b\b\b\b\b\b\b\b\n",
      "Epoch 11/1000\n",
      "2925/2925 [==============================] - 0s 24us/sample - loss: 0.0145 - accuracy: 0.9973 - categorical_crossentropy: 0.0144 - binary_crossentropy: 0.0145 - val_loss: 0.0264 - val_accuracy: 0.9949 - val_categorical_crossentropy: 0.0261 - val_binary_crossentropy: 0.0264\b\b\b\b\b\b\b\b\b\b\b\b\b\b\b\b\b\b\b\b\b\b\b\b\b\b\b\b\b\n",
      "Epoch 12/1000\n",
      "2925/2925 [==============================] - 0s 26us/sample - loss: 0.0140 - accuracy: 0.9966 - categorical_crossentropy: 0.0137 - binary_crossentropy: 0.0140 - val_loss: 0.0241 - val_accuracy: 0.9969 - val_categorical_crossentropy: 0.0238 - val_binary_crossentropy: 0.0241\b\b\b\b\b\b\b\b\b\b\b\b\b\b\b\b\b\b\b\b\b\b\b\b\b\b\b\b\b\n",
      "Epoch 13/1000\n",
      "2925/2925 [==============================] - 0s 26us/sample - loss: 0.0155 - accuracy: 0.9971 - categorical_crossentropy: 0.0149 - binary_crossentropy: 0.0155 - val_loss: 0.0221 - val_accuracy: 0.9979 - val_categorical_crossentropy: 0.0216 - val_binary_crossentropy: 0.0221\b\b\b\b\b\b\b\b\b\b\b\b\b\b\b\b\b\b\b\b\b\b\b\b\b\b\b\b\b\n",
      "Epoch 14/1000\n",
      "2925/2925 [==============================] - 0s 27us/sample - loss: 0.0138 - accuracy: 0.9978 - categorical_crossentropy: 0.0138 - binary_crossentropy: 0.0138 - val_loss: 0.0222 - val_accuracy: 0.9969 - val_categorical_crossentropy: 0.0217 - val_binary_crossentropy: 0.0222\b\b\b\b\b\b\b\b\b\b\b\b\b\b\b\b\b\b\b\b\b\b\b\b\b\b\b\b\b\n",
      "Epoch 15/1000\n",
      "2925/2925 [==============================] - 0s 27us/sample - loss: 0.0164 - accuracy: 0.9978 - categorical_crossentropy: 0.0162 - binary_crossentropy: 0.0164 - val_loss: 0.0243 - val_accuracy: 0.9979 - val_categorical_crossentropy: 0.0238 - val_binary_crossentropy: 0.0243\b\b\b\b\b\b\b\b\b\b\b\b\b\b\b\b\b\b\b\b\b\b\b\b\b\b\b\b\b\n",
      "Epoch 16/1000\n",
      "2925/2925 [==============================] - 0s 25us/sample - loss: 0.0145 - accuracy: 0.9962 - categorical_crossentropy: 0.0147 - binary_crossentropy: 0.0145 - val_loss: 0.0293 - val_accuracy: 0.9979 - val_categorical_crossentropy: 0.0281 - val_binary_crossentropy: 0.0293\b\b\b\b\b\b\b\b\b\b\b\b\b\b\b\b\b\b\b\b\b\b\b\b\b\b\b\b\b\n",
      "Epoch 17/1000\n",
      "2925/2925 [==============================] - 0s 25us/sample - loss: 0.0131 - accuracy: 0.9973 - categorical_crossentropy: 0.0128 - binary_crossentropy: 0.0131 - val_loss: 0.0225 - val_accuracy: 0.9974 - val_categorical_crossentropy: 0.0226 - val_binary_crossentropy: 0.0225\b\b\b\b\b\b\b\b\b\b\b\b\b\b\b\b\b\b\b\b\b\b\b\b\b\b\b\b\b\n",
      "Epoch 18/1000\n",
      "2925/2925 [==============================] - 0s 26us/sample - loss: 0.0100 - accuracy: 0.9979 - categorical_crossentropy: 0.0101 - binary_crossentropy: 0.0100 - val_loss: 0.0221 - val_accuracy: 0.9969 - val_categorical_crossentropy: 0.0223 - val_binary_crossentropy: 0.0221\b\b\b\b\b\b\b\b\b\b\b\b\b\b\b\b\b\b\b\b\b\b\b\b\b\b\b\b\b\n",
      "Epoch 19/1000\n",
      "2925/2925 [==============================] - 0s 25us/sample - loss: 0.0055 - accuracy: 0.9993 - categorical_crossentropy: 0.0055 - binary_crossentropy: 0.0055 - val_loss: 0.0236 - val_accuracy: 0.9964 - val_categorical_crossentropy: 0.0239 - val_binary_crossentropy: 0.0236\b\b\b\b\b\b\b\b\b\b\b\b\b\b\b\b\b\b\b\b\b\b\b\b\b\b\b\b\b\n",
      "Epoch 20/1000\n",
      "2925/2925 [==============================] - 0s 25us/sample - loss: 0.0064 - accuracy: 0.9985 - categorical_crossentropy: 0.0064 - binary_crossentropy: 0.0064 - val_loss: 0.0254 - val_accuracy: 0.9959 - val_categorical_crossentropy: 0.0257 - val_binary_crossentropy: 0.0254\b\b\b\b\b\b\b\b\b\b\b\b\b\b\b\b\b\b\b\b\b\b\b\b\b\b\b\b\b\n",
      "Epoch 21/1000\n",
      "2925/2925 [==============================] - 0s 25us/sample - loss: 0.0071 - accuracy: 0.9981 - categorical_crossentropy: 0.0070 - binary_crossentropy: 0.0071 - val_loss: 0.0250 - val_accuracy: 0.9959 - val_categorical_crossentropy: 0.0253 - val_binary_crossentropy: 0.0250\b\b\b\b\b\b\b\b\b\b\b\b\b\b\b\b\b\b\b\b\b\b\b\b\b\b\b\b\b\n",
      "Epoch 22/1000\n",
      "2925/2925 [==============================] - 0s 25us/sample - loss: 0.0115 - accuracy: 0.9986 - categorical_crossentropy: 0.0114 - binary_crossentropy: 0.0115 - val_loss: 0.0250 - val_accuracy: 0.9959 - val_categorical_crossentropy: 0.0253 - val_binary_crossentropy: 0.0250\b\b\b\b\b\b\b\b\b\b\b\b\b\b\b\b\b\b\b\b\b\b\b\b\b\b\b\b\b\n",
      "Accuracy score is: 0.9958974358974358\n",
      "Ballanced accuracy score is: 0.9922059858029033\n",
      "Jaccard score: 0.9958974358974358\n",
      "Full classification report\n",
      "              precision    recall  f1-score   support\n",
      "\n",
      "           0     0.9976    0.9976    0.9976       823\n",
      "         mem     0.9868    0.9868    0.9868       152\n",
      "\n",
      "    accuracy                         0.9959       975\n",
      "   macro avg     0.9922    0.9922    0.9922       975\n",
      "weighted avg     0.9959    0.9959    0.9959       975\n",
      "\n",
      "Confusion matrix\n",
      "####################################################################################################\n",
      "Starting fold 4\n",
      "Scaling data ....\n",
      "Start training ....\n",
      "Train on 2925 samples, validate on 975 samples\n",
      "Epoch 1/1000\n",
      "2925/2925 [==============================] - 1s 481us/sample - loss: 0.3882 - accuracy: 0.8019 - categorical_crossentropy: 0.3707 - binary_crossentropy: 0.3882 - val_loss: 0.1319 - val_accuracy: 0.8708 - val_categorical_crossentropy: 0.1298 - val_binary_crossentropy: 0.1319\b\b\b\b\b\b\b\b\b\b\b\b\b\b\b\b\b\b\b\b\b\b\b\b\b\b\b\b\b\b\n",
      "Epoch 2/1000\n",
      "2925/2925 [==============================] - 0s 24us/sample - loss: 0.1387 - accuracy: 0.9162 - categorical_crossentropy: 0.1380 - binary_crossentropy: 0.1387 - val_loss: 0.0854 - val_accuracy: 0.9979 - val_categorical_crossentropy: 0.0868 - val_binary_crossentropy: 0.0854\b\b\b\b\b\b\b\b\b\b\b\b\b\b\b\b\b\b\b\b\b\b\b\b\b\b\b\b\b\n",
      "Epoch 3/1000\n",
      "2925/2925 [==============================] - 0s 25us/sample - loss: 0.0909 - accuracy: 0.9838 - categorical_crossentropy: 0.0932 - binary_crossentropy: 0.0909 - val_loss: 0.0281 - val_accuracy: 0.9959 - val_categorical_crossentropy: 0.0321 - val_binary_crossentropy: 0.0281\b\b\b\b\b\b\b\b\b\b\b\b\b\b\b\b\b\b\b\b\b\b\b\b\b\b\b\b\b\n",
      "Epoch 4/1000\n",
      "2925/2925 [==============================] - 0s 25us/sample - loss: 0.0634 - accuracy: 0.9877 - categorical_crossentropy: 0.0621 - binary_crossentropy: 0.0634 - val_loss: 0.0148 - val_accuracy: 0.9969 - val_categorical_crossentropy: 0.0156 - val_binary_crossentropy: 0.0148\b\b\b\b\b\b\b\b\b\b\b\b\b\b\b\b\b\b\b\b\b\b\b\b\b\b\b\b\b\n",
      "Epoch 5/1000\n",
      "2925/2925 [==============================] - 0s 26us/sample - loss: 0.0407 - accuracy: 0.9909 - categorical_crossentropy: 0.0413 - binary_crossentropy: 0.0407 - val_loss: 0.0109 - val_accuracy: 0.9969 - val_categorical_crossentropy: 0.0112 - val_binary_crossentropy: 0.0109\b\b\b\b\b\b\b\b\b\b\b\b\b\b\b\b\b\b\b\b\b\b\b\b\b\b\b\b\b\n",
      "Epoch 6/1000\n",
      "2925/2925 [==============================] - 0s 24us/sample - loss: 0.0418 - accuracy: 0.9928 - categorical_crossentropy: 0.0410 - binary_crossentropy: 0.0418 - val_loss: 0.0095 - val_accuracy: 0.9969 - val_categorical_crossentropy: 0.0097 - val_binary_crossentropy: 0.0095\b\b\b\b\b\b\b\b\b\b\b\b\b\b\b\b\b\b\b\b\b\b\b\b\b\b\b\b\b\n",
      "Epoch 7/1000\n",
      "2925/2925 [==============================] - 0s 24us/sample - loss: 0.0265 - accuracy: 0.9962 - categorical_crossentropy: 0.0268 - binary_crossentropy: 0.0265 - val_loss: 0.0081 - val_accuracy: 0.9990 - val_categorical_crossentropy: 0.0082 - val_binary_crossentropy: 0.0081\b\b\b\b\b\b\b\b\b\b\b\b\b\b\b\b\b\b\b\b\b\b\b\b\b\b\b\b\b\n",
      "Epoch 8/1000\n",
      "2925/2925 [==============================] - 0s 24us/sample - loss: 0.0284 - accuracy: 0.9947 - categorical_crossentropy: 0.0284 - binary_crossentropy: 0.0284 - val_loss: 0.0077 - val_accuracy: 0.9979 - val_categorical_crossentropy: 0.0076 - val_binary_crossentropy: 0.0077\b\b\b\b\b\b\b\b\b\b\b\b\b\b\b\b\b\b\b\b\b\b\b\b\b\b\b\b\b\n",
      "Epoch 9/1000\n",
      "2925/2925 [==============================] - 0s 25us/sample - loss: 0.0320 - accuracy: 0.9930 - categorical_crossentropy: 0.0323 - binary_crossentropy: 0.0320 - val_loss: 0.0065 - val_accuracy: 0.9979 - val_categorical_crossentropy: 0.0070 - val_binary_crossentropy: 0.0065\b\b\b\b\b\b\b\b\b\b\b\b\b\b\b\b\b\b\b\b\b\b\b\b\b\b\b\b\b\n",
      "Epoch 10/1000\n",
      "2925/2925 [==============================] - 0s 25us/sample - loss: 0.0201 - accuracy: 0.9971 - categorical_crossentropy: 0.0198 - binary_crossentropy: 0.0201 - val_loss: 0.0062 - val_accuracy: 0.9969 - val_categorical_crossentropy: 0.0063 - val_binary_crossentropy: 0.0062\b\b\b\b\b\b\b\b\b\b\b\b\b\b\b\b\b\b\b\b\b\b\b\b\b\b\b\b\b\n",
      "Epoch 11/1000\n",
      "2925/2925 [==============================] - 0s 24us/sample - loss: 0.0290 - accuracy: 0.9957 - categorical_crossentropy: 0.0297 - binary_crossentropy: 0.0290 - val_loss: 0.0029 - val_accuracy: 1.0000 - val_categorical_crossentropy: 0.0030 - val_binary_crossentropy: 0.0029\b\b\b\b\b\b\b\b\b\b\b\b\b\b\b\b\b\b\b\b\b\b\b\b\b\b\b\b\b\n",
      "Epoch 12/1000\n",
      "2925/2925 [==============================] - 0s 24us/sample - loss: 0.0174 - accuracy: 0.9956 - categorical_crossentropy: 0.0174 - binary_crossentropy: 0.0174 - val_loss: 0.0044 - val_accuracy: 0.9990 - val_categorical_crossentropy: 0.0044 - val_binary_crossentropy: 0.0044\b\b\b\b\b\b\b\b\b\b\b\b\b\b\b\b\b\b\b\b\b\b\b\b\b\b\b\b\b\n",
      "Epoch 13/1000\n",
      "2925/2925 [==============================] - 0s 24us/sample - loss: 0.0184 - accuracy: 0.9961 - categorical_crossentropy: 0.0182 - binary_crossentropy: 0.0184 - val_loss: 0.0051 - val_accuracy: 0.9990 - val_categorical_crossentropy: 0.0051 - val_binary_crossentropy: 0.0051\b\b\b\b\b\b\b\b\b\b\b\b\b\b\b\b\b\b\b\b\b\b\b\b\b\b\b\b\b\n",
      "Epoch 14/1000\n",
      "2925/2925 [==============================] - 0s 24us/sample - loss: 0.0175 - accuracy: 0.9964 - categorical_crossentropy: 0.0170 - binary_crossentropy: 0.0175 - val_loss: 0.0011 - val_accuracy: 1.0000 - val_categorical_crossentropy: 0.0011 - val_binary_crossentropy: 0.0011\b\b\b\b\b\b\b\b\b\b\b\b\b\b\b\b\b\b\b\b\b\b\b\b\b\b\b\b\b\n",
      "Epoch 15/1000\n",
      "2925/2925 [==============================] - 0s 26us/sample - loss: 0.0232 - accuracy: 0.9979 - categorical_crossentropy: 0.0229 - binary_crossentropy: 0.0232 - val_loss: 0.0034 - val_accuracy: 1.0000 - val_categorical_crossentropy: 0.0036 - val_binary_crossentropy: 0.0034\b\b\b\b\b\b\b\b\b\b\b\b\b\b\b\b\b\b\b\b\b\b\b\b\b\b\b\b\b\n",
      "Accuracy score is: 1.0\n",
      "Ballanced accuracy score is: 1.0\n",
      "Jaccard score: 1.0\n",
      "Full classification report\n",
      "              precision    recall  f1-score   support\n",
      "\n",
      "           0     1.0000    1.0000    1.0000       823\n",
      "         mem     1.0000    1.0000    1.0000       152\n",
      "\n",
      "    accuracy                         1.0000       975\n",
      "   macro avg     1.0000    1.0000    1.0000       975\n",
      "weighted avg     1.0000    1.0000    1.0000       975\n",
      "\n",
      "Confusion matrix\n",
      "####################################################################################################\n",
      "Starting fold 5\n",
      "Scaling data ....\n",
      "Start training ....\n",
      "Train on 2925 samples, validate on 975 samples\n",
      "Epoch 1/1000\n",
      "2925/2925 [==============================] - 1s 485us/sample - loss: 0.4733 - accuracy: 0.7807 - categorical_crossentropy: 0.4316 - binary_crossentropy: 0.4733 - val_loss: 0.1677 - val_accuracy: 0.8615 - val_categorical_crossentropy: 0.1690 - val_binary_crossentropy: 0.1677\b\b\b\b\b\b\b\b\b\b\b\b\b\b\b\b\b\b\b\b\b\b\b\b\b\b\b\b\b\b\n",
      "Epoch 2/1000\n",
      "2925/2925 [==============================] - 0s 26us/sample - loss: 0.1448 - accuracy: 0.9024 - categorical_crossentropy: 0.1445 - binary_crossentropy: 0.1448 - val_loss: 0.0936 - val_accuracy: 0.9851 - val_categorical_crossentropy: 0.0948 - val_binary_crossentropy: 0.0936\b\b\b\b\b\b\b\b\b\b\b\b\b\b\b\b\b\b\b\b\b\b\b\b\b\b\b\b\b\n",
      "Epoch 3/1000\n",
      "2925/2925 [==============================] - 0s 25us/sample - loss: 0.0789 - accuracy: 0.9785 - categorical_crossentropy: 0.0799 - binary_crossentropy: 0.0789 - val_loss: 0.0675 - val_accuracy: 0.9836 - val_categorical_crossentropy: 0.0635 - val_binary_crossentropy: 0.0675\b\b\b\b\b\b\b\b\b\b\b\b\b\b\b\b\b\b\b\b\b\b\b\b\b\b\b\b\b\n",
      "Epoch 4/1000\n",
      "2925/2925 [==============================] - 0s 25us/sample - loss: 0.0483 - accuracy: 0.9913 - categorical_crossentropy: 0.0483 - binary_crossentropy: 0.0483 - val_loss: 0.0856 - val_accuracy: 0.9831 - val_categorical_crossentropy: 0.0831 - val_binary_crossentropy: 0.0856\b\b\b\b\b\b\b\b\b\b\b\b\b\b\b\b\b\b\b\b\b\b\b\b\b\b\b\b\b\n",
      "Epoch 5/1000\n",
      "2925/2925 [==============================] - 0s 25us/sample - loss: 0.0429 - accuracy: 0.9926 - categorical_crossentropy: 0.0427 - binary_crossentropy: 0.0429 - val_loss: 0.0787 - val_accuracy: 0.9856 - val_categorical_crossentropy: 0.0787 - val_binary_crossentropy: 0.0787\b\b\b\b\b\b\b\b\b\b\b\b\b\b\b\b\b\b\b\b\b\b\b\b\b\b\b\b\b\n",
      "Epoch 6/1000\n",
      "2925/2925 [==============================] - 0s 25us/sample - loss: 0.0391 - accuracy: 0.9937 - categorical_crossentropy: 0.0378 - binary_crossentropy: 0.0391 - val_loss: 0.0664 - val_accuracy: 0.9826 - val_categorical_crossentropy: 0.0668 - val_binary_crossentropy: 0.0664\b\b\b\b\b\b\b\b\b\b\b\b\b\b\b\b\b\b\b\b\b\b\b\b\b\b\b\b\b\n",
      "Epoch 7/1000\n",
      "2925/2925 [==============================] - 0s 24us/sample - loss: 0.0345 - accuracy: 0.9944 - categorical_crossentropy: 0.0345 - binary_crossentropy: 0.0345 - val_loss: 0.0599 - val_accuracy: 0.9846 - val_categorical_crossentropy: 0.0601 - val_binary_crossentropy: 0.0599\b\b\b\b\b\b\b\b\b\b\b\b\b\b\b\b\b\b\b\b\b\b\b\b\b\b\b\b\b\n",
      "Epoch 8/1000\n",
      "2925/2925 [==============================] - 0s 24us/sample - loss: 0.0301 - accuracy: 0.9950 - categorical_crossentropy: 0.0299 - binary_crossentropy: 0.0301 - val_loss: 0.0585 - val_accuracy: 0.9856 - val_categorical_crossentropy: 0.0591 - val_binary_crossentropy: 0.0585\b\b\b\b\b\b\b\b\b\b\b\b\b\b\b\b\b\b\b\b\b\b\b\b\b\b\b\b\b\n",
      "Epoch 9/1000\n",
      "2925/2925 [==============================] - 0s 24us/sample - loss: 0.0334 - accuracy: 0.9938 - categorical_crossentropy: 0.0346 - binary_crossentropy: 0.0334 - val_loss: 0.0440 - val_accuracy: 0.9887 - val_categorical_crossentropy: 0.0439 - val_binary_crossentropy: 0.0440\b\b\b\b\b\b\b\b\b\b\b\b\b\b\b\b\b\b\b\b\b\b\b\b\b\b\b\b\b\n",
      "Epoch 10/1000\n",
      "2925/2925 [==============================] - 0s 24us/sample - loss: 0.0244 - accuracy: 0.9954 - categorical_crossentropy: 0.0244 - binary_crossentropy: 0.0244 - val_loss: 0.0515 - val_accuracy: 0.9877 - val_categorical_crossentropy: 0.0512 - val_binary_crossentropy: 0.0515\b\b\b\b\b\b\b\b\b\b\b\b\b\b\b\b\b\b\b\b\b\b\b\b\b\b\b\b\b\n",
      "Epoch 11/1000\n",
      "2925/2925 [==============================] - 0s 24us/sample - loss: 0.0320 - accuracy: 0.9932 - categorical_crossentropy: 0.0312 - binary_crossentropy: 0.0320 - val_loss: 0.0245 - val_accuracy: 0.9908 - val_categorical_crossentropy: 0.0247 - val_binary_crossentropy: 0.0245\b\b\b\b\b\b\b\b\b\b\b\b\b\b\b\b\b\b\b\b\b\b\b\b\b\b\b\b\b\n",
      "Epoch 12/1000\n",
      "2925/2925 [==============================] - 0s 25us/sample - loss: 0.0214 - accuracy: 0.9962 - categorical_crossentropy: 0.0211 - binary_crossentropy: 0.0214 - val_loss: 0.0432 - val_accuracy: 0.9897 - val_categorical_crossentropy: 0.0432 - val_binary_crossentropy: 0.0432\b\b\b\b\b\b\b\b\b\b\b\b\b\b\b\b\b\b\b\b\b\b\b\b\b\b\b\b\b\n",
      "Epoch 13/1000\n",
      "2925/2925 [==============================] - 0s 29us/sample - loss: 0.0224 - accuracy: 0.9952 - categorical_crossentropy: 0.0222 - binary_crossentropy: 0.0224 - val_loss: 0.0263 - val_accuracy: 0.9897 - val_categorical_crossentropy: 0.0262 - val_binary_crossentropy: 0.0263\b\b\b\b\b\b\b\b\b\b\b\b\b\b\b\b\b\b\b\b\b\b\b\b\b\b\b\b\b\n",
      "Epoch 14/1000\n",
      "2925/2925 [==============================] - 0s 25us/sample - loss: 0.0219 - accuracy: 0.9954 - categorical_crossentropy: 0.0216 - binary_crossentropy: 0.0219 - val_loss: 0.0297 - val_accuracy: 0.9897 - val_categorical_crossentropy: 0.0300 - val_binary_crossentropy: 0.0297\b\b\b\b\b\b\b\b\b\b\b\b\b\b\b\b\b\b\b\b\b\b\b\b\b\b\b\b\b\n",
      "Epoch 15/1000\n",
      "2925/2925 [==============================] - 0s 24us/sample - loss: 0.0149 - accuracy: 0.9959 - categorical_crossentropy: 0.0149 - binary_crossentropy: 0.0149 - val_loss: 0.0281 - val_accuracy: 0.9918 - val_categorical_crossentropy: 0.0284 - val_binary_crossentropy: 0.0281\b\b\b\b\b\b\b\b\b\b\b\b\b\b\b\b\b\b\b\b\b\b\b\b\b\b\b\b\b\n",
      "Epoch 16/1000\n",
      "2925/2925 [==============================] - 0s 25us/sample - loss: 0.0159 - accuracy: 0.9973 - categorical_crossentropy: 0.0154 - binary_crossentropy: 0.0159 - val_loss: 0.0220 - val_accuracy: 0.9938 - val_categorical_crossentropy: 0.0222 - val_binary_crossentropy: 0.0220\b\b\b\b\b\b\b\b\b\b\b\b\b\b\b\b\b\b\b\b\b\b\b\b\b\b\b\b\b\n",
      "Epoch 17/1000\n",
      "2925/2925 [==============================] - 0s 26us/sample - loss: 0.0138 - accuracy: 0.9969 - categorical_crossentropy: 0.0135 - binary_crossentropy: 0.0138 - val_loss: 0.0115 - val_accuracy: 0.9969 - val_categorical_crossentropy: 0.0116 - val_binary_crossentropy: 0.0115\b\b\b\b\b\b\b\b\b\b\b\b\b\b\b\b\b\b\b\b\b\b\b\b\b\b\b\b\b\n",
      "Epoch 18/1000\n",
      "2925/2925 [==============================] - 0s 25us/sample - loss: 0.0116 - accuracy: 0.9974 - categorical_crossentropy: 0.0117 - binary_crossentropy: 0.0116 - val_loss: 0.0283 - val_accuracy: 0.9918 - val_categorical_crossentropy: 0.0285 - val_binary_crossentropy: 0.0283\b\b\b\b\b\b\b\b\b\b\b\b\b\b\b\b\b\b\b\b\b\b\b\b\b\b\b\b\b\n",
      "Epoch 19/1000\n",
      "2925/2925 [==============================] - 0s 25us/sample - loss: 0.0154 - accuracy: 0.9971 - categorical_crossentropy: 0.0158 - binary_crossentropy: 0.0154 - val_loss: 0.0205 - val_accuracy: 0.9928 - val_categorical_crossentropy: 0.0207 - val_binary_crossentropy: 0.0205\b\b\b\b\b\b\b\b\b\b\b\b\b\b\b\b\b\b\b\b\b\b\b\b\b\b\b\b\b\n",
      "Epoch 20/1000\n",
      "2925/2925 [==============================] - 0s 26us/sample - loss: 0.0121 - accuracy: 0.9979 - categorical_crossentropy: 0.0125 - binary_crossentropy: 0.0121 - val_loss: 0.0132 - val_accuracy: 0.9954 - val_categorical_crossentropy: 0.0132 - val_binary_crossentropy: 0.0132\b\b\b\b\b\b\b\b\b\b\b\b\b\b\b\b\b\b\b\b\b\b\b\b\b\b\b\b\b\n",
      "Epoch 21/1000\n",
      "2925/2925 [==============================] - 0s 26us/sample - loss: 0.0070 - accuracy: 0.9986 - categorical_crossentropy: 0.0069 - binary_crossentropy: 0.0070 - val_loss: 0.0083 - val_accuracy: 0.9990 - val_categorical_crossentropy: 0.0083 - val_binary_crossentropy: 0.0083\b\b\b\b\b\b\b\b\b\b\b\b\b\b\b\b\b\b\b\b\b\b\b\b\b\b\b\b\b\n",
      "Epoch 22/1000\n",
      "2925/2925 [==============================] - 0s 24us/sample - loss: 0.0114 - accuracy: 0.9983 - categorical_crossentropy: 0.0114 - binary_crossentropy: 0.0114 - val_loss: 0.0075 - val_accuracy: 0.9979 - val_categorical_crossentropy: 0.0075 - val_binary_crossentropy: 0.0075\b\b\b\b\b\b\b\b\b\b\b\b\b\b\b\b\b\b\b\b\b\b\b\b\b\b\b\b\b\n",
      "Epoch 23/1000\n",
      "2925/2925 [==============================] - 0s 25us/sample - loss: 0.0108 - accuracy: 0.9976 - categorical_crossentropy: 0.0108 - binary_crossentropy: 0.0108 - val_loss: 0.0093 - val_accuracy: 0.9990 - val_categorical_crossentropy: 0.0093 - val_binary_crossentropy: 0.0093\b\b\b\b\b\b\b\b\b\b\b\b\b\b\b\b\b\b\b\b\b\b\b\b\b\b\b\b\b\n",
      "Epoch 24/1000\n",
      "2925/2925 [==============================] - 0s 27us/sample - loss: 0.0098 - accuracy: 0.9983 - categorical_crossentropy: 0.0098 - binary_crossentropy: 0.0098 - val_loss: 0.0183 - val_accuracy: 0.9949 - val_categorical_crossentropy: 0.0183 - val_binary_crossentropy: 0.0183\b\b\b\b\b\b\b\b\b\b\b\b\b\b\b\b\b\b\b\b\b\b\b\b\b\b\b\b\b\n",
      "Accuracy score is: 0.9948717948717949\n",
      "Ballanced accuracy score is: 0.9942803926584383\n",
      "Jaccard score: 0.9948717948717949\n",
      "Full classification report\n",
      "              precision    recall  f1-score   support\n",
      "\n",
      "           0     0.9988    0.9951    0.9970       823\n",
      "         mem     0.9742    0.9934    0.9837       152\n",
      "\n",
      "    accuracy                         0.9949       975\n",
      "   macro avg     0.9865    0.9943    0.9903       975\n",
      "weighted avg     0.9949    0.9949    0.9949       975\n",
      "\n",
      "Confusion matrix\n",
      "####################################################################################################\n"
     ]
    },
    {
     "name": "stderr",
     "output_type": "stream",
     "text": [
      "/home/gabriel/anaconda3/envs/pyaspide/lib/python3.6/site-packages/sklearn/metrics/_classification.py:664: FutureWarning: jaccard_similarity_score has been deprecated and replaced with jaccard_score. It will be removed in version 0.23. This implementation has surprising behavior for binary and multiclass classification tasks.\n",
      "  FutureWarning)\n",
      "/home/gabriel/anaconda3/envs/pyaspide/lib/python3.6/site-packages/sklearn/metrics/_classification.py:664: FutureWarning: jaccard_similarity_score has been deprecated and replaced with jaccard_score. It will be removed in version 0.23. This implementation has surprising behavior for binary and multiclass classification tasks.\n",
      "  FutureWarning)\n",
      "/home/gabriel/anaconda3/envs/pyaspide/lib/python3.6/site-packages/sklearn/metrics/_classification.py:664: FutureWarning: jaccard_similarity_score has been deprecated and replaced with jaccard_score. It will be removed in version 0.23. This implementation has surprising behavior for binary and multiclass classification tasks.\n",
      "  FutureWarning)\n",
      "/home/gabriel/anaconda3/envs/pyaspide/lib/python3.6/site-packages/sklearn/metrics/_classification.py:664: FutureWarning: jaccard_similarity_score has been deprecated and replaced with jaccard_score. It will be removed in version 0.23. This implementation has surprising behavior for binary and multiclass classification tasks.\n",
      "  FutureWarning)\n",
      "/home/gabriel/anaconda3/envs/pyaspide/lib/python3.6/site-packages/sklearn/metrics/_classification.py:664: FutureWarning: jaccard_similarity_score has been deprecated and replaced with jaccard_score. It will be removed in version 0.23. This implementation has surprising behavior for binary and multiclass classification tasks.\n",
      "  FutureWarning)\n"
     ]
    },
    {
     "data": {
      "text/plain": "<Figure size 432x288 with 2 Axes>",
      "image/png": "[encoded data removed]"
     },
     "metadata": {
      "needs_background": "light"
     },
     "output_type": "display_data"
    },
    {
     "data": {
      "text/plain": "<Figure size 432x288 with 2 Axes>",
      "image/png": "[encoded data removed]"
     },
     "metadata": {
      "needs_background": "light"
     },
     "output_type": "display_data"
    },
    {
     "data": {
      "text/plain": "<Figure size 432x288 with 2 Axes>",
      "image/png": "[encoded data removed]"
     },
     "metadata": {
      "needs_background": "light"
     },
     "output_type": "display_data"
    },
    {
     "data": {
      "text/plain": "<Figure size 432x288 with 2 Axes>",
      "image/png": "[encoded data removed]"
     },
     "metadata": {
      "needs_background": "light"
     },
     "output_type": "display_data"
    },
    {
     "data": {
      "text/plain": "<Figure size 432x288 with 2 Axes>",
      "image/png": "[encoded data removed]"
     },
     "metadata": {
      "needs_background": "light"
     },
     "output_type": "display_data"
    }
   ],
   "source": [
    "# skFold = StratifiedKFold(n_splits=5)\n",
    "sss = StratifiedShuffleSplit(n_splits=5, test_size=0.25, random_state=21)\n",
    "ml_method = 'dnn_mem'\n",
    "patience = 3\n",
    "print(\"=\"*100)\n",
    "clf_models = []\n",
    "report = {\n",
    "    \"Accuracy\": [],\n",
    "    \"BallancedAccuracy\": [],\n",
    "    \"Jaccard\": []\n",
    "}\n",
    "fold = 1\n",
    "for train_index, test_index in sss.split(X, y):\n",
    "    # print(\"Train:\", train_index, \"Test:\", test_index)\n",
    "    print(\"Starting fold {}\".format(fold))\n",
    "    Xtrain, Xtest = X.iloc[train_index], X.iloc[test_index]\n",
    "    ytrain, ytest = y.iloc[train_index], y.iloc[test_index]\n",
    "\n",
    "    y_oh_train = pd.get_dummies(ytrain, prefix='target')\n",
    "    y_oh_test = pd.get_dummies(ytest, prefix='target')\n",
    "    print(\"Scaling data ....\")\n",
    "    Xtrain = scaler.fit_transform(Xtrain)\n",
    "    Xtest = scaler.transform(Xtest)\n",
    "    print(\"Start training ....\")\n",
    "    early_stopping = EarlyStopping(monitor=\"loss\", patience = 3)# early stop patience\n",
    "    reduce_lr = ReduceLROnPlateau(monitor='val_loss', factor=0.2,\n",
    "                              patience=5, min_lr=0.00001)\n",
    "    model = KerasClassifier(build_fn=dnn_aspide, verbose=0, callbacks=[early_stopping, reduce_lr])\n",
    "    history = model.fit(np.asarray(Xtrain), np.asarray(y_oh_train),\n",
    "              batch_size=batch_size,\n",
    "              epochs=epochs,\n",
    "              callbacks = [early_stopping, reduce_lr],\n",
    "              verbose=1, validation_data=(np.asarray(Xtest), np.asarray(y_oh_test))) #verbose set to 1 will show the training process\n",
    "\n",
    "    # Classification Report\n",
    "    y_pred = model.predict(Xtest)\n",
    "    # print(y_pred)\n",
    "    # print(y)\n",
    "    # y_pred = y_pred.round()\n",
    "    # y_pred = reverse_oh(y_pred)\n",
    "    # print(y_pred)\n",
    "    # # print(decode)\n",
    "    print(\"Accuracy score is: {}\".format(accuracy_score(ytest, y_pred)))\n",
    "    print(\"Ballanced accuracy score is: {}\".format(balanced_accuracy_score(ytest, y_pred)))\n",
    "    print(\"Jaccard score: {}\".format(jaccard_score(ytest, y_pred)))\n",
    "    print(\"Full classification report\")\n",
    "    print(classification_report(ytest, y_pred,digits=4, target_names=definitions))\n",
    "    report = classification_report(ytest, y_pred, digits=4, output_dict=True, target_names=definitions)\n",
    "    df_classification_report = pd.DataFrame(report).transpose()\n",
    "    classification_rep_name = \"{}_classification_rep_Fold_{}.csv\".format(\"DNN\", fold)\n",
    "    df_classification_report.to_csv(os.path.join(model_dir,classification_rep_name), index=False)\n",
    "\n",
    "    print(\"Confusion matrix\")\n",
    "    cf_matrix = confusion_matrix(ytest, y_pred)\n",
    "    sns_cf = sns.heatmap(cf_matrix, annot=True, yticklabels=list(definitions), xticklabels=list(definitions))\n",
    "    cf_fig = \"{}_cf_Fold{}.png\".format(\"DNN\", fold)\n",
    "    sns_cf.figure.savefig(os.path.join(model_dir, cf_fig))\n",
    "    plt.show()\n",
    "\n",
    "    # Saving History\n",
    "    df_history = pd.DataFrame(history.history)\n",
    "    history_name = \"DNN_Fold{}_history.csv\".format(fold)\n",
    "    df_history.to_csv(os.path.join(model_dir,history_name), index=False)\n",
    "\n",
    "    fold+=1\n",
    "    print(\"#\"*100)"
   ],
   "metadata": {
    "collapsed": false,
    "pycharm": {
     "name": "#%%\n"
    }
   }
  },
  {
   "cell_type": "code",
   "execution_count": 9,
   "outputs": [
    {
     "name": "stdout",
     "output_type": "stream",
     "text": [
      "Saving topology\n"
     ]
    },
    {
     "data": {
      "image/png": "[encoded data removed]",
      "text/plain": "<IPython.core.display.Image object>"
     },
     "execution_count": 9,
     "metadata": {},
     "output_type": "execute_result"
    }
   ],
   "source": [
    "print(\"Saving topology\")\n",
    "topology_name = \"{}_topology.png\".format(\"DNN\")\n",
    "plot_model(model.model, to_file=os.path.join(model_dir, topology_name), show_shapes=True)"
   ],
   "metadata": {
    "collapsed": false,
    "pycharm": {
     "name": "#%%\n"
    }
   }
  },
  {
   "cell_type": "code",
   "execution_count": 45,
   "outputs": [],
   "source": [],
   "metadata": {
    "collapsed": false,
    "pycharm": {
     "name": "#%%\n"
    }
   }
  }
 ],
 "metadata": {
  "kernelspec": {
   "display_name": "Python 3",
   "language": "python",
   "name": "python3"
  },
  "language_info": {
   "codemirror_mode": {
    "name": "ipython",
    "version": 2
   },
   "file_extension": ".py",
   "mimetype": "text/x-python",
   "name": "python",
   "nbconvert_exporter": "python",
   "pygments_lexer": "ipython2",
   "version": "2.7.6"
  }
 },
 "nbformat": 4,
 "nbformat_minor": 0
}